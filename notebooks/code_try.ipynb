{
  "cells": [
    {
      "cell_type": "markdown",
      "metadata": {
        "id": "56P4LeBEAcpN"
      },
      "source": [
        "# Convolutional neural network\n",
        "This part will show the code of the convolutional network "
      ]
    },
    {
      "cell_type": "code",
      "execution_count": 1,
      "metadata": {
        "colab": {
          "base_uri": "https://localhost:8080/"
        },
        "id": "yXtVSYPDAfJm",
        "outputId": "4a1b0208-61cf-43c2-e3c6-cb5ca4ece9ca"
      },
      "outputs": [
        {
          "name": "stdout",
          "output_type": "stream",
          "text": [
            "Mounted at /content/drive\n"
          ]
        }
      ],
      "source": [
        "##from google.colab import drive\n",
        "#drive.mount('/content/drive')"
      ]
    },
    {
      "cell_type": "code",
      "execution_count": 1,
      "metadata": {
        "colab": {
          "base_uri": "https://localhost:8080/"
        },
        "id": "yn7BP9lW-K6m",
        "outputId": "c7527a2c-c114-4048-b6db-08e8f153a689"
      },
      "outputs": [
        {
          "name": "stdout",
          "output_type": "stream",
          "text": [
            "Requirement already satisfied: pillow in /home/alejandrodf1/anaconda3/envs/teoria_project/lib/python3.7/site-packages (9.2.0)\n",
            "Collecting pydicom\n",
            "  Downloading pydicom-2.3.0-py3-none-any.whl (2.0 MB)\n",
            "\u001b[2K     \u001b[90m━━━━━━━━━━━━━━━━━━━━━━━━━━━━━━━━━━━━━━━━\u001b[0m \u001b[32m2.0/2.0 MB\u001b[0m \u001b[31m908.9 kB/s\u001b[0m eta \u001b[36m0:00:00\u001b[0m00:01\u001b[0m00:01\u001b[0m\n",
            "\u001b[?25hInstalling collected packages: pydicom\n",
            "Successfully installed pydicom-2.3.0\n"
          ]
        }
      ],
      "source": [
        "#!pip install pillow\n",
        "#!pip install pydicom\n"
      ]
    },
    {
      "cell_type": "code",
      "execution_count": 2,
      "metadata": {
        "colab": {
          "base_uri": "https://localhost:8080/"
        },
        "id": "nf0iSyXccAT9",
        "outputId": "5a464176-330b-4080-bc85-ce9763a68d09"
      },
      "outputs": [
        {
          "name": "stdout",
          "output_type": "stream",
          "text": [
            "Collecting pylibjpeg\n",
            "  Downloading pylibjpeg-1.4.0-py3-none-any.whl (28 kB)\n",
            "Collecting pylibjpeg-libjpeg\n",
            "  Downloading pylibjpeg_libjpeg-1.3.1-cp37-cp37m-manylinux_2_17_x86_64.manylinux2014_x86_64.whl (4.3 MB)\n",
            "\u001b[2K     \u001b[90m━━━━━━━━━━━━━━━━━━━━━━━━━━━━━━━━━━━━━━━━\u001b[0m \u001b[32m4.3/4.3 MB\u001b[0m \u001b[31m4.4 MB/s\u001b[0m eta \u001b[36m0:00:00\u001b[0m00:01\u001b[0m00:01\u001b[0m\n",
            "\u001b[?25hCollecting pylibjpeg-openjpeg\n",
            "  Downloading pylibjpeg_openjpeg-1.2.1-cp37-cp37m-manylinux_2_17_x86_64.manylinux2014_x86_64.whl (1.3 MB)\n",
            "\u001b[2K     \u001b[90m━━━━━━━━━━━━━━━━━━━━━━━━━━━━━━━━━━━━━━━━\u001b[0m \u001b[32m1.3/1.3 MB\u001b[0m \u001b[31m2.6 MB/s\u001b[0m eta \u001b[36m0:00:00\u001b[0m00:01\u001b[0m00:01\u001b[0m\n",
            "\u001b[?25hRequirement already satisfied: numpy in /home/alejandrodf1/anaconda3/envs/teoria_project/lib/python3.7/site-packages (from pylibjpeg) (1.21.6)\n",
            "Installing collected packages: pylibjpeg-openjpeg, pylibjpeg-libjpeg, pylibjpeg\n",
            "Successfully installed pylibjpeg-1.4.0 pylibjpeg-libjpeg-1.3.1 pylibjpeg-openjpeg-1.2.1\n"
          ]
        }
      ],
      "source": [
        "#!pip install pylibjpeg pylibjpeg-libjpeg pylibjpeg-openjpeg"
      ]
    },
    {
      "cell_type": "code",
      "execution_count": 3,
      "metadata": {
        "id": "ccqPFdexb-YD"
      },
      "outputs": [],
      "source": [
        "from PIL import Image\n",
        "import numpy as np\n",
        "import pandas as pd\n",
        "import pydicom\n",
        "import os"
      ]
    },
    {
      "cell_type": "code",
      "execution_count": 4,
      "metadata": {
        "id": "9ZfpdZLjAiyT"
      },
      "outputs": [],
      "source": [
        "def get_names(path):\n",
        "    names = []\n",
        "    for root, dirnames, filenames in os.walk(path):\n",
        "        for filename in filenames:\n",
        "            _, ext = os.path.splitext(filename)\n",
        "            if ext in ['.dcm']:\n",
        "                names.append(filename)\n",
        "    \n",
        "    return names"
      ]
    },
    {
      "cell_type": "code",
      "execution_count": 5,
      "metadata": {
        "id": "AlrBO_7ZGCQO"
      },
      "outputs": [],
      "source": [
        "def convert_dcm_jpg(name):\n",
        "    \n",
        "    im = pydicom.dcmread('/home/alejandrodf1/Documents/theory_project/manifest-1592488683281/C4KC-KiTS/KiTS-00000/06-29-2003-NA-threephaseabdomen-41748/10.000000-late-10134/'+name)\n",
        "\n",
        "    im = im.pixel_array.astype(float)\n",
        "\n",
        "    rescaled_image = (np.maximum(im,0)/im.max())*255 # float pixels\n",
        "    final_image = np.uint8(rescaled_image) # integers pixels\n",
        "\n",
        "    final_image = Image.fromarray(final_image)\n",
        "\n",
        "    return final_image"
      ]
    },
    {
      "cell_type": "code",
      "execution_count": 6,
      "metadata": {
        "id": "qBoVl2iwHRtc"
      },
      "outputs": [],
      "source": [
        "names = get_names('/home/alejandrodf1/Documents/theory_project/manifest-1592488683281/C4KC-KiTS/KiTS-00000/06-29-2003-NA-threephaseabdomen-41748/10.000000-late-10134')"
      ]
    },
    {
      "cell_type": "code",
      "execution_count": 7,
      "metadata": {
        "colab": {
          "base_uri": "https://localhost:8080/"
        },
        "id": "NQfH-dQSJfpO",
        "outputId": "4d9313dc-e7a8-4244-c35d-1ea7db3d0953"
      },
      "outputs": [
        {
          "data": {
            "text/plain": [
              "154"
            ]
          },
          "execution_count": 7,
          "metadata": {},
          "output_type": "execute_result"
        }
      ],
      "source": [
        "len(names)"
      ]
    },
    {
      "cell_type": "code",
      "execution_count": 8,
      "metadata": {
        "colab": {
          "base_uri": "https://localhost:8080/",
          "height": 432
        },
        "id": "WZSnriQSGJRB",
        "outputId": "32cc00fc-926b-4907-a503-a230a2b1c413"
      },
      "outputs": [],
      "source": [
        "for name in names:\n",
        "    image = convert_dcm_jpg(name)\n",
        "    image.save(name+'.png')"
      ]
    },
    {
      "cell_type": "code",
      "execution_count": 19,
      "metadata": {
        "id": "BK8HiGm6YT4h"
      },
      "outputs": [],
      "source": [
        "dirr = '/content/drive/MyDrive/manifest-1592488683281/C4KC-KiTS/KiTS-00001/11-13-2003-NA-threephaseabdomen-49621/300.000000-Segmentation-44409/1-1.dcm'\n",
        "ds = pydicom.dcmread(dirr)\n"
      ]
    },
    {
      "cell_type": "code",
      "execution_count": null,
      "metadata": {
        "id": "0m6TKsc0AcpU"
      },
      "outputs": [],
      "source": [
        "#!pip install pydicom\n",
        "#!pip install opencv-python"
      ]
    },
    {
      "cell_type": "code",
      "execution_count": 2,
      "metadata": {},
      "outputs": [],
      "source": [
        "%load_ext autoreload\n",
        "%autoreload 2"
      ]
    },
    {
      "cell_type": "markdown",
      "metadata": {},
      "source": [
        "# Image processing"
      ]
    },
    {
      "cell_type": "code",
      "execution_count": 51,
      "metadata": {
        "id": "L3PUqFO-AcpX"
      },
      "outputs": [],
      "source": [
        "import os  #directory operations\n",
        "import pandas as pd  #data nalysis\n",
        "import numpy as np\n",
        "import pydicom  #manage dicom files\n"
      ]
    },
    {
      "cell_type": "code",
      "execution_count": 3,
      "metadata": {
        "colab": {
          "base_uri": "https://localhost:8080/",
          "height": 269
        },
        "id": "JdolFJKfAcpY",
        "outputId": "e27d4e8f-eb47-4cf6-b4ba-b48f8ecf8183"
      },
      "outputs": [
        {
          "name": "stdout",
          "output_type": "stream",
          "text": [
            "['1-129.dcm', '1-086.dcm', '1-026.dcm', '1-077.dcm', '1-046.dcm', '1-047.dcm', '1-072.dcm', '1-033.dcm', '1-012.dcm', '1-090.dcm', '1-076.dcm', '1-153.dcm', '1-041.dcm', '1-113.dcm', '1-054.dcm', '1-058.dcm', '1-010.dcm', '1-127.dcm', '1-099.dcm', '1-051.dcm', '1-075.dcm', '1-068.dcm', '1-130.dcm', '1-062.dcm', '1-009.dcm', '1-019.dcm', '1-008.dcm', '1-035.dcm', '1-057.dcm', '1-018.dcm', '1-065.dcm', '1-013.dcm', '1-004.dcm', '1-119.dcm', '1-043.dcm', '1-055.dcm', '1-079.dcm', '1-140.dcm', '1-142.dcm', '1-106.dcm', '1-144.dcm', '1-074.dcm', '1-005.dcm', '1-122.dcm', '1-148.dcm', '1-132.dcm', '1-070.dcm', '1-149.dcm', '1-125.dcm', '1-094.dcm', '1-044.dcm', '1-154.dcm', '1-128.dcm', '1-037.dcm', '1-111.dcm', '1-131.dcm', '1-088.dcm', '1-136.dcm', '1-103.dcm', '1-143.dcm', '1-067.dcm', '1-007.dcm', '1-032.dcm', '1-071.dcm', '1-114.dcm', '1-048.dcm', '1-063.dcm', '1-091.dcm', '1-039.dcm', '1-045.dcm', '1-089.dcm', '1-145.dcm', '1-120.dcm', '1-116.dcm', '1-093.dcm', '1-121.dcm', '1-014.dcm', '1-056.dcm', '1-100.dcm', '1-066.dcm', '1-110.dcm', '1-001.dcm', '1-040.dcm', '1-104.dcm', '1-101.dcm', '1-025.dcm', '1-118.dcm', '1-021.dcm', '1-036.dcm', '1-134.dcm', '1-109.dcm', '1-073.dcm', '1-080.dcm', '1-096.dcm', '1-137.dcm', '1-151.dcm', '1-098.dcm', '1-078.dcm', '1-146.dcm', '1-141.dcm', '1-015.dcm', '1-082.dcm', '1-027.dcm', '1-061.dcm', '1-031.dcm', '1-024.dcm', '1-126.dcm', '1-038.dcm', '1-112.dcm', '1-085.dcm', '1-117.dcm', '1-017.dcm', '1-123.dcm', '1-003.dcm', '1-150.dcm', '1-147.dcm', '1-107.dcm', '1-030.dcm', '1-087.dcm', '1-084.dcm', '1-042.dcm', '1-115.dcm', '1-095.dcm', '1-023.dcm', '1-028.dcm', '1-050.dcm', '1-053.dcm', '1-016.dcm', '1-034.dcm', '1-138.dcm', '1-020.dcm', '1-139.dcm', '1-052.dcm', '1-064.dcm', '1-152.dcm', '1-006.dcm', '1-011.dcm', '1-135.dcm', '1-059.dcm', '1-081.dcm', '1-124.dcm', '1-049.dcm', '1-097.dcm', '1-108.dcm', '1-029.dcm', '1-092.dcm', '1-022.dcm', '1-069.dcm', '1-002.dcm', '1-102.dcm', '1-083.dcm', '1-060.dcm', '1-105.dcm', '1-133.dcm']\n"
          ]
        }
      ],
      "source": [
        "data_dir = '/home/alejandrodf1/Documents/theory_project/teoria_project/data/raw/10.000000-late-10134/'\n",
        "patients = os.listdir(data_dir)\n",
        "print(patients)\n",
        "#labels_df = pd.read_csv('/content/drive/MyDrive/manifest-1592488683281/clinical.csv', index_col=0)\n",
        "#labels_df.head()"
      ]
    },
    {
      "cell_type": "code",
      "execution_count": 4,
      "metadata": {},
      "outputs": [
        {
          "data": {
            "text/plain": [
              "'/home/alejandrodf1/Documents/theory_project/teoria_project/data/raw/10.000000-late-10134/1-129.dcm'"
            ]
          },
          "execution_count": 4,
          "metadata": {},
          "output_type": "execute_result"
        }
      ],
      "source": [
        "data_dir+patients[0]"
      ]
    },
    {
      "cell_type": "code",
      "execution_count": 6,
      "metadata": {},
      "outputs": [
        {
          "data": {
            "text/plain": [
              "Dataset.file_meta -------------------------------\n",
              "(0002, 0000) File Meta Information Group Length  UL: 206\n",
              "(0002, 0001) File Meta Information Version       OB: b'\\x00\\x01'\n",
              "(0002, 0002) Media Storage SOP Class UID         UI: CT Image Storage\n",
              "(0002, 0003) Media Storage SOP Instance UID      UI: 1.3.6.1.4.1.14519.5.2.1.6919.4624.277256203444452620057789744727\n",
              "(0002, 0010) Transfer Syntax UID                 UI: Explicit VR Little Endian\n",
              "(0002, 0012) Implementation Class UID            UI: 1.3.6.1.4.1.22213.1.143\n",
              "(0002, 0013) Implementation Version Name         SH: '0.5'\n",
              "(0002, 0016) Source Application Entity Title     AE: 'POSDA'\n",
              "-------------------------------------------------\n",
              "(0008, 0005) Specific Character Set              CS: 'ISO_IR 100'\n",
              "(0008, 0008) Image Type                          CS: ['ORIGINAL', 'PRIMARY', 'AXIAL', 'CT_SOM5 SPI']\n",
              "(0008, 0016) SOP Class UID                       UI: CT Image Storage\n",
              "(0008, 0018) SOP Instance UID                    UI: 1.3.6.1.4.1.14519.5.2.1.6919.4624.277256203444452620057789744727\n",
              "(0008, 0020) Study Date                          DA: '20030629'\n",
              "(0008, 0021) Series Date                         DA: '20030629'\n",
              "(0008, 0022) Acquisition Date                    DA: '20030629'\n",
              "(0008, 0023) Content Date                        DA: '20030629'\n",
              "(0008, 002a) Acquisition DateTime                DT: '20030629083936.684000'\n",
              "(0008, 0030) Study Time                          TM: '081517.464000'\n",
              "(0008, 0031) Series Time                         TM: '084203.697000'\n",
              "(0008, 0032) Acquisition Time                    TM: '083936.684000'\n",
              "(0008, 0033) Content Time                        TM: '083936.684000'\n",
              "(0008, 0050) Accession Number                    SH: ''\n",
              "(0008, 0060) Modality                            CS: 'CT'\n",
              "(0008, 0070) Manufacturer                        LO: 'SIEMENS'\n",
              "(0008, 0090) Referring Physician's Name          PN: ''\n",
              "(0008, 1030) Study Description                   LO: 'three_phase__abdomen'\n",
              "(0008, 1032)  Procedure Code Sequence  1 item(s) ---- \n",
              "   (0008, 0100) Code Value                          SH: 'IMG240'\n",
              "   (0008, 0102) Coding Scheme Designator            SH: 'LOCAL'\n",
              "   (0008, 0104) Code Meaning                        LO: 'CT ABDOMEN/PELVIS ANGIO WO & W CONTRAST'\n",
              "   ---------\n",
              "(0008, 103e) Series Description                  LO: 'late'\n",
              "(0008, 1090) Manufacturer's Model Name           LO: 'SOMATOM Definition Flash'\n",
              "(0008, 1110)  Referenced Study Sequence  1 item(s) ---- \n",
              "   (0008, 1150) Referenced SOP Class UID            UI: Detached Study Management SOP Class\n",
              "   (0008, 1155) Referenced SOP Instance UID         UI: 1.3.6.1.4.1.14519.5.2.1.6919.4624.135173370342136417423953641748\n",
              "   ---------\n",
              "(0008, 1140)  Referenced Image Sequence  1 item(s) ---- \n",
              "   (0008, 1150) Referenced SOP Class UID            UI: CT Image Storage\n",
              "   (0008, 1155) Referenced SOP Instance UID         UI: 1.3.6.1.4.1.14519.5.2.1.6919.4624.214942283565524569875542116362\n",
              "   ---------\n",
              "(0008, 2112)  Source Image Sequence  1 item(s) ---- \n",
              "   (0008, 1150) Referenced SOP Class UID            UI: 1.3.12.2.1107.5.9.1\n",
              "   (0008, 1155) Referenced SOP Instance UID         UI: 1.3.6.1.4.1.14519.5.2.1.6919.4624.831575950157387812377241053703\n",
              "   ---------\n",
              "(0008, 3010) Irradiation Event UID               UI: 1.3.6.1.4.1.14519.5.2.1.6919.4624.831575950157387812377241053703\n",
              "(0010, 0010) Patient's Name                      PN: 'KiTS-00000'\n",
              "(0010, 0020) Patient ID                          LO: 'KiTS-00000'\n",
              "(0010, 0030) Patient's Birth Date                DA: ''\n",
              "(0010, 0040) Patient's Sex                       CS: 'F'\n",
              "(0010, 1010) Patient's Age                       AS: '049Y'\n",
              "(0012, 0050) Clinical Trial Time Point ID        LO: '-54'\n",
              "(0012, 0051) Clinical Trial Time Point Descripti ST: 'Days offset from surgery'\n",
              "(0012, 0052) Longitudinal Temporal Offset from E FD: -54.0\n",
              "(0012, 0053) Longitudinal Temporal Event Type    CS: 'SURGERY'\n",
              "(0012, 0062) Patient Identity Removed            CS: 'YES'\n",
              "(0012, 0063) De-identification Method            LO: 'Per DICOM PS 3.15 AnnexE. Details in 0012,0064'\n",
              "(0012, 0064)  De-identification Method Code Sequence  8 item(s) ---- \n",
              "   (0008, 0100) Code Value                          SH: '113100'\n",
              "   (0008, 0102) Coding Scheme Designator            SH: 'DCM'\n",
              "   (0008, 0104) Code Meaning                        LO: 'Basic Application Confidentiality Profile'\n",
              "   ---------\n",
              "   (0008, 0100) Code Value                          SH: '113101'\n",
              "   (0008, 0102) Coding Scheme Designator            SH: 'DCM'\n",
              "   (0008, 0104) Code Meaning                        LO: 'Clean Pixel Data Option'\n",
              "   ---------\n",
              "   (0008, 0100) Code Value                          SH: '113104'\n",
              "   (0008, 0102) Coding Scheme Designator            SH: 'DCM'\n",
              "   (0008, 0104) Code Meaning                        LO: 'Clean Structured Content Option'\n",
              "   ---------\n",
              "   (0008, 0100) Code Value                          SH: '113105'\n",
              "   (0008, 0102) Coding Scheme Designator            SH: 'DCM'\n",
              "   (0008, 0104) Code Meaning                        LO: 'Clean Descriptors Option'\n",
              "   ---------\n",
              "   (0008, 0100) Code Value                          SH: '113107'\n",
              "   (0008, 0102) Coding Scheme Designator            SH: 'DCM'\n",
              "   (0008, 0104) Code Meaning                        LO: 'Retain Longitudinal Temporal Information Modified Dates Option'\n",
              "   ---------\n",
              "   (0008, 0100) Code Value                          SH: '113108'\n",
              "   (0008, 0102) Coding Scheme Designator            SH: 'DCM'\n",
              "   (0008, 0104) Code Meaning                        LO: 'Retain Patient Characteristics Option'\n",
              "   ---------\n",
              "   (0008, 0100) Code Value                          SH: '113109'\n",
              "   (0008, 0102) Coding Scheme Designator            SH: 'DCM'\n",
              "   (0008, 0104) Code Meaning                        LO: 'Retain Device Identity Option'\n",
              "   ---------\n",
              "   (0008, 0100) Code Value                          SH: '113111'\n",
              "   (0008, 0102) Coding Scheme Designator            SH: 'DCM'\n",
              "   (0008, 0104) Code Meaning                        LO: 'Retain Safe Private Option'\n",
              "   ---------\n",
              "(0013, 0010) Private Creator                     LO: 'CTP'\n",
              "(0013, 1010) Private tag data                    LO: 'C4KC-KiTS'\n",
              "(0013, 1013) Private tag data                    LO: '69194624'\n",
              "(0018, 0010) Contrast/Bolus Agent                LO: 'APPLIED'\n",
              "(0018, 0015) Body Part Examined                  CS: 'ABDOMEN'\n",
              "(0018, 0050) Slice Thickness                     DS: '3.0'\n",
              "(0018, 0060) KVP                                 DS: '120.0'\n",
              "(0018, 0090) Data Collection Diameter            DS: '500.0'\n",
              "(0018, 1020) Software Versions                   LO: 'syngo CT 2012B'\n",
              "(0018, 1030) Protocol Name                       LO: 'Renal_Donor'\n",
              "(0018, 1041) Contrast/Bolus Volume               DS: '0.0'\n",
              "(0018, 1042) Contrast/Bolus Start Time           TM: '083406.600017'\n",
              "(0018, 1043) Contrast/Bolus Stop Time            TM: '083406.600017'\n",
              "(0018, 1044) Contrast/Bolus Total Dose           DS: '0.0'\n",
              "(0018, 1046) Contrast Flow Rate                  DS: '0.0'\n",
              "(0018, 1047) Contrast Flow Duration              DS: '0.0'\n",
              "(0018, 1049) Contrast/Bolus Ingredient Concentra DS: '0.0'\n",
              "(0018, 1100) Reconstruction Diameter             DS: '474.0'\n",
              "(0018, 1110) Distance Source to Detector         DS: '1085.6'\n",
              "(0018, 1111) Distance Source to Patient          DS: '595.0'\n",
              "(0018, 1120) Gantry/Detector Tilt                DS: '0.0'\n",
              "(0018, 1130) Table Height                        DS: '174.5'\n",
              "(0018, 1140) Rotation Direction                  CS: 'CW'\n",
              "(0018, 1150) Exposure Time                       IS: '500'\n",
              "(0018, 1151) X-Ray Tube Current                  IS: '561'\n",
              "(0018, 1152) Exposure                            IS: '350'\n",
              "(0018, 1160) Filter Type                         SH: 'WEDGE_3'\n",
              "(0018, 1170) Generator Power                     IS: '60'\n",
              "(0018, 1190) Focal Spot(s)                       DS: '1.2'\n",
              "(0018, 1200) Date of Last Calibration            DA: '20030629'\n",
              "(0018, 1201) Time of Last Calibration            TM: ''\n",
              "(0018, 1210) Convolution Kernel                  SH: ['I30f', '1']\n",
              "(0018, 5100) Patient Position                    CS: 'HFS'\n",
              "(0018, 9306) Single Collimation Width            FD: 0.6\n",
              "(0018, 9307) Total Collimation Width             FD: 38.4\n",
              "(0018, 9309) Table Speed                         FD: 61.4\n",
              "(0018, 9310) Table Feed per Rotation             FD: 30.7\n",
              "(0018, 9311) Spiral Pitch Factor                 FD: 0.8\n",
              "(0018, 9313) Data Collection Center (Patient)    FD: [0.462890625, -174.037109375, -1003.7]\n",
              "(0018, 9318) Reconstruction Target Center (Patie FD: [-10.537109375, -174.037109375, -1003.7]\n",
              "(0018, 9323) Exposure Modulation Type            CS: 'XYZ_EC'\n",
              "(0018, 9324) Estimated Dose Saving               FD: 37.0\n",
              "(0018, 9345) CTDIvol                             FD: 23.67116804169381\n",
              "(0018, 9346)  CTDI Phantom Type Code Sequence  1 item(s) ---- \n",
              "   (0008, 0100) Code Value                          SH: '113691'\n",
              "   (0008, 0102) Coding Scheme Designator            SH: 'DCM'\n",
              "   (0008, 0104) Code Meaning                        LO: 'IEC Body Dosimetry Phantom'\n",
              "   ---------\n",
              "(0018, 9352) Calcium Scoring Mass Factor Device  FL: [0.7429999709129333, 0.7789999842643738, 0.8119999766349792]\n",
              "(0020, 000d) Study Instance UID                  UI: 1.3.6.1.4.1.14519.5.2.1.6919.4624.135173370342136417423953641748\n",
              "(0020, 000e) Series Instance UID                 UI: 1.3.6.1.4.1.14519.5.2.1.6919.4624.319956314021047038498210610134\n",
              "(0020, 0010) Study ID                            SH: ''\n",
              "(0020, 0011) Series Number                       IS: '10'\n",
              "(0020, 0012) Acquisition Number                  IS: '10'\n",
              "(0020, 0013) Instance Number                     IS: '129'\n",
              "(0020, 0032) Image Position (Patient)            DS: [-247.537109375, -411.037109375, -1003.7]\n",
              "(0020, 0037) Image Orientation (Patient)         DS: [1, 0, 0, 0, 1, 0]\n",
              "(0020, 0052) Frame of Reference UID              UI: 1.3.6.1.4.1.14519.5.2.1.6919.4624.331165373619380811556256694147\n",
              "(0020, 1040) Position Reference Indicator        LO: ''\n",
              "(0020, 1041) Slice Location                      DS: '-1003.7'\n",
              "(0020, 4000) Image Comments                      LT: ''\n",
              "(0028, 0002) Samples per Pixel                   US: 1\n",
              "(0028, 0004) Photometric Interpretation          CS: 'MONOCHROME2'\n",
              "(0028, 0010) Rows                                US: 512\n",
              "(0028, 0011) Columns                             US: 512\n",
              "(0028, 0030) Pixel Spacing                       DS: [0.92578125, 0.92578125]\n",
              "(0028, 0100) Bits Allocated                      US: 16\n",
              "(0028, 0101) Bits Stored                         US: 12\n",
              "(0028, 0102) High Bit                            US: 11\n",
              "(0028, 0103) Pixel Representation                US: 0\n",
              "(0028, 0106) Smallest Image Pixel Value          US: 0\n",
              "(0028, 0107) Largest Image Pixel Value           US: 2239\n",
              "(0028, 0303) Longitudinal Temporal Information M CS: 'MODIFIED'\n",
              "(0028, 1050) Window Center                       DS: [30, 300]\n",
              "(0028, 1051) Window Width                        DS: [350, 1500]\n",
              "(0028, 1052) Rescale Intercept                   DS: '-1024.0'\n",
              "(0028, 1053) Rescale Slope                       DS: '1.0'\n",
              "(0028, 1054) Rescale Type                        LO: 'HU'\n",
              "(0028, 1055) Window Center & Width Explanation   LO: ['WINDOW1', 'WINDOW2']\n",
              "(0032, 1060) Requested Procedure Description     LO: 'CT PELVIS ANGIO W/O & W CONTRAST'\n",
              "(0032, 1064)  Requested Procedure Code Sequence  1 item(s) ---- \n",
              "   (0008, 0100) Code Value                          SH: 'IMG216'\n",
              "   (0008, 0102) Coding Scheme Designator            SH: 'LOCAL'\n",
              "   (0008, 0104) Code Meaning                        LO: 'CT PELVIS ANGIO W/O & W CONTRAST'\n",
              "   ---------\n",
              "(7fe0, 0010) Pixel Data                          OW: Array of 524288 elements"
            ]
          },
          "execution_count": 6,
          "metadata": {},
          "output_type": "execute_result"
        }
      ],
      "source": [
        "#pydicom.read_file(data_dir+patients[0])"
      ]
    },
    {
      "cell_type": "code",
      "execution_count": 48,
      "metadata": {
        "colab": {
          "base_uri": "https://localhost:8080/",
          "height": 356
        },
        "id": "Fbn-sfRqAcpZ",
        "outputId": "4ac4e4d7-37ba-4abd-eaa0-20db13a3f899"
      },
      "outputs": [
        {
          "name": "stdout",
          "output_type": "stream",
          "text": [
            "(512, 512) 1\n",
            "(512, 512) 2\n",
            "(512, 512) 3\n",
            "(512, 512) 4\n",
            "(512, 512) 5\n",
            "(512, 512) 6\n",
            "(512, 512) 7\n",
            "(512, 512) 8\n",
            "(512, 512) 9\n",
            "(512, 512) 10\n",
            "(512, 512) 11\n",
            "(512, 512) 12\n",
            "(512, 512) 13\n",
            "(512, 512) 14\n",
            "(512, 512) 15\n",
            "(512, 512) 16\n",
            "(512, 512) 17\n",
            "(512, 512) 18\n",
            "(512, 512) 19\n",
            "(512, 512) 20\n",
            "(512, 512) 21\n",
            "(512, 512) 22\n",
            "(512, 512) 23\n",
            "(512, 512) 24\n",
            "(512, 512) 25\n",
            "(512, 512) 26\n",
            "(512, 512) 27\n",
            "(512, 512) 28\n",
            "(512, 512) 29\n",
            "(512, 512) 30\n",
            "(512, 512) 31\n",
            "(512, 512) 32\n",
            "(512, 512) 33\n",
            "(512, 512) 34\n",
            "(512, 512) 35\n",
            "(512, 512) 36\n",
            "(512, 512) 37\n",
            "(512, 512) 38\n",
            "(512, 512) 39\n",
            "(512, 512) 40\n",
            "(512, 512) 41\n",
            "(512, 512) 42\n",
            "(512, 512) 43\n",
            "(512, 512) 44\n",
            "(512, 512) 45\n",
            "(512, 512) 46\n",
            "(512, 512) 47\n",
            "(512, 512) 48\n",
            "(512, 512) 49\n",
            "(512, 512) 50\n",
            "(512, 512) 51\n",
            "(512, 512) 52\n",
            "(512, 512) 53\n",
            "(512, 512) 54\n",
            "(512, 512) 55\n",
            "(512, 512) 56\n",
            "(512, 512) 57\n",
            "(512, 512) 58\n",
            "(512, 512) 59\n",
            "(512, 512) 60\n",
            "(512, 512) 61\n",
            "(512, 512) 62\n",
            "(512, 512) 63\n",
            "(512, 512) 64\n",
            "(512, 512) 65\n",
            "(512, 512) 66\n",
            "(512, 512) 67\n",
            "(512, 512) 68\n",
            "(512, 512) 69\n",
            "(512, 512) 70\n",
            "(512, 512) 71\n",
            "(512, 512) 72\n",
            "(512, 512) 73\n",
            "(512, 512) 74\n",
            "(512, 512) 75\n",
            "(512, 512) 76\n",
            "(512, 512) 77\n",
            "(512, 512) 78\n",
            "(512, 512) 79\n",
            "(512, 512) 80\n",
            "(512, 512) 81\n",
            "(512, 512) 82\n",
            "(512, 512) 83\n",
            "(512, 512) 84\n",
            "(512, 512) 85\n",
            "(512, 512) 86\n",
            "(512, 512) 87\n",
            "(512, 512) 88\n",
            "(512, 512) 89\n",
            "(512, 512) 90\n",
            "(512, 512) 91\n",
            "(512, 512) 92\n",
            "(512, 512) 93\n",
            "(512, 512) 94\n",
            "(512, 512) 95\n",
            "(512, 512) 96\n",
            "(512, 512) 97\n",
            "(512, 512) 98\n",
            "(512, 512) 99\n",
            "(512, 512) 100\n",
            "(512, 512) 101\n",
            "(512, 512) 102\n",
            "(512, 512) 103\n",
            "(512, 512) 104\n",
            "(512, 512) 105\n",
            "(512, 512) 106\n",
            "(512, 512) 107\n",
            "(512, 512) 108\n",
            "(512, 512) 109\n",
            "(512, 512) 110\n",
            "(512, 512) 111\n",
            "(512, 512) 112\n",
            "(512, 512) 113\n",
            "(512, 512) 114\n",
            "(512, 512) 115\n",
            "(512, 512) 116\n",
            "(512, 512) 117\n",
            "(512, 512) 118\n",
            "(512, 512) 119\n",
            "(512, 512) 120\n",
            "(512, 512) 121\n",
            "(512, 512) 122\n",
            "(512, 512) 123\n",
            "(512, 512) 124\n",
            "(512, 512) 125\n",
            "(512, 512) 126\n",
            "(512, 512) 127\n",
            "(512, 512) 128\n",
            "(512, 512) 129\n",
            "(512, 512) 130\n",
            "(512, 512) 131\n",
            "(512, 512) 132\n",
            "(512, 512) 133\n",
            "(512, 512) 134\n",
            "(512, 512) 135\n",
            "(512, 512) 136\n",
            "(512, 512) 137\n",
            "(512, 512) 138\n",
            "(512, 512) 139\n",
            "(512, 512) 140\n",
            "(512, 512) 141\n",
            "(512, 512) 142\n",
            "(512, 512) 143\n",
            "(512, 512) 144\n",
            "(512, 512) 145\n",
            "(512, 512) 146\n",
            "(512, 512) 147\n",
            "(512, 512) 148\n",
            "(512, 512) 149\n",
            "(512, 512) 150\n",
            "(512, 512) 151\n",
            "(512, 512) 152\n",
            "(512, 512) 153\n",
            "(512, 512) 154\n"
          ]
        }
      ],
      "source": [
        "slices=[]\n",
        "for patient in patients[::1]:\n",
        "    #label = labels_df.get_value(patient, 'cancer')\n",
        "    #print(patient)\n",
        "    path = data_dir + patient\n",
        "    #print(os.listdir(path))\n",
        "    slices.append(pydicom.read_file(data_dir + patient))  #obtengo todas las imagenes dicom\n",
        "    print(slices[0].pixel_array.shape, len(slices))\n",
        "    #slices =[pydicom.read_file(s) for s in path]\n",
        "\n"
      ]
    },
    {
      "cell_type": "code",
      "execution_count": 43,
      "metadata": {},
      "outputs": [
        {
          "name": "stdout",
          "output_type": "stream",
          "text": [
            "1\n",
            "Dataset.file_meta -------------------------------\n",
            "(0002, 0000) File Meta Information Group Length  UL: 206\n",
            "(0002, 0001) File Meta Information Version       OB: b'\\x00\\x01'\n",
            "(0002, 0002) Media Storage SOP Class UID         UI: CT Image Storage\n",
            "(0002, 0003) Media Storage SOP Instance UID      UI: 1.3.6.1.4.1.14519.5.2.1.6919.4624.277256203444452620057789744727\n",
            "(0002, 0010) Transfer Syntax UID                 UI: Explicit VR Little Endian\n",
            "(0002, 0012) Implementation Class UID            UI: 1.3.6.1.4.1.22213.1.143\n",
            "(0002, 0013) Implementation Version Name         SH: '0.5'\n",
            "(0002, 0016) Source Application Entity Title     AE: 'POSDA'\n",
            "-------------------------------------------------\n",
            "(0008, 0005) Specific Character Set              CS: 'ISO_IR 100'\n",
            "(0008, 0008) Image Type                          CS: ['ORIGINAL', 'PRIMARY', 'AXIAL', 'CT_SOM5 SPI']\n",
            "(0008, 0016) SOP Class UID                       UI: CT Image Storage\n",
            "(0008, 0018) SOP Instance UID                    UI: 1.3.6.1.4.1.14519.5.2.1.6919.4624.277256203444452620057789744727\n",
            "(0008, 0020) Study Date                          DA: '20030629'\n",
            "(0008, 0021) Series Date                         DA: '20030629'\n",
            "(0008, 0022) Acquisition Date                    DA: '20030629'\n",
            "(0008, 0023) Content Date                        DA: '20030629'\n",
            "(0008, 002a) Acquisition DateTime                DT: '20030629083936.684000'\n",
            "(0008, 0030) Study Time                          TM: '081517.464000'\n",
            "(0008, 0031) Series Time                         TM: '084203.697000'\n",
            "(0008, 0032) Acquisition Time                    TM: '083936.684000'\n",
            "(0008, 0033) Content Time                        TM: '083936.684000'\n",
            "(0008, 0050) Accession Number                    SH: ''\n",
            "(0008, 0060) Modality                            CS: 'CT'\n",
            "(0008, 0070) Manufacturer                        LO: 'SIEMENS'\n",
            "(0008, 0090) Referring Physician's Name          PN: ''\n",
            "(0008, 1030) Study Description                   LO: 'three_phase__abdomen'\n",
            "(0008, 1032)  Procedure Code Sequence  1 item(s) ---- \n",
            "   (0008, 0100) Code Value                          SH: 'IMG240'\n",
            "   (0008, 0102) Coding Scheme Designator            SH: 'LOCAL'\n",
            "   (0008, 0104) Code Meaning                        LO: 'CT ABDOMEN/PELVIS ANGIO WO & W CONTRAST'\n",
            "   ---------\n",
            "(0008, 103e) Series Description                  LO: 'late'\n",
            "(0008, 1090) Manufacturer's Model Name           LO: 'SOMATOM Definition Flash'\n",
            "(0008, 1110)  Referenced Study Sequence  1 item(s) ---- \n",
            "   (0008, 1150) Referenced SOP Class UID            UI: Detached Study Management SOP Class\n",
            "   (0008, 1155) Referenced SOP Instance UID         UI: 1.3.6.1.4.1.14519.5.2.1.6919.4624.135173370342136417423953641748\n",
            "   ---------\n",
            "(0008, 1140)  Referenced Image Sequence  1 item(s) ---- \n",
            "   (0008, 1150) Referenced SOP Class UID            UI: CT Image Storage\n",
            "   (0008, 1155) Referenced SOP Instance UID         UI: 1.3.6.1.4.1.14519.5.2.1.6919.4624.214942283565524569875542116362\n",
            "   ---------\n",
            "(0008, 2112)  Source Image Sequence  1 item(s) ---- \n",
            "   (0008, 1150) Referenced SOP Class UID            UI: 1.3.12.2.1107.5.9.1\n",
            "   (0008, 1155) Referenced SOP Instance UID         UI: 1.3.6.1.4.1.14519.5.2.1.6919.4624.831575950157387812377241053703\n",
            "   ---------\n",
            "(0008, 3010) Irradiation Event UID               UI: 1.3.6.1.4.1.14519.5.2.1.6919.4624.831575950157387812377241053703\n",
            "(0010, 0010) Patient's Name                      PN: 'KiTS-00000'\n",
            "(0010, 0020) Patient ID                          LO: 'KiTS-00000'\n",
            "(0010, 0030) Patient's Birth Date                DA: ''\n",
            "(0010, 0040) Patient's Sex                       CS: 'F'\n",
            "(0010, 1010) Patient's Age                       AS: '049Y'\n",
            "(0012, 0050) Clinical Trial Time Point ID        LO: '-54'\n",
            "(0012, 0051) Clinical Trial Time Point Descripti ST: 'Days offset from surgery'\n",
            "(0012, 0052) Longitudinal Temporal Offset from E FD: -54.0\n",
            "(0012, 0053) Longitudinal Temporal Event Type    CS: 'SURGERY'\n",
            "(0012, 0062) Patient Identity Removed            CS: 'YES'\n",
            "(0012, 0063) De-identification Method            LO: 'Per DICOM PS 3.15 AnnexE. Details in 0012,0064'\n",
            "(0012, 0064)  De-identification Method Code Sequence  8 item(s) ---- \n",
            "   (0008, 0100) Code Value                          SH: '113100'\n",
            "   (0008, 0102) Coding Scheme Designator            SH: 'DCM'\n",
            "   (0008, 0104) Code Meaning                        LO: 'Basic Application Confidentiality Profile'\n",
            "   ---------\n",
            "   (0008, 0100) Code Value                          SH: '113101'\n",
            "   (0008, 0102) Coding Scheme Designator            SH: 'DCM'\n",
            "   (0008, 0104) Code Meaning                        LO: 'Clean Pixel Data Option'\n",
            "   ---------\n",
            "   (0008, 0100) Code Value                          SH: '113104'\n",
            "   (0008, 0102) Coding Scheme Designator            SH: 'DCM'\n",
            "   (0008, 0104) Code Meaning                        LO: 'Clean Structured Content Option'\n",
            "   ---------\n",
            "   (0008, 0100) Code Value                          SH: '113105'\n",
            "   (0008, 0102) Coding Scheme Designator            SH: 'DCM'\n",
            "   (0008, 0104) Code Meaning                        LO: 'Clean Descriptors Option'\n",
            "   ---------\n",
            "   (0008, 0100) Code Value                          SH: '113107'\n",
            "   (0008, 0102) Coding Scheme Designator            SH: 'DCM'\n",
            "   (0008, 0104) Code Meaning                        LO: 'Retain Longitudinal Temporal Information Modified Dates Option'\n",
            "   ---------\n",
            "   (0008, 0100) Code Value                          SH: '113108'\n",
            "   (0008, 0102) Coding Scheme Designator            SH: 'DCM'\n",
            "   (0008, 0104) Code Meaning                        LO: 'Retain Patient Characteristics Option'\n",
            "   ---------\n",
            "   (0008, 0100) Code Value                          SH: '113109'\n",
            "   (0008, 0102) Coding Scheme Designator            SH: 'DCM'\n",
            "   (0008, 0104) Code Meaning                        LO: 'Retain Device Identity Option'\n",
            "   ---------\n",
            "   (0008, 0100) Code Value                          SH: '113111'\n",
            "   (0008, 0102) Coding Scheme Designator            SH: 'DCM'\n",
            "   (0008, 0104) Code Meaning                        LO: 'Retain Safe Private Option'\n",
            "   ---------\n",
            "(0013, 0010) Private Creator                     LO: 'CTP'\n",
            "(0013, 1010) Private tag data                    LO: 'C4KC-KiTS'\n",
            "(0013, 1013) Private tag data                    LO: '69194624'\n",
            "(0018, 0010) Contrast/Bolus Agent                LO: 'APPLIED'\n",
            "(0018, 0015) Body Part Examined                  CS: 'ABDOMEN'\n",
            "(0018, 0050) Slice Thickness                     DS: '3.0'\n",
            "(0018, 0060) KVP                                 DS: '120.0'\n",
            "(0018, 0090) Data Collection Diameter            DS: '500.0'\n",
            "(0018, 1020) Software Versions                   LO: 'syngo CT 2012B'\n",
            "(0018, 1030) Protocol Name                       LO: 'Renal_Donor'\n",
            "(0018, 1041) Contrast/Bolus Volume               DS: '0.0'\n",
            "(0018, 1042) Contrast/Bolus Start Time           TM: '083406.600017'\n",
            "(0018, 1043) Contrast/Bolus Stop Time            TM: '083406.600017'\n",
            "(0018, 1044) Contrast/Bolus Total Dose           DS: '0.0'\n",
            "(0018, 1046) Contrast Flow Rate                  DS: '0.0'\n",
            "(0018, 1047) Contrast Flow Duration              DS: '0.0'\n",
            "(0018, 1049) Contrast/Bolus Ingredient Concentra DS: '0.0'\n",
            "(0018, 1100) Reconstruction Diameter             DS: '474.0'\n",
            "(0018, 1110) Distance Source to Detector         DS: '1085.6'\n",
            "(0018, 1111) Distance Source to Patient          DS: '595.0'\n",
            "(0018, 1120) Gantry/Detector Tilt                DS: '0.0'\n",
            "(0018, 1130) Table Height                        DS: '174.5'\n",
            "(0018, 1140) Rotation Direction                  CS: 'CW'\n",
            "(0018, 1150) Exposure Time                       IS: '500'\n",
            "(0018, 1151) X-Ray Tube Current                  IS: '561'\n",
            "(0018, 1152) Exposure                            IS: '350'\n",
            "(0018, 1160) Filter Type                         SH: 'WEDGE_3'\n",
            "(0018, 1170) Generator Power                     IS: '60'\n",
            "(0018, 1190) Focal Spot(s)                       DS: '1.2'\n",
            "(0018, 1200) Date of Last Calibration            DA: '20030629'\n",
            "(0018, 1201) Time of Last Calibration            TM: ''\n",
            "(0018, 1210) Convolution Kernel                  SH: ['I30f', '1']\n",
            "(0018, 5100) Patient Position                    CS: 'HFS'\n",
            "(0018, 9306) Single Collimation Width            FD: 0.6\n",
            "(0018, 9307) Total Collimation Width             FD: 38.4\n",
            "(0018, 9309) Table Speed                         FD: 61.4\n",
            "(0018, 9310) Table Feed per Rotation             FD: 30.7\n",
            "(0018, 9311) Spiral Pitch Factor                 FD: 0.8\n",
            "(0018, 9313) Data Collection Center (Patient)    FD: [0.462890625, -174.037109375, -1003.7]\n",
            "(0018, 9318) Reconstruction Target Center (Patie FD: [-10.537109375, -174.037109375, -1003.7]\n",
            "(0018, 9323) Exposure Modulation Type            CS: 'XYZ_EC'\n",
            "(0018, 9324) Estimated Dose Saving               FD: 37.0\n",
            "(0018, 9345) CTDIvol                             FD: 23.67116804169381\n",
            "(0018, 9346)  CTDI Phantom Type Code Sequence  1 item(s) ---- \n",
            "   (0008, 0100) Code Value                          SH: '113691'\n",
            "   (0008, 0102) Coding Scheme Designator            SH: 'DCM'\n",
            "   (0008, 0104) Code Meaning                        LO: 'IEC Body Dosimetry Phantom'\n",
            "   ---------\n",
            "(0018, 9352) Calcium Scoring Mass Factor Device  FL: [0.7429999709129333, 0.7789999842643738, 0.8119999766349792]\n",
            "(0020, 000d) Study Instance UID                  UI: 1.3.6.1.4.1.14519.5.2.1.6919.4624.135173370342136417423953641748\n",
            "(0020, 000e) Series Instance UID                 UI: 1.3.6.1.4.1.14519.5.2.1.6919.4624.319956314021047038498210610134\n",
            "(0020, 0010) Study ID                            SH: ''\n",
            "(0020, 0011) Series Number                       IS: '10'\n",
            "(0020, 0012) Acquisition Number                  IS: '10'\n",
            "(0020, 0013) Instance Number                     IS: '129'\n",
            "(0020, 0032) Image Position (Patient)            DS: [-247.537109375, -411.037109375, -1003.7]\n",
            "(0020, 0037) Image Orientation (Patient)         DS: [1, 0, 0, 0, 1, 0]\n",
            "(0020, 0052) Frame of Reference UID              UI: 1.3.6.1.4.1.14519.5.2.1.6919.4624.331165373619380811556256694147\n",
            "(0020, 1040) Position Reference Indicator        LO: ''\n",
            "(0020, 1041) Slice Location                      DS: '-1003.7'\n",
            "(0020, 4000) Image Comments                      LT: ''\n",
            "(0028, 0002) Samples per Pixel                   US: 1\n",
            "(0028, 0004) Photometric Interpretation          CS: 'MONOCHROME2'\n",
            "(0028, 0010) Rows                                US: 512\n",
            "(0028, 0011) Columns                             US: 512\n",
            "(0028, 0030) Pixel Spacing                       DS: [0.92578125, 0.92578125]\n",
            "(0028, 0100) Bits Allocated                      US: 16\n",
            "(0028, 0101) Bits Stored                         US: 12\n",
            "(0028, 0102) High Bit                            US: 11\n",
            "(0028, 0103) Pixel Representation                US: 0\n",
            "(0028, 0106) Smallest Image Pixel Value          US: 0\n",
            "(0028, 0107) Largest Image Pixel Value           US: 2239\n",
            "(0028, 0303) Longitudinal Temporal Information M CS: 'MODIFIED'\n",
            "(0028, 1050) Window Center                       DS: [30, 300]\n",
            "(0028, 1051) Window Width                        DS: [350, 1500]\n",
            "(0028, 1052) Rescale Intercept                   DS: '-1024.0'\n",
            "(0028, 1053) Rescale Slope                       DS: '1.0'\n",
            "(0028, 1054) Rescale Type                        LO: 'HU'\n",
            "(0028, 1055) Window Center & Width Explanation   LO: ['WINDOW1', 'WINDOW2']\n",
            "(0032, 1060) Requested Procedure Description     LO: 'CT PELVIS ANGIO W/O & W CONTRAST'\n",
            "(0032, 1064)  Requested Procedure Code Sequence  1 item(s) ---- \n",
            "   (0008, 0100) Code Value                          SH: 'IMG216'\n",
            "   (0008, 0102) Coding Scheme Designator            SH: 'LOCAL'\n",
            "   (0008, 0104) Code Meaning                        LO: 'CT PELVIS ANGIO W/O & W CONTRAST'\n",
            "   ---------\n",
            "(7fe0, 0010) Pixel Data                          OW: Array of 524288 elements\n"
          ]
        }
      ],
      "source": [
        "slices.sort(key=lambda x: int(x.ImagePositionPatient[2]))\n",
        "print(len(slices))\n",
        "print(slices[0])    "
      ]
    },
    {
      "cell_type": "code",
      "execution_count": 49,
      "metadata": {},
      "outputs": [
        {
          "data": {
            "text/plain": [
              "154"
            ]
          },
          "execution_count": 49,
          "metadata": {},
          "output_type": "execute_result"
        }
      ],
      "source": [
        "len(slices)"
      ]
    },
    {
      "cell_type": "code",
      "execution_count": 46,
      "metadata": {},
      "outputs": [
        {
          "name": "stdout",
          "output_type": "stream",
          "text": [
            "(512, 512) 1\n",
            "(512, 512) 2\n",
            "(512, 512) 3\n"
          ]
        },
        {
          "data": {
            "text/plain": [
              "3"
            ]
          },
          "execution_count": 46,
          "metadata": {},
          "output_type": "execute_result"
        }
      ],
      "source": [
        "slices=[]\n",
        "for patient in patients[:3]:\n",
        "    #label = labels_df.get_value(patient, 'cancer')\n",
        "    #print(patient)\n",
        "    path = data_dir + patient\n",
        "    #print(os.listdir(path))\n",
        "    slices.append(pydicom.read_file(data_dir + patient))  #obtengo todas las imagenes dicom\n",
        "    #slices =[pydicom.read_file(s) for s in path]\n",
        "    print(slices[0].pixel_array.shape, len(slices))\n",
        "len(slices)"
      ]
    },
    {
      "cell_type": "markdown",
      "metadata": {},
      "source": [
        "# Visualization"
      ]
    },
    {
      "cell_type": "code",
      "execution_count": 50,
      "metadata": {},
      "outputs": [],
      "source": [
        "import matplotlib.pyplot as plt"
      ]
    },
    {
      "cell_type": "code",
      "execution_count": 53,
      "metadata": {},
      "outputs": [
        {
          "data": {
            "image/png": "[encoded data removed]",
            "text/plain": [
              "<Figure size 640x480 with 1 Axes>"
            ]
          },
          "metadata": {},
          "output_type": "display_data"
        }
      ],
      "source": [
        "slices = []\n",
        "for patient in patients[:1]:\n",
        "    path = data_dir + patient\n",
        "    slices.append(pydicom.read_file(data_dir + patient))\n",
        "    slices.sort(key = lambda x: int(x.ImagePositionPatient[2]))\n",
        "    \n",
        "    #          the first slice\n",
        "    plt.imshow(slices[0].pixel_array)\n",
        "    plt.show()"
      ]
    },
    {
      "cell_type": "code",
      "execution_count": 54,
      "metadata": {
        "id": "Ffsj3QEVAcpa",
        "outputId": "78ca97e6-49cb-4cd4-9e1d-14f332b7e08d"
      },
      "outputs": [
        {
          "ename": "ModuleNotFoundError",
          "evalue": "No module named 'cv2'",
          "output_type": "error",
          "traceback": [
            "\u001b[0;31m---------------------------------------------------------------------------\u001b[0m",
            "\u001b[0;31mModuleNotFoundError\u001b[0m                       Traceback (most recent call last)",
            "\u001b[0;32m/tmp/ipykernel_448/571303353.py\u001b[0m in \u001b[0;36m<module>\u001b[0;34m\u001b[0m\n\u001b[0;32m----> 1\u001b[0;31m \u001b[0;32mimport\u001b[0m \u001b[0mcv2\u001b[0m\u001b[0;34m\u001b[0m\u001b[0;34m\u001b[0m\u001b[0m\n\u001b[0m",
            "\u001b[0;31mModuleNotFoundError\u001b[0m: No module named 'cv2'"
          ]
        }
      ],
      "source": [
        "import cv2"
      ]
    },
    {
      "cell_type": "code",
      "execution_count": null,
      "metadata": {
        "id": "qPLjd8nvAcpb",
        "outputId": "a38d69ac-3dd3-4832-c5d8-cbb32611718a"
      },
      "outputs": [
        {
          "data": {
            "application/vnd.deepnote.dataframe.v3+json": {
              "column_count": 60,
              "columns": [
                {
                  "dtype": "object",
                  "name": "patient_id",
                  "stats": {
                    "categories": [
                      {
                        "count": 1,
                        "name": "KiTS-00180"
                      },
                      {
                        "count": 1,
                        "name": "KiTS-00181"
                      },
                      {
                        "count": 28,
                        "name": "28 others"
                      }
                    ],
                    "nan_count": 0,
                    "unique_count": 30
                  }
                },
                {
                  "dtype": "int64",
                  "name": "age_at_nephrectomy",
                  "stats": {
                    "histogram": [
                      {
                        "bin_end": 41.7,
                        "bin_start": 37,
                        "count": 3
                      },
                      {
                        "bin_end": 46.4,
                        "bin_start": 41.7,
                        "count": 2
                      },
                      {
                        "bin_end": 51.1,
                        "bin_start": 46.4,
                        "count": 2
                      },
                      {
                        "bin_end": 55.8,
                        "bin_start": 51.1,
                        "count": 1
                      },
                      {
                        "bin_end": 60.5,
                        "bin_start": 55.8,
                        "count": 3
                      },
                      {
                        "bin_end": 65.2,
                        "bin_start": 60.5,
                        "count": 8
                      },
                      {
                        "bin_end": 69.9,
                        "bin_start": 65.2,
                        "count": 3
                      },
                      {
                        "bin_end": 74.6,
                        "bin_start": 69.9,
                        "count": 3
                      },
                      {
                        "bin_end": 79.30000000000001,
                        "bin_start": 74.6,
                        "count": 2
                      },
                      {
                        "bin_end": 84,
                        "bin_start": 79.30000000000001,
                        "count": 3
                      }
                    ],
                    "max": "84",
                    "min": "37",
                    "nan_count": 0,
                    "unique_count": 23
                  }
                },
                {
                  "dtype": "object",
                  "name": "gender",
                  "stats": {
                    "categories": [
                      {
                        "count": 22,
                        "name": "male"
                      },
                      {
                        "count": 8,
                        "name": "female"
                      }
                    ],
                    "nan_count": 0,
                    "unique_count": 2
                  }
                },
                {
                  "dtype": "float64",
                  "name": "body_mass_index",
                  "stats": {
                    "histogram": [
                      {
                        "bin_end": 18.915,
                        "bin_start": 16.2,
                        "count": 1
                      },
                      {
                        "bin_end": 21.63,
                        "bin_start": 18.915,
                        "count": 0
                      },
                      {
                        "bin_end": 24.345,
                        "bin_start": 21.63,
                        "count": 6
                      },
                      {
                        "bin_end": 27.060000000000002,
                        "bin_start": 24.345,
                        "count": 3
                      },
                      {
                        "bin_end": 29.775,
                        "bin_start": 27.060000000000002,
                        "count": 7
                      },
                      {
                        "bin_end": 32.49,
                        "bin_start": 29.775,
                        "count": 7
                      },
                      {
                        "bin_end": 35.205,
                        "bin_start": 32.49,
                        "count": 1
                      },
                      {
                        "bin_end": 37.92,
                        "bin_start": 35.205,
                        "count": 1
                      },
                      {
                        "bin_end": 40.635000000000005,
                        "bin_start": 37.92,
                        "count": 1
                      },
                      {
                        "bin_end": 43.35,
                        "bin_start": 40.635000000000005,
                        "count": 3
                      }
                    ],
                    "max": "43.35",
                    "min": "16.2",
                    "nan_count": 0,
                    "unique_count": 30
                  }
                },
                {
                  "dtype": "bool",
                  "name": "comorbidities__myocardial_infarction",
                  "stats": {
                    "categories": [
                      {
                        "count": 30,
                        "name": "False"
                      }
                    ],
                    "nan_count": 0,
                    "unique_count": 1
                  }
                },
                {
                  "dtype": "bool",
                  "name": "comorbidities__congestive_heart_failure",
                  "stats": {
                    "categories": [
                      {
                        "count": 30,
                        "name": "False"
                      }
                    ],
                    "nan_count": 0,
                    "unique_count": 1
                  }
                },
                {
                  "dtype": "bool",
                  "name": "comorbidities__peripheral_vascular_disease",
                  "stats": {
                    "categories": [
                      {
                        "count": 30,
                        "name": "False"
                      }
                    ],
                    "nan_count": 0,
                    "unique_count": 1
                  }
                },
                {
                  "dtype": "bool",
                  "name": "comorbidities__cerebrovascular_disease",
                  "stats": {
                    "categories": [
                      {
                        "count": 29,
                        "name": "False"
                      },
                      {
                        "count": 1,
                        "name": "True"
                      }
                    ],
                    "nan_count": 0,
                    "unique_count": 2
                  }
                },
                {
                  "dtype": "bool",
                  "name": "comorbidities__dementia",
                  "stats": {
                    "categories": [
                      {
                        "count": 30,
                        "name": "False"
                      }
                    ],
                    "nan_count": 0,
                    "unique_count": 1
                  }
                },
                {
                  "dtype": "bool",
                  "name": "comorbidities__copd",
                  "stats": {
                    "categories": [
                      {
                        "count": 28,
                        "name": "False"
                      },
                      {
                        "count": 2,
                        "name": "True"
                      }
                    ],
                    "nan_count": 0,
                    "unique_count": 2
                  }
                },
                {
                  "dtype": "bool",
                  "name": "comorbidities__connective_tissue_disease",
                  "stats": {
                    "categories": [
                      {
                        "count": 30,
                        "name": "False"
                      }
                    ],
                    "nan_count": 0,
                    "unique_count": 1
                  }
                },
                {
                  "dtype": "bool",
                  "name": "comorbidities__peptic_ulcer_disease",
                  "stats": {
                    "categories": [
                      {
                        "count": 30,
                        "name": "False"
                      }
                    ],
                    "nan_count": 0,
                    "unique_count": 1
                  }
                },
                {
                  "dtype": "bool",
                  "name": "comorbidities__uncomplicated_diabetes_mellitus",
                  "stats": {
                    "categories": [
                      {
                        "count": 24,
                        "name": "False"
                      },
                      {
                        "count": 6,
                        "name": "True"
                      }
                    ],
                    "nan_count": 0,
                    "unique_count": 2
                  }
                },
                {
                  "dtype": "bool",
                  "name": "comorbidities__diabetes_mellitus_with_end_organ_damage",
                  "stats": {
                    "categories": [
                      {
                        "count": 29,
                        "name": "False"
                      },
                      {
                        "count": 1,
                        "name": "True"
                      }
                    ],
                    "nan_count": 0,
                    "unique_count": 2
                  }
                },
                {
                  "dtype": "bool",
                  "name": "comorbidities__chronic_kidney_disease",
                  "stats": {
                    "categories": [
                      {
                        "count": 26,
                        "name": "False"
                      },
                      {
                        "count": 4,
                        "name": "True"
                      }
                    ],
                    "nan_count": 0,
                    "unique_count": 2
                  }
                },
                {
                  "dtype": "bool",
                  "name": "comorbidities__hemiplegia_from_stroke",
                  "stats": {
                    "categories": [
                      {
                        "count": 29,
                        "name": "False"
                      },
                      {
                        "count": 1,
                        "name": "True"
                      }
                    ],
                    "nan_count": 0,
                    "unique_count": 2
                  }
                },
                {
                  "dtype": "bool",
                  "name": "comorbidities__leukemia",
                  "stats": {
                    "categories": [
                      {
                        "count": 30,
                        "name": "False"
                      }
                    ],
                    "nan_count": 0,
                    "unique_count": 1
                  }
                },
                {
                  "dtype": "bool",
                  "name": "comorbidities__malignant_lymphoma",
                  "stats": {
                    "categories": [
                      {
                        "count": 29,
                        "name": "False"
                      },
                      {
                        "count": 1,
                        "name": "True"
                      }
                    ],
                    "nan_count": 0,
                    "unique_count": 2
                  }
                },
                {
                  "dtype": "bool",
                  "name": "comorbidities__localized_solid_tumor",
                  "stats": {
                    "categories": [
                      {
                        "count": 26,
                        "name": "False"
                      },
                      {
                        "count": 4,
                        "name": "True"
                      }
                    ],
                    "nan_count": 0,
                    "unique_count": 2
                  }
                },
                {
                  "dtype": "bool",
                  "name": "comorbidities__metastatic_solid_tumor",
                  "stats": {
                    "categories": [
                      {
                        "count": 28,
                        "name": "False"
                      },
                      {
                        "count": 2,
                        "name": "True"
                      }
                    ],
                    "nan_count": 0,
                    "unique_count": 2
                  }
                },
                {
                  "dtype": "bool",
                  "name": "comorbidities__mild_liver_disease",
                  "stats": {
                    "categories": [
                      {
                        "count": 28,
                        "name": "False"
                      },
                      {
                        "count": 2,
                        "name": "True"
                      }
                    ],
                    "nan_count": 0,
                    "unique_count": 2
                  }
                },
                {
                  "dtype": "bool",
                  "name": "comorbidities__moderate_to_severe_liver_disease",
                  "stats": {
                    "categories": [
                      {
                        "count": 30,
                        "name": "False"
                      }
                    ],
                    "nan_count": 0,
                    "unique_count": 1
                  }
                },
                {
                  "dtype": "bool",
                  "name": "comorbidities__aids",
                  "stats": {
                    "categories": [
                      {
                        "count": 30,
                        "name": "False"
                      }
                    ],
                    "nan_count": 0,
                    "unique_count": 1
                  }
                },
                {
                  "dtype": "object",
                  "name": "smoking_history",
                  "stats": {
                    "categories": [
                      {
                        "count": 14,
                        "name": "never_smoked"
                      },
                      {
                        "count": 11,
                        "name": "previous_smoker"
                      },
                      {
                        "count": 5,
                        "name": "current_smoker"
                      }
                    ],
                    "nan_count": 0,
                    "unique_count": 3
                  }
                },
                {
                  "dtype": "object",
                  "name": "age_when_quit_smoking",
                  "stats": {
                    "categories": [
                      {
                        "count": 19,
                        "name": "not_applicable"
                      },
                      {
                        "count": 7,
                        "name": "6 others"
                      },
                      {
                        "count": 4,
                        "name": "Missing"
                      }
                    ],
                    "nan_count": 4,
                    "unique_count": 7
                  }
                },
                {
                  "dtype": "float64",
                  "name": "pack_years",
                  "stats": {
                    "histogram": [
                      {
                        "bin_end": 6.4,
                        "bin_start": 0,
                        "count": 16
                      },
                      {
                        "bin_end": 12.8,
                        "bin_start": 6.4,
                        "count": 1
                      },
                      {
                        "bin_end": 19.200000000000003,
                        "bin_start": 12.8,
                        "count": 0
                      },
                      {
                        "bin_end": 25.6,
                        "bin_start": 19.200000000000003,
                        "count": 3
                      },
                      {
                        "bin_end": 32,
                        "bin_start": 25.6,
                        "count": 0
                      },
                      {
                        "bin_end": 38.400000000000006,
                        "bin_start": 32,
                        "count": 0
                      },
                      {
                        "bin_end": 44.800000000000004,
                        "bin_start": 38.400000000000006,
                        "count": 1
                      },
                      {
                        "bin_end": 51.2,
                        "bin_start": 44.800000000000004,
                        "count": 1
                      },
                      {
                        "bin_end": 57.6,
                        "bin_start": 51.2,
                        "count": 0
                      },
                      {
                        "bin_end": 64,
                        "bin_start": 57.6,
                        "count": 1
                      }
                    ],
                    "max": "64.0",
                    "min": "0.0",
                    "nan_count": 7,
                    "unique_count": 9
                  }
                },
                {
                  "dtype": "object",
                  "name": "chewing_tobacco_use",
                  "stats": {
                    "categories": [
                      {
                        "count": 30,
                        "name": "never_or_not_in_last_3mo"
                      }
                    ],
                    "nan_count": 0,
                    "unique_count": 1
                  }
                },
                {
                  "dtype": "object",
                  "name": "alcohol_use",
                  "stats": {
                    "categories": [
                      {
                        "count": 17,
                        "name": "two_or_less_daily"
                      },
                      {
                        "count": 12,
                        "name": "never_or_not_in_last_3mo"
                      },
                      {
                        "count": 1,
                        "name": "more_than_two_daily"
                      }
                    ],
                    "nan_count": 0,
                    "unique_count": 3
                  }
                },
                {
                  "dtype": "bool",
                  "name": "intraoperative_complications__blood_transfusion",
                  "stats": {
                    "categories": [
                      {
                        "count": 30,
                        "name": "False"
                      }
                    ],
                    "nan_count": 0,
                    "unique_count": 1
                  }
                },
                {
                  "dtype": "bool",
                  "name": "intraoperative_complications__injury_to_surrounding_organ",
                  "stats": {
                    "categories": [
                      {
                        "count": 30,
                        "name": "False"
                      }
                    ],
                    "nan_count": 0,
                    "unique_count": 1
                  }
                },
                {
                  "dtype": "bool",
                  "name": "intraoperative_complications__cardiac_event",
                  "stats": {
                    "categories": [
                      {
                        "count": 30,
                        "name": "False"
                      }
                    ],
                    "nan_count": 0,
                    "unique_count": 1
                  }
                },
                {
                  "dtype": "object",
                  "name": "hospitalization",
                  "stats": {
                    "categories": [
                      {
                        "count": 8,
                        "name": "2"
                      },
                      {
                        "count": 5,
                        "name": "1"
                      },
                      {
                        "count": 17,
                        "name": "9 others"
                      }
                    ],
                    "nan_count": 0,
                    "unique_count": 11
                  }
                },
                {
                  "dtype": "object",
                  "name": "ischemia_time",
                  "stats": {
                    "categories": [
                      {
                        "count": 11,
                        "name": "not_applicable"
                      },
                      {
                        "count": 2,
                        "name": "18"
                      },
                      {
                        "count": 17,
                        "name": "13 others"
                      }
                    ],
                    "nan_count": 0,
                    "unique_count": 15
                  }
                },
                {
                  "dtype": "float64",
                  "name": "radiographic_size",
                  "stats": {
                    "histogram": [
                      {
                        "bin_end": 2.6,
                        "bin_start": 1.5,
                        "count": 10
                      },
                      {
                        "bin_end": 3.7,
                        "bin_start": 2.6,
                        "count": 3
                      },
                      {
                        "bin_end": 4.800000000000001,
                        "bin_start": 3.7,
                        "count": 5
                      },
                      {
                        "bin_end": 5.9,
                        "bin_start": 4.800000000000001,
                        "count": 3
                      },
                      {
                        "bin_end": 7,
                        "bin_start": 5.9,
                        "count": 3
                      },
                      {
                        "bin_end": 8.100000000000001,
                        "bin_start": 7,
                        "count": 0
                      },
                      {
                        "bin_end": 9.200000000000001,
                        "bin_start": 8.100000000000001,
                        "count": 2
                      },
                      {
                        "bin_end": 10.3,
                        "bin_start": 9.200000000000001,
                        "count": 1
                      },
                      {
                        "bin_end": 11.4,
                        "bin_start": 10.3,
                        "count": 1
                      },
                      {
                        "bin_end": 12.5,
                        "bin_start": 11.4,
                        "count": 2
                      }
                    ],
                    "max": "12.5",
                    "min": "1.5",
                    "nan_count": 0,
                    "unique_count": 25
                  }
                },
                {
                  "dtype": "float64",
                  "name": "pathologic_size",
                  "stats": {
                    "histogram": [
                      {
                        "bin_end": 2.02,
                        "bin_start": 0.8,
                        "count": 5
                      },
                      {
                        "bin_end": 3.24,
                        "bin_start": 2.02,
                        "count": 7
                      },
                      {
                        "bin_end": 4.46,
                        "bin_start": 3.24,
                        "count": 3
                      },
                      {
                        "bin_end": 5.68,
                        "bin_start": 4.46,
                        "count": 3
                      },
                      {
                        "bin_end": 6.8999999999999995,
                        "bin_start": 5.68,
                        "count": 4
                      },
                      {
                        "bin_end": 8.120000000000001,
                        "bin_start": 6.8999999999999995,
                        "count": 2
                      },
                      {
                        "bin_end": 9.34,
                        "bin_start": 8.120000000000001,
                        "count": 3
                      },
                      {
                        "bin_end": 10.56,
                        "bin_start": 9.34,
                        "count": 1
                      },
                      {
                        "bin_end": 11.780000000000001,
                        "bin_start": 10.56,
                        "count": 1
                      },
                      {
                        "bin_end": 13,
                        "bin_start": 11.780000000000001,
                        "count": 1
                      }
                    ],
                    "max": "13.0",
                    "min": "0.8",
                    "nan_count": 0,
                    "unique_count": 30
                  }
                },
                {
                  "dtype": "bool",
                  "name": "malignant",
                  "stats": {
                    "categories": [
                      {
                        "count": 27,
                        "name": "True"
                      },
                      {
                        "count": 3,
                        "name": "False"
                      }
                    ],
                    "nan_count": 0,
                    "unique_count": 2
                  }
                },
                {
                  "dtype": "object",
                  "name": "pathology_t_stage",
                  "stats": {
                    "categories": [
                      {
                        "count": 9,
                        "name": "1a"
                      },
                      {
                        "count": 7,
                        "name": "3"
                      },
                      {
                        "count": 14,
                        "name": "4 others"
                      }
                    ],
                    "nan_count": 0,
                    "unique_count": 6
                  }
                },
                {
                  "dtype": "object",
                  "name": "pathology_n_stage",
                  "stats": {
                    "categories": [
                      {
                        "count": 14,
                        "name": "0"
                      },
                      {
                        "count": 14,
                        "name": "X"
                      },
                      {
                        "count": 2,
                        "name": "1"
                      }
                    ],
                    "nan_count": 0,
                    "unique_count": 3
                  }
                },
                {
                  "dtype": "object",
                  "name": "pathology_m_stage",
                  "stats": {
                    "categories": [
                      {
                        "count": 14,
                        "name": "0"
                      },
                      {
                        "count": 12,
                        "name": "X"
                      },
                      {
                        "count": 4,
                        "name": "1"
                      }
                    ],
                    "nan_count": 0,
                    "unique_count": 3
                  }
                },
                {
                  "dtype": "object",
                  "name": "tumor_histologic_subtype",
                  "stats": {
                    "categories": [
                      {
                        "count": 22,
                        "name": "clear_cell_rcc"
                      },
                      {
                        "count": 2,
                        "name": "chromophobe"
                      },
                      {
                        "count": 6,
                        "name": "4 others"
                      }
                    ],
                    "nan_count": 0,
                    "unique_count": 6
                  }
                },
                {
                  "dtype": "object",
                  "name": "tumor_necrosis",
                  "stats": {
                    "categories": [
                      {
                        "count": 23,
                        "name": "False"
                      },
                      {
                        "count": 4,
                        "name": "True"
                      },
                      {
                        "count": 3,
                        "name": "Missing"
                      }
                    ],
                    "nan_count": 3,
                    "unique_count": 2
                  }
                },
                {
                  "dtype": "float64",
                  "name": "tumor_isup_grade",
                  "stats": {
                    "histogram": [
                      {
                        "bin_end": 1.3,
                        "bin_start": 1,
                        "count": 4
                      },
                      {
                        "bin_end": 1.6,
                        "bin_start": 1.3,
                        "count": 0
                      },
                      {
                        "bin_end": 1.9,
                        "bin_start": 1.6,
                        "count": 0
                      },
                      {
                        "bin_end": 2.2,
                        "bin_start": 1.9,
                        "count": 11
                      },
                      {
                        "bin_end": 2.5,
                        "bin_start": 2.2,
                        "count": 0
                      },
                      {
                        "bin_end": 2.8,
                        "bin_start": 2.5,
                        "count": 0
                      },
                      {
                        "bin_end": 3.1,
                        "bin_start": 2.8,
                        "count": 7
                      },
                      {
                        "bin_end": 3.4,
                        "bin_start": 3.1,
                        "count": 0
                      },
                      {
                        "bin_end": 3.6999999999999997,
                        "bin_start": 3.4,
                        "count": 0
                      },
                      {
                        "bin_end": 4,
                        "bin_start": 3.6999999999999997,
                        "count": 3
                      }
                    ],
                    "max": "4.0",
                    "min": "1.0",
                    "nan_count": 5,
                    "unique_count": 4
                  }
                },
                {
                  "dtype": "object",
                  "name": "clavien_surgical_complications",
                  "stats": {
                    "categories": [
                      {
                        "count": 18,
                        "name": "0"
                      },
                      {
                        "count": 5,
                        "name": "1"
                      },
                      {
                        "count": 7,
                        "name": "4 others"
                      }
                    ],
                    "nan_count": 0,
                    "unique_count": 6
                  }
                },
                {
                  "dtype": "object",
                  "name": "er_visit",
                  "stats": {
                    "categories": [
                      {
                        "count": 28,
                        "name": "False"
                      },
                      {
                        "count": 2,
                        "name": "True"
                      }
                    ],
                    "nan_count": 0,
                    "unique_count": 2
                  }
                },
                {
                  "dtype": "object",
                  "name": "readmission",
                  "stats": {
                    "categories": [
                      {
                        "count": 26,
                        "name": "False"
                      },
                      {
                        "count": 4,
                        "name": "True"
                      }
                    ],
                    "nan_count": 0,
                    "unique_count": 2
                  }
                },
                {
                  "dtype": "float64",
                  "name": "estimated_blood_loss",
                  "stats": {
                    "histogram": [
                      {
                        "bin_end": 84,
                        "bin_start": 10,
                        "count": 10
                      },
                      {
                        "bin_end": 158,
                        "bin_start": 84,
                        "count": 5
                      },
                      {
                        "bin_end": 232,
                        "bin_start": 158,
                        "count": 4
                      },
                      {
                        "bin_end": 306,
                        "bin_start": 232,
                        "count": 4
                      },
                      {
                        "bin_end": 380,
                        "bin_start": 306,
                        "count": 0
                      },
                      {
                        "bin_end": 454,
                        "bin_start": 380,
                        "count": 3
                      },
                      {
                        "bin_end": 528,
                        "bin_start": 454,
                        "count": 2
                      },
                      {
                        "bin_end": 602,
                        "bin_start": 528,
                        "count": 0
                      },
                      {
                        "bin_end": 676,
                        "bin_start": 602,
                        "count": 0
                      },
                      {
                        "bin_end": 750,
                        "bin_start": 676,
                        "count": 2
                      }
                    ],
                    "max": "750.0",
                    "min": "10.0",
                    "nan_count": 0,
                    "unique_count": 19
                  }
                },
                {
                  "dtype": "object",
                  "name": "surgery_type",
                  "stats": {
                    "categories": [
                      {
                        "count": 17,
                        "name": "robotic"
                      },
                      {
                        "count": 9,
                        "name": "open"
                      },
                      {
                        "count": 4,
                        "name": "laparoscopic"
                      }
                    ],
                    "nan_count": 0,
                    "unique_count": 3
                  }
                },
                {
                  "dtype": "object",
                  "name": "surgical_procedure",
                  "stats": {
                    "categories": [
                      {
                        "count": 19,
                        "name": "partial_nephrectomy"
                      },
                      {
                        "count": 11,
                        "name": "radical_nephrectomy"
                      }
                    ],
                    "nan_count": 0,
                    "unique_count": 2
                  }
                },
                {
                  "dtype": "object",
                  "name": "surgical_approach",
                  "stats": {
                    "categories": [
                      {
                        "count": 24,
                        "name": "Transperitoneal"
                      },
                      {
                        "count": 6,
                        "name": "Retroperitoneal"
                      }
                    ],
                    "nan_count": 0,
                    "unique_count": 2
                  }
                },
                {
                  "dtype": "float64",
                  "name": "operative_time",
                  "stats": {
                    "histogram": [
                      {
                        "bin_end": 118.9,
                        "bin_start": 64,
                        "count": 3
                      },
                      {
                        "bin_end": 173.8,
                        "bin_start": 118.9,
                        "count": 5
                      },
                      {
                        "bin_end": 228.7,
                        "bin_start": 173.8,
                        "count": 10
                      },
                      {
                        "bin_end": 283.6,
                        "bin_start": 228.7,
                        "count": 5
                      },
                      {
                        "bin_end": 338.5,
                        "bin_start": 283.6,
                        "count": 1
                      },
                      {
                        "bin_end": 393.4,
                        "bin_start": 338.5,
                        "count": 3
                      },
                      {
                        "bin_end": 448.3,
                        "bin_start": 393.4,
                        "count": 0
                      },
                      {
                        "bin_end": 503.2,
                        "bin_start": 448.3,
                        "count": 2
                      },
                      {
                        "bin_end": 558.0999999999999,
                        "bin_start": 503.2,
                        "count": 0
                      },
                      {
                        "bin_end": 613,
                        "bin_start": 558.0999999999999,
                        "count": 1
                      }
                    ],
                    "max": "613.0",
                    "min": "64.0",
                    "nan_count": 0,
                    "unique_count": 30
                  }
                },
                {
                  "dtype": "bool",
                  "name": "cytoreductive",
                  "stats": {
                    "categories": [
                      {
                        "count": 26,
                        "name": "False"
                      },
                      {
                        "count": 4,
                        "name": "True"
                      }
                    ],
                    "nan_count": 0,
                    "unique_count": 2
                  }
                },
                {
                  "dtype": "bool",
                  "name": "positive_resection_margins",
                  "stats": {
                    "categories": [
                      {
                        "count": 28,
                        "name": "False"
                      },
                      {
                        "count": 2,
                        "name": "True"
                      }
                    ],
                    "nan_count": 0,
                    "unique_count": 2
                  }
                },
                {
                  "dtype": "object",
                  "name": "last_preop_egfr",
                  "stats": {
                    "categories": [
                      {
                        "count": 5,
                        "name": ">=90"
                      },
                      {
                        "count": 17,
                        "name": "15 others"
                      },
                      {
                        "count": 8,
                        "name": "Missing"
                      }
                    ],
                    "nan_count": 8,
                    "unique_count": 16
                  }
                },
                {
                  "dtype": "float64",
                  "name": "last_preop_egfr_days_before_surgery",
                  "stats": {
                    "histogram": [
                      {
                        "bin_end": 8.5,
                        "bin_start": 1,
                        "count": 6
                      },
                      {
                        "bin_end": 16,
                        "bin_start": 8.5,
                        "count": 4
                      },
                      {
                        "bin_end": 23.5,
                        "bin_start": 16,
                        "count": 2
                      },
                      {
                        "bin_end": 31,
                        "bin_start": 23.5,
                        "count": 3
                      },
                      {
                        "bin_end": 38.5,
                        "bin_start": 31,
                        "count": 1
                      },
                      {
                        "bin_end": 46,
                        "bin_start": 38.5,
                        "count": 1
                      },
                      {
                        "bin_end": 53.5,
                        "bin_start": 46,
                        "count": 3
                      },
                      {
                        "bin_end": 61,
                        "bin_start": 53.5,
                        "count": 0
                      },
                      {
                        "bin_end": 68.5,
                        "bin_start": 61,
                        "count": 1
                      },
                      {
                        "bin_end": 76,
                        "bin_start": 68.5,
                        "count": 1
                      }
                    ],
                    "max": "76.0",
                    "min": "1.0",
                    "nan_count": 8,
                    "unique_count": 15
                  }
                },
                {
                  "dtype": "object",
                  "name": "first_postop_egfr",
                  "stats": {
                    "categories": [
                      {
                        "count": 2,
                        "name": "44"
                      },
                      {
                        "count": 23,
                        "name": "20 others"
                      },
                      {
                        "count": 5,
                        "name": "Missing"
                      }
                    ],
                    "nan_count": 5,
                    "unique_count": 21
                  }
                },
                {
                  "dtype": "float64",
                  "name": "first_postop_egfr_days_after_surgery",
                  "stats": {
                    "histogram": [
                      {
                        "bin_end": 306.4,
                        "bin_start": 76,
                        "count": 18
                      },
                      {
                        "bin_end": 536.8,
                        "bin_start": 306.4,
                        "count": 1
                      },
                      {
                        "bin_end": 767.2,
                        "bin_start": 536.8,
                        "count": 1
                      },
                      {
                        "bin_end": 997.6,
                        "bin_start": 767.2,
                        "count": 1
                      },
                      {
                        "bin_end": 1228,
                        "bin_start": 997.6,
                        "count": 2
                      },
                      {
                        "bin_end": 1458.4,
                        "bin_start": 1228,
                        "count": 1
                      },
                      {
                        "bin_end": 1688.8,
                        "bin_start": 1458.4,
                        "count": 0
                      },
                      {
                        "bin_end": 1919.2,
                        "bin_start": 1688.8,
                        "count": 0
                      },
                      {
                        "bin_end": 2149.6,
                        "bin_start": 1919.2,
                        "count": 0
                      },
                      {
                        "bin_end": 2380,
                        "bin_start": 2149.6,
                        "count": 1
                      }
                    ],
                    "max": "2380.0",
                    "min": "76.0",
                    "nan_count": 5,
                    "unique_count": 21
                  }
                },
                {
                  "dtype": "object",
                  "name": "last_postop_egfr",
                  "stats": {
                    "categories": [
                      {
                        "count": 3,
                        "name": "54"
                      },
                      {
                        "count": 22,
                        "name": "19 others"
                      },
                      {
                        "count": 5,
                        "name": "Missing"
                      }
                    ],
                    "nan_count": 5,
                    "unique_count": 20
                  }
                },
                {
                  "dtype": "float64",
                  "name": "last_postop_egfr_days_after_surgery",
                  "stats": {
                    "histogram": [
                      {
                        "bin_end": 306.4,
                        "bin_start": 76,
                        "count": 5
                      },
                      {
                        "bin_end": 536.8,
                        "bin_start": 306.4,
                        "count": 3
                      },
                      {
                        "bin_end": 767.2,
                        "bin_start": 536.8,
                        "count": 4
                      },
                      {
                        "bin_end": 997.6,
                        "bin_start": 767.2,
                        "count": 2
                      },
                      {
                        "bin_end": 1228,
                        "bin_start": 997.6,
                        "count": 4
                      },
                      {
                        "bin_end": 1458.4,
                        "bin_start": 1228,
                        "count": 5
                      },
                      {
                        "bin_end": 1688.8,
                        "bin_start": 1458.4,
                        "count": 1
                      },
                      {
                        "bin_end": 1919.2,
                        "bin_start": 1688.8,
                        "count": 0
                      },
                      {
                        "bin_end": 2149.6,
                        "bin_start": 1919.2,
                        "count": 0
                      },
                      {
                        "bin_end": 2380,
                        "bin_start": 2149.6,
                        "count": 1
                      }
                    ],
                    "max": "2380.0",
                    "min": "76.0",
                    "nan_count": 5,
                    "unique_count": 25
                  }
                },
                {
                  "dtype": "object",
                  "name": "vital_status",
                  "stats": {
                    "categories": [
                      {
                        "count": 24,
                        "name": "censored"
                      },
                      {
                        "count": 6,
                        "name": "dead"
                      }
                    ],
                    "nan_count": 0,
                    "unique_count": 2
                  }
                },
                {
                  "dtype": "int64",
                  "name": "vital_days_after_surgery",
                  "stats": {
                    "histogram": [
                      {
                        "bin_end": 247.9,
                        "bin_start": 0,
                        "count": 4
                      },
                      {
                        "bin_end": 495.8,
                        "bin_start": 247.9,
                        "count": 4
                      },
                      {
                        "bin_end": 743.7,
                        "bin_start": 495.8,
                        "count": 2
                      },
                      {
                        "bin_end": 991.6,
                        "bin_start": 743.7,
                        "count": 7
                      },
                      {
                        "bin_end": 1239.5,
                        "bin_start": 991.6,
                        "count": 5
                      },
                      {
                        "bin_end": 1487.4,
                        "bin_start": 1239.5,
                        "count": 4
                      },
                      {
                        "bin_end": 1735.3,
                        "bin_start": 1487.4,
                        "count": 1
                      },
                      {
                        "bin_end": 1983.2,
                        "bin_start": 1735.3,
                        "count": 0
                      },
                      {
                        "bin_end": 2231.1,
                        "bin_start": 1983.2,
                        "count": 1
                      },
                      {
                        "bin_end": 2479,
                        "bin_start": 2231.1,
                        "count": 2
                      }
                    ],
                    "max": "2479",
                    "min": "0",
                    "nan_count": 0,
                    "unique_count": 30
                  }
                },
                {
                  "dtype": "int64",
                  "name": "_deepnote_index_column"
                }
              ],
              "row_count": 30,
              "rows": [
                {
                  "_deepnote_index_column": 180,
                  "age_at_nephrectomy": 82,
                  "age_when_quit_smoking": "nan",
                  "alcohol_use": "never_or_not_in_last_3mo",
                  "body_mass_index": 24.53,
                  "chewing_tobacco_use": "never_or_not_in_last_3mo",
                  "clavien_surgical_complications": "1",
                  "comorbidities__aids": false,
                  "comorbidities__cerebrovascular_disease": false,
                  "comorbidities__chronic_kidney_disease": false,
                  "comorbidities__congestive_heart_failure": false,
                  "comorbidities__connective_tissue_disease": false,
                  "comorbidities__copd": false,
                  "comorbidities__dementia": false,
                  "comorbidities__diabetes_mellitus_with_end_organ_damage": false,
                  "comorbidities__hemiplegia_from_stroke": false,
                  "comorbidities__leukemia": false,
                  "comorbidities__localized_solid_tumor": false,
                  "comorbidities__malignant_lymphoma": false,
                  "comorbidities__metastatic_solid_tumor": false,
                  "comorbidities__mild_liver_disease": false,
                  "comorbidities__moderate_to_severe_liver_disease": false,
                  "comorbidities__myocardial_infarction": false,
                  "comorbidities__peptic_ulcer_disease": false,
                  "comorbidities__peripheral_vascular_disease": false,
                  "comorbidities__uncomplicated_diabetes_mellitus": false,
                  "cytoreductive": true,
                  "er_visit": "False",
                  "estimated_blood_loss": 400,
                  "first_postop_egfr": "40",
                  "first_postop_egfr_days_after_surgery": 103,
                  "gender": "male",
                  "hospitalization": "9",
                  "intraoperative_complications__blood_transfusion": false,
                  "intraoperative_complications__cardiac_event": false,
                  "intraoperative_complications__injury_to_surrounding_organ": false,
                  "ischemia_time": "not_applicable",
                  "last_postop_egfr": "42",
                  "last_postop_egfr_days_after_surgery": 1678,
                  "last_preop_egfr": "57",
                  "last_preop_egfr_days_before_surgery": 16,
                  "malignant": true,
                  "operative_time": 369,
                  "pack_years": "nan",
                  "pathologic_size": 5.7,
                  "pathology_m_stage": "1",
                  "pathology_n_stage": "1",
                  "pathology_t_stage": "3",
                  "patient_id": "KiTS-00180",
                  "positive_resection_margins": false,
                  "radiographic_size": 5.9,
                  "readmission": "False",
                  "smoking_history": "previous_smoker",
                  "surgery_type": "open",
                  "surgical_approach": "Transperitoneal",
                  "surgical_procedure": "radical_nephrectomy",
                  "tumor_histologic_subtype": "clear_cell_rcc",
                  "tumor_isup_grade": 4,
                  "tumor_necrosis": "False",
                  "vital_days_after_surgery": 2000,
                  "vital_status": "dead"
                },
                {
                  "_deepnote_index_column": 181,
                  "age_at_nephrectomy": 45,
                  "age_when_quit_smoking": "not_applicable",
                  "alcohol_use": "two_or_less_daily",
                  "body_mass_index": 23.64,
                  "chewing_tobacco_use": "never_or_not_in_last_3mo",
                  "clavien_surgical_complications": "1",
                  "comorbidities__aids": false,
                  "comorbidities__cerebrovascular_disease": false,
                  "comorbidities__chronic_kidney_disease": false,
                  "comorbidities__congestive_heart_failure": false,
                  "comorbidities__connective_tissue_disease": false,
                  "comorbidities__copd": false,
                  "comorbidities__dementia": false,
                  "comorbidities__diabetes_mellitus_with_end_organ_damage": false,
                  "comorbidities__hemiplegia_from_stroke": false,
                  "comorbidities__leukemia": false,
                  "comorbidities__localized_solid_tumor": false,
                  "comorbidities__malignant_lymphoma": false,
                  "comorbidities__metastatic_solid_tumor": false,
                  "comorbidities__mild_liver_disease": false,
                  "comorbidities__moderate_to_severe_liver_disease": false,
                  "comorbidities__myocardial_infarction": false,
                  "comorbidities__peptic_ulcer_disease": false,
                  "comorbidities__peripheral_vascular_disease": false,
                  "comorbidities__uncomplicated_diabetes_mellitus": false,
                  "cytoreductive": false,
                  "er_visit": "True",
                  "estimated_blood_loss": 450,
                  "first_postop_egfr": "nan",
                  "first_postop_egfr_days_after_surgery": "nan",
                  "gender": "male",
                  "hospitalization": "6",
                  "intraoperative_complications__blood_transfusion": false,
                  "intraoperative_complications__cardiac_event": false,
                  "intraoperative_complications__injury_to_surrounding_organ": false,
                  "ischemia_time": "not_applicable",
                  "last_postop_egfr": "nan",
                  "last_postop_egfr_days_after_surgery": "nan",
                  "last_preop_egfr": ">=90",
                  "last_preop_egfr_days_before_surgery": 4,
                  "malignant": true,
                  "operative_time": 198,
                  "pack_years": 0,
                  "pathologic_size": 13,
                  "pathology_m_stage": "X",
                  "pathology_n_stage": "0",
                  "pathology_t_stage": "4",
                  "patient_id": "KiTS-00181",
                  "positive_resection_margins": false,
                  "radiographic_size": 12.5,
                  "readmission": "False",
                  "smoking_history": "never_smoked",
                  "surgery_type": "open",
                  "surgical_approach": "Transperitoneal",
                  "surgical_procedure": "radical_nephrectomy",
                  "tumor_histologic_subtype": "chromophobe",
                  "tumor_isup_grade": "nan",
                  "tumor_necrosis": "True",
                  "vital_days_after_surgery": 177,
                  "vital_status": "dead"
                },
                {
                  "_deepnote_index_column": 182,
                  "age_at_nephrectomy": 65,
                  "age_when_quit_smoking": "not_applicable",
                  "alcohol_use": "never_or_not_in_last_3mo",
                  "body_mass_index": 43.35,
                  "chewing_tobacco_use": "never_or_not_in_last_3mo",
                  "clavien_surgical_complications": "2",
                  "comorbidities__aids": false,
                  "comorbidities__cerebrovascular_disease": false,
                  "comorbidities__chronic_kidney_disease": false,
                  "comorbidities__congestive_heart_failure": false,
                  "comorbidities__connective_tissue_disease": false,
                  "comorbidities__copd": false,
                  "comorbidities__dementia": false,
                  "comorbidities__diabetes_mellitus_with_end_organ_damage": false,
                  "comorbidities__hemiplegia_from_stroke": false,
                  "comorbidities__leukemia": false,
                  "comorbidities__localized_solid_tumor": false,
                  "comorbidities__malignant_lymphoma": false,
                  "comorbidities__metastatic_solid_tumor": false,
                  "comorbidities__mild_liver_disease": false,
                  "comorbidities__moderate_to_severe_liver_disease": false,
                  "comorbidities__myocardial_infarction": false,
                  "comorbidities__peptic_ulcer_disease": false,
                  "comorbidities__peripheral_vascular_disease": false,
                  "comorbidities__uncomplicated_diabetes_mellitus": false,
                  "cytoreductive": false,
                  "er_visit": "False",
                  "estimated_blood_loss": 200,
                  "first_postop_egfr": "nan",
                  "first_postop_egfr_days_after_surgery": "nan",
                  "gender": "female",
                  "hospitalization": "10",
                  "intraoperative_complications__blood_transfusion": false,
                  "intraoperative_complications__cardiac_event": false,
                  "intraoperative_complications__injury_to_surrounding_organ": false,
                  "ischemia_time": "16",
                  "last_postop_egfr": "nan",
                  "last_postop_egfr_days_after_surgery": "nan",
                  "last_preop_egfr": ">=90",
                  "last_preop_egfr_days_before_surgery": 62,
                  "malignant": true,
                  "operative_time": 226,
                  "pack_years": 0,
                  "pathologic_size": 2.3,
                  "pathology_m_stage": "X",
                  "pathology_n_stage": "0",
                  "pathology_t_stage": "1a",
                  "patient_id": "KiTS-00182",
                  "positive_resection_margins": false,
                  "radiographic_size": 2.1,
                  "readmission": "False",
                  "smoking_history": "never_smoked",
                  "surgery_type": "open",
                  "surgical_approach": "Retroperitoneal",
                  "surgical_procedure": "partial_nephrectomy",
                  "tumor_histologic_subtype": "clear_cell_rcc",
                  "tumor_isup_grade": 2,
                  "tumor_necrosis": "False",
                  "vital_days_after_surgery": 1226,
                  "vital_status": "censored"
                },
                {
                  "_deepnote_index_column": 183,
                  "age_at_nephrectomy": 63,
                  "age_when_quit_smoking": "not_applicable",
                  "alcohol_use": "never_or_not_in_last_3mo",
                  "body_mass_index": 27.65,
                  "chewing_tobacco_use": "never_or_not_in_last_3mo",
                  "clavien_surgical_complications": "2",
                  "comorbidities__aids": false,
                  "comorbidities__cerebrovascular_disease": false,
                  "comorbidities__chronic_kidney_disease": false,
                  "comorbidities__congestive_heart_failure": false,
                  "comorbidities__connective_tissue_disease": false,
                  "comorbidities__copd": false,
                  "comorbidities__dementia": false,
                  "comorbidities__diabetes_mellitus_with_end_organ_damage": false,
                  "comorbidities__hemiplegia_from_stroke": false,
                  "comorbidities__leukemia": false,
                  "comorbidities__localized_solid_tumor": false,
                  "comorbidities__malignant_lymphoma": false,
                  "comorbidities__metastatic_solid_tumor": false,
                  "comorbidities__mild_liver_disease": false,
                  "comorbidities__moderate_to_severe_liver_disease": false,
                  "comorbidities__myocardial_infarction": false,
                  "comorbidities__peptic_ulcer_disease": false,
                  "comorbidities__peripheral_vascular_disease": false,
                  "comorbidities__uncomplicated_diabetes_mellitus": true,
                  "cytoreductive": false,
                  "er_visit": "False",
                  "estimated_blood_loss": 75,
                  "first_postop_egfr": "44",
                  "first_postop_egfr_days_after_surgery": 1083,
                  "gender": "male",
                  "hospitalization": "3",
                  "intraoperative_complications__blood_transfusion": false,
                  "intraoperative_complications__cardiac_event": false,
                  "intraoperative_complications__injury_to_surrounding_organ": false,
                  "ischemia_time": "18",
                  "last_postop_egfr": "44",
                  "last_postop_egfr_days_after_surgery": 1083,
                  "last_preop_egfr": "nan",
                  "last_preop_egfr_days_before_surgery": "nan",
                  "malignant": true,
                  "operative_time": 211,
                  "pack_years": 0,
                  "pathologic_size": 2.8,
                  "pathology_m_stage": "X",
                  "pathology_n_stage": "X",
                  "pathology_t_stage": "1a",
                  "patient_id": "KiTS-00183",
                  "positive_resection_margins": false,
                  "radiographic_size": 3.7,
                  "readmission": "False",
                  "smoking_history": "never_smoked",
                  "surgery_type": "robotic",
                  "surgical_approach": "Retroperitoneal",
                  "surgical_procedure": "partial_nephrectomy",
                  "tumor_histologic_subtype": "clear_cell_papillary_rcc",
                  "tumor_isup_grade": 1,
                  "tumor_necrosis": "False",
                  "vital_days_after_surgery": 1092,
                  "vital_status": "censored"
                },
                {
                  "_deepnote_index_column": 184,
                  "age_at_nephrectomy": 38,
                  "age_when_quit_smoking": "nan",
                  "alcohol_use": "never_or_not_in_last_3mo",
                  "body_mass_index": 38.13,
                  "chewing_tobacco_use": "never_or_not_in_last_3mo",
                  "clavien_surgical_complications": "0",
                  "comorbidities__aids": false,
                  "comorbidities__cerebrovascular_disease": false,
                  "comorbidities__chronic_kidney_disease": true,
                  "comorbidities__congestive_heart_failure": false,
                  "comorbidities__connective_tissue_disease": false,
                  "comorbidities__copd": false,
                  "comorbidities__dementia": false,
                  "comorbidities__diabetes_mellitus_with_end_organ_damage": false,
                  "comorbidities__hemiplegia_from_stroke": false,
                  "comorbidities__leukemia": false,
                  "comorbidities__localized_solid_tumor": false,
                  "comorbidities__malignant_lymphoma": false,
                  "comorbidities__metastatic_solid_tumor": false,
                  "comorbidities__mild_liver_disease": true,
                  "comorbidities__moderate_to_severe_liver_disease": false,
                  "comorbidities__myocardial_infarction": false,
                  "comorbidities__peptic_ulcer_disease": false,
                  "comorbidities__peripheral_vascular_disease": false,
                  "comorbidities__uncomplicated_diabetes_mellitus": false,
                  "cytoreductive": true,
                  "er_visit": "False",
                  "estimated_blood_loss": 700,
                  "first_postop_egfr": "46",
                  "first_postop_egfr_days_after_surgery": 76,
                  "gender": "male",
                  "hospitalization": "6",
                  "intraoperative_complications__blood_transfusion": false,
                  "intraoperative_complications__cardiac_event": false,
                  "intraoperative_complications__injury_to_surrounding_organ": false,
                  "ischemia_time": "not_applicable",
                  "last_postop_egfr": "5",
                  "last_postop_egfr_days_after_surgery": 229,
                  "last_preop_egfr": "75",
                  "last_preop_egfr_days_before_surgery": 45,
                  "malignant": true,
                  "operative_time": 493,
                  "pack_years": "nan",
                  "pathologic_size": 4.2,
                  "pathology_m_stage": "1",
                  "pathology_n_stage": "X",
                  "pathology_t_stage": "1b",
                  "patient_id": "KiTS-00184",
                  "positive_resection_margins": false,
                  "radiographic_size": 3.1,
                  "readmission": "False",
                  "smoking_history": "previous_smoker",
                  "surgery_type": "open",
                  "surgical_approach": "Transperitoneal",
                  "surgical_procedure": "radical_nephrectomy",
                  "tumor_histologic_subtype": "clear_cell_rcc",
                  "tumor_isup_grade": 2,
                  "tumor_necrosis": "False",
                  "vital_days_after_surgery": 894,
                  "vital_status": "censored"
                },
                {
                  "_deepnote_index_column": 185,
                  "age_at_nephrectomy": 65,
                  "age_when_quit_smoking": "not_applicable",
                  "alcohol_use": "never_or_not_in_last_3mo",
                  "body_mass_index": 34.12,
                  "chewing_tobacco_use": "never_or_not_in_last_3mo",
                  "clavien_surgical_complications": "2",
                  "comorbidities__aids": false,
                  "comorbidities__cerebrovascular_disease": false,
                  "comorbidities__chronic_kidney_disease": false,
                  "comorbidities__congestive_heart_failure": false,
                  "comorbidities__connective_tissue_disease": false,
                  "comorbidities__copd": false,
                  "comorbidities__dementia": false,
                  "comorbidities__diabetes_mellitus_with_end_organ_damage": false,
                  "comorbidities__hemiplegia_from_stroke": false,
                  "comorbidities__leukemia": false,
                  "comorbidities__localized_solid_tumor": true,
                  "comorbidities__malignant_lymphoma": false,
                  "comorbidities__metastatic_solid_tumor": false,
                  "comorbidities__mild_liver_disease": false,
                  "comorbidities__moderate_to_severe_liver_disease": false,
                  "comorbidities__myocardial_infarction": false,
                  "comorbidities__peptic_ulcer_disease": false,
                  "comorbidities__peripheral_vascular_disease": false,
                  "comorbidities__uncomplicated_diabetes_mellitus": true,
                  "cytoreductive": false,
                  "er_visit": "False",
                  "estimated_blood_loss": 300,
                  "first_postop_egfr": "nan",
                  "first_postop_egfr_days_after_surgery": "nan",
                  "gender": "male",
                  "hospitalization": "5",
                  "intraoperative_complications__blood_transfusion": false,
                  "intraoperative_complications__cardiac_event": false,
                  "intraoperative_complications__injury_to_surrounding_organ": false,
                  "ischemia_time": "54",
                  "last_postop_egfr": "nan",
                  "last_postop_egfr_days_after_surgery": "nan",
                  "last_preop_egfr": "58",
                  "last_preop_egfr_days_before_surgery": 25,
                  "malignant": true,
                  "operative_time": 266,
                  "pack_years": 0,
                  "pathologic_size": 4.5,
                  "pathology_m_stage": "X",
                  "pathology_n_stage": "0",
                  "pathology_t_stage": "1b",
                  "patient_id": "KiTS-00185",
                  "positive_resection_margins": false,
                  "radiographic_size": 4.5,
                  "readmission": "False",
                  "smoking_history": "never_smoked",
                  "surgery_type": "open",
                  "surgical_approach": "Retroperitoneal",
                  "surgical_procedure": "partial_nephrectomy",
                  "tumor_histologic_subtype": "clear_cell_rcc",
                  "tumor_isup_grade": 1,
                  "tumor_necrosis": "False",
                  "vital_days_after_surgery": 0,
                  "vital_status": "censored"
                },
                {
                  "_deepnote_index_column": 186,
                  "age_at_nephrectomy": 56,
                  "age_when_quit_smoking": "not_applicable",
                  "alcohol_use": "two_or_less_daily",
                  "body_mass_index": 21.77,
                  "chewing_tobacco_use": "never_or_not_in_last_3mo",
                  "clavien_surgical_complications": "0",
                  "comorbidities__aids": false,
                  "comorbidities__cerebrovascular_disease": false,
                  "comorbidities__chronic_kidney_disease": false,
                  "comorbidities__congestive_heart_failure": false,
                  "comorbidities__connective_tissue_disease": false,
                  "comorbidities__copd": false,
                  "comorbidities__dementia": false,
                  "comorbidities__diabetes_mellitus_with_end_organ_damage": false,
                  "comorbidities__hemiplegia_from_stroke": false,
                  "comorbidities__leukemia": false,
                  "comorbidities__localized_solid_tumor": false,
                  "comorbidities__malignant_lymphoma": false,
                  "comorbidities__metastatic_solid_tumor": false,
                  "comorbidities__mild_liver_disease": false,
                  "comorbidities__moderate_to_severe_liver_disease": false,
                  "comorbidities__myocardial_infarction": false,
                  "comorbidities__peptic_ulcer_disease": false,
                  "comorbidities__peripheral_vascular_disease": false,
                  "comorbidities__uncomplicated_diabetes_mellitus": false,
                  "cytoreductive": false,
                  "er_visit": "False",
                  "estimated_blood_loss": 100,
                  "first_postop_egfr": "76",
                  "first_postop_egfr_days_after_surgery": 698,
                  "gender": "male",
                  "hospitalization": "4",
                  "intraoperative_complications__blood_transfusion": false,
                  "intraoperative_complications__cardiac_event": false,
                  "intraoperative_complications__injury_to_surrounding_organ": false,
                  "ischemia_time": "not_applicable",
                  "last_postop_egfr": "76",
                  "last_postop_egfr_days_after_surgery": 698,
                  "last_preop_egfr": ">=90",
                  "last_preop_egfr_days_before_surgery": 26,
                  "malignant": true,
                  "operative_time": 208,
                  "pack_years": 10,
                  "pathologic_size": 9.1,
                  "pathology_m_stage": "0",
                  "pathology_n_stage": "0",
                  "pathology_t_stage": "2a",
                  "patient_id": "KiTS-00186",
                  "positive_resection_margins": false,
                  "radiographic_size": 9.1,
                  "readmission": "False",
                  "smoking_history": "current_smoker",
                  "surgery_type": "laparoscopic",
                  "surgical_approach": "Transperitoneal",
                  "surgical_procedure": "radical_nephrectomy",
                  "tumor_histologic_subtype": "clear_cell_rcc",
                  "tumor_isup_grade": 4,
                  "tumor_necrosis": "True",
                  "vital_days_after_surgery": 698,
                  "vital_status": "censored"
                },
                {
                  "_deepnote_index_column": 187,
                  "age_at_nephrectomy": 37,
                  "age_when_quit_smoking": "not_applicable",
                  "alcohol_use": "never_or_not_in_last_3mo",
                  "body_mass_index": 26.42,
                  "chewing_tobacco_use": "never_or_not_in_last_3mo",
                  "clavien_surgical_complications": "0",
                  "comorbidities__aids": false,
                  "comorbidities__cerebrovascular_disease": false,
                  "comorbidities__chronic_kidney_disease": false,
                  "comorbidities__congestive_heart_failure": false,
                  "comorbidities__connective_tissue_disease": false,
                  "comorbidities__copd": false,
                  "comorbidities__dementia": false,
                  "comorbidities__diabetes_mellitus_with_end_organ_damage": false,
                  "comorbidities__hemiplegia_from_stroke": false,
                  "comorbidities__leukemia": false,
                  "comorbidities__localized_solid_tumor": false,
                  "comorbidities__malignant_lymphoma": false,
                  "comorbidities__metastatic_solid_tumor": false,
                  "comorbidities__mild_liver_disease": false,
                  "comorbidities__moderate_to_severe_liver_disease": false,
                  "comorbidities__myocardial_infarction": false,
                  "comorbidities__peptic_ulcer_disease": false,
                  "comorbidities__peripheral_vascular_disease": false,
                  "comorbidities__uncomplicated_diabetes_mellitus": false,
                  "cytoreductive": false,
                  "er_visit": "False",
                  "estimated_blood_loss": 70,
                  "first_postop_egfr": ">=90",
                  "first_postop_egfr_days_after_surgery": 126,
                  "gender": "female",
                  "hospitalization": "3",
                  "intraoperative_complications__blood_transfusion": false,
                  "intraoperative_complications__cardiac_event": false,
                  "intraoperative_complications__injury_to_surrounding_organ": false,
                  "ischemia_time": "20",
                  "last_postop_egfr": ">=90",
                  "last_postop_egfr_days_after_surgery": 640,
                  "last_preop_egfr": "nan",
                  "last_preop_egfr_days_before_surgery": "nan",
                  "malignant": true,
                  "operative_time": 185,
                  "pack_years": 0,
                  "pathologic_size": 8.7,
                  "pathology_m_stage": "0",
                  "pathology_n_stage": "0",
                  "pathology_t_stage": "2a",
                  "patient_id": "KiTS-00187",
                  "positive_resection_margins": false,
                  "radiographic_size": 8.7,
                  "readmission": "False",
                  "smoking_history": "never_smoked",
                  "surgery_type": "robotic",
                  "surgical_approach": "Transperitoneal",
                  "surgical_procedure": "partial_nephrectomy",
                  "tumor_histologic_subtype": "chromophobe",
                  "tumor_isup_grade": "nan",
                  "tumor_necrosis": "False",
                  "vital_days_after_surgery": 980,
                  "vital_status": "censored"
                },
                {
                  "_deepnote_index_column": 188,
                  "age_at_nephrectomy": 68,
                  "age_when_quit_smoking": "not_applicable",
                  "alcohol_use": "two_or_less_daily",
                  "body_mass_index": 23.12,
                  "chewing_tobacco_use": "never_or_not_in_last_3mo",
                  "clavien_surgical_complications": "3b",
                  "comorbidities__aids": false,
                  "comorbidities__cerebrovascular_disease": false,
                  "comorbidities__chronic_kidney_disease": false,
                  "comorbidities__congestive_heart_failure": false,
                  "comorbidities__connective_tissue_disease": false,
                  "comorbidities__copd": false,
                  "comorbidities__dementia": false,
                  "comorbidities__diabetes_mellitus_with_end_organ_damage": false,
                  "comorbidities__hemiplegia_from_stroke": false,
                  "comorbidities__leukemia": false,
                  "comorbidities__localized_solid_tumor": false,
                  "comorbidities__malignant_lymphoma": false,
                  "comorbidities__metastatic_solid_tumor": false,
                  "comorbidities__mild_liver_disease": false,
                  "comorbidities__moderate_to_severe_liver_disease": false,
                  "comorbidities__myocardial_infarction": false,
                  "comorbidities__peptic_ulcer_disease": false,
                  "comorbidities__peripheral_vascular_disease": false,
                  "comorbidities__uncomplicated_diabetes_mellitus": false,
                  "cytoreductive": false,
                  "er_visit": "False",
                  "estimated_blood_loss": 100,
                  "first_postop_egfr": "80",
                  "first_postop_egfr_days_after_surgery": 92,
                  "gender": "female",
                  "hospitalization": "9",
                  "intraoperative_complications__blood_transfusion": false,
                  "intraoperative_complications__cardiac_event": false,
                  "intraoperative_complications__injury_to_surrounding_organ": false,
                  "ischemia_time": "20",
                  "last_postop_egfr": "73",
                  "last_postop_egfr_days_after_surgery": 1367,
                  "last_preop_egfr": "80",
                  "last_preop_egfr_days_before_surgery": 5,
                  "malignant": false,
                  "operative_time": 169,
                  "pack_years": 0,
                  "pathologic_size": 1,
                  "pathology_m_stage": "0",
                  "pathology_n_stage": "0",
                  "pathology_t_stage": "0",
                  "patient_id": "KiTS-00188",
                  "positive_resection_margins": false,
                  "radiographic_size": 1.5,
                  "readmission": "False",
                  "smoking_history": "never_smoked",
                  "surgery_type": "robotic",
                  "surgical_approach": "Transperitoneal",
                  "surgical_procedure": "partial_nephrectomy",
                  "tumor_histologic_subtype": "oncocytoma",
                  "tumor_isup_grade": "nan",
                  "tumor_necrosis": "nan",
                  "vital_days_after_surgery": 1529,
                  "vital_status": "censored"
                },
                {
                  "_deepnote_index_column": 189,
                  "age_at_nephrectomy": 41,
                  "age_when_quit_smoking": "not_applicable",
                  "alcohol_use": "never_or_not_in_last_3mo",
                  "body_mass_index": 22.36,
                  "chewing_tobacco_use": "never_or_not_in_last_3mo",
                  "clavien_surgical_complications": "0",
                  "comorbidities__aids": false,
                  "comorbidities__cerebrovascular_disease": false,
                  "comorbidities__chronic_kidney_disease": false,
                  "comorbidities__congestive_heart_failure": false,
                  "comorbidities__connective_tissue_disease": false,
                  "comorbidities__copd": false,
                  "comorbidities__dementia": false,
                  "comorbidities__diabetes_mellitus_with_end_organ_damage": false,
                  "comorbidities__hemiplegia_from_stroke": false,
                  "comorbidities__leukemia": false,
                  "comorbidities__localized_solid_tumor": false,
                  "comorbidities__malignant_lymphoma": false,
                  "comorbidities__metastatic_solid_tumor": false,
                  "comorbidities__mild_liver_disease": false,
                  "comorbidities__moderate_to_severe_liver_disease": false,
                  "comorbidities__myocardial_infarction": false,
                  "comorbidities__peptic_ulcer_disease": false,
                  "comorbidities__peripheral_vascular_disease": false,
                  "comorbidities__uncomplicated_diabetes_mellitus": false,
                  "cytoreductive": true,
                  "er_visit": "False",
                  "estimated_blood_loss": 200,
                  "first_postop_egfr": "62",
                  "first_postop_egfr_days_after_surgery": 89,
                  "gender": "male",
                  "hospitalization": "5",
                  "intraoperative_complications__blood_transfusion": false,
                  "intraoperative_complications__cardiac_event": false,
                  "intraoperative_complications__injury_to_surrounding_organ": false,
                  "ischemia_time": "not_applicable",
                  "last_postop_egfr": "35",
                  "last_postop_egfr_days_after_surgery": 385,
                  "last_preop_egfr": ">=90",
                  "last_preop_egfr_days_before_surgery": 13,
                  "malignant": true,
                  "operative_time": 283,
                  "pack_years": 0,
                  "pathologic_size": 8.9,
                  "pathology_m_stage": "1",
                  "pathology_n_stage": "X",
                  "pathology_t_stage": "2a",
                  "patient_id": "KiTS-00189",
                  "positive_resection_margins": false,
                  "radiographic_size": 9.3,
                  "readmission": "True",
                  "smoking_history": "never_smoked",
                  "surgery_type": "open",
                  "surgical_approach": "Retroperitoneal",
                  "surgical_procedure": "radical_nephrectomy",
                  "tumor_histologic_subtype": "clear_cell_rcc",
                  "tumor_isup_grade": 4,
                  "tumor_necrosis": "False",
                  "vital_days_after_surgery": 391,
                  "vital_status": "dead"
                }
              ]
            },
            "text/html": [
              "<div>\n",
              "<style scoped>\n",
              "    .dataframe tbody tr th:only-of-type {\n",
              "        vertical-align: middle;\n",
              "    }\n",
              "\n",
              "    .dataframe tbody tr th {\n",
              "        vertical-align: top;\n",
              "    }\n",
              "\n",
              "    .dataframe thead th {\n",
              "        text-align: right;\n",
              "    }\n",
              "</style>\n",
              "<table border=\"1\" class=\"dataframe\">\n",
              "  <thead>\n",
              "    <tr style=\"text-align: right;\">\n",
              "      <th></th>\n",
              "      <th>patient_id</th>\n",
              "      <th>age_at_nephrectomy</th>\n",
              "      <th>gender</th>\n",
              "      <th>body_mass_index</th>\n",
              "      <th>comorbidities__myocardial_infarction</th>\n",
              "      <th>comorbidities__congestive_heart_failure</th>\n",
              "      <th>comorbidities__peripheral_vascular_disease</th>\n",
              "      <th>comorbidities__cerebrovascular_disease</th>\n",
              "      <th>comorbidities__dementia</th>\n",
              "      <th>comorbidities__copd</th>\n",
              "      <th>...</th>\n",
              "      <th>cytoreductive</th>\n",
              "      <th>positive_resection_margins</th>\n",
              "      <th>last_preop_egfr</th>\n",
              "      <th>last_preop_egfr_days_before_surgery</th>\n",
              "      <th>first_postop_egfr</th>\n",
              "      <th>first_postop_egfr_days_after_surgery</th>\n",
              "      <th>last_postop_egfr</th>\n",
              "      <th>last_postop_egfr_days_after_surgery</th>\n",
              "      <th>vital_status</th>\n",
              "      <th>vital_days_after_surgery</th>\n",
              "    </tr>\n",
              "  </thead>\n",
              "  <tbody>\n",
              "    <tr>\n",
              "      <th>180</th>\n",
              "      <td>KiTS-00180</td>\n",
              "      <td>82</td>\n",
              "      <td>male</td>\n",
              "      <td>24.53</td>\n",
              "      <td>False</td>\n",
              "      <td>False</td>\n",
              "      <td>False</td>\n",
              "      <td>False</td>\n",
              "      <td>False</td>\n",
              "      <td>False</td>\n",
              "      <td>...</td>\n",
              "      <td>True</td>\n",
              "      <td>False</td>\n",
              "      <td>57</td>\n",
              "      <td>16.0</td>\n",
              "      <td>40</td>\n",
              "      <td>103.0</td>\n",
              "      <td>42</td>\n",
              "      <td>1678.0</td>\n",
              "      <td>dead</td>\n",
              "      <td>2000</td>\n",
              "    </tr>\n",
              "    <tr>\n",
              "      <th>181</th>\n",
              "      <td>KiTS-00181</td>\n",
              "      <td>45</td>\n",
              "      <td>male</td>\n",
              "      <td>23.64</td>\n",
              "      <td>False</td>\n",
              "      <td>False</td>\n",
              "      <td>False</td>\n",
              "      <td>False</td>\n",
              "      <td>False</td>\n",
              "      <td>False</td>\n",
              "      <td>...</td>\n",
              "      <td>False</td>\n",
              "      <td>False</td>\n",
              "      <td>&gt;=90</td>\n",
              "      <td>4.0</td>\n",
              "      <td>NaN</td>\n",
              "      <td>NaN</td>\n",
              "      <td>NaN</td>\n",
              "      <td>NaN</td>\n",
              "      <td>dead</td>\n",
              "      <td>177</td>\n",
              "    </tr>\n",
              "    <tr>\n",
              "      <th>182</th>\n",
              "      <td>KiTS-00182</td>\n",
              "      <td>65</td>\n",
              "      <td>female</td>\n",
              "      <td>43.35</td>\n",
              "      <td>False</td>\n",
              "      <td>False</td>\n",
              "      <td>False</td>\n",
              "      <td>False</td>\n",
              "      <td>False</td>\n",
              "      <td>False</td>\n",
              "      <td>...</td>\n",
              "      <td>False</td>\n",
              "      <td>False</td>\n",
              "      <td>&gt;=90</td>\n",
              "      <td>62.0</td>\n",
              "      <td>NaN</td>\n",
              "      <td>NaN</td>\n",
              "      <td>NaN</td>\n",
              "      <td>NaN</td>\n",
              "      <td>censored</td>\n",
              "      <td>1226</td>\n",
              "    </tr>\n",
              "    <tr>\n",
              "      <th>183</th>\n",
              "      <td>KiTS-00183</td>\n",
              "      <td>63</td>\n",
              "      <td>male</td>\n",
              "      <td>27.65</td>\n",
              "      <td>False</td>\n",
              "      <td>False</td>\n",
              "      <td>False</td>\n",
              "      <td>False</td>\n",
              "      <td>False</td>\n",
              "      <td>False</td>\n",
              "      <td>...</td>\n",
              "      <td>False</td>\n",
              "      <td>False</td>\n",
              "      <td>NaN</td>\n",
              "      <td>NaN</td>\n",
              "      <td>44</td>\n",
              "      <td>1083.0</td>\n",
              "      <td>44</td>\n",
              "      <td>1083.0</td>\n",
              "      <td>censored</td>\n",
              "      <td>1092</td>\n",
              "    </tr>\n",
              "    <tr>\n",
              "      <th>184</th>\n",
              "      <td>KiTS-00184</td>\n",
              "      <td>38</td>\n",
              "      <td>male</td>\n",
              "      <td>38.13</td>\n",
              "      <td>False</td>\n",
              "      <td>False</td>\n",
              "      <td>False</td>\n",
              "      <td>False</td>\n",
              "      <td>False</td>\n",
              "      <td>False</td>\n",
              "      <td>...</td>\n",
              "      <td>True</td>\n",
              "      <td>False</td>\n",
              "      <td>75</td>\n",
              "      <td>45.0</td>\n",
              "      <td>46</td>\n",
              "      <td>76.0</td>\n",
              "      <td>5</td>\n",
              "      <td>229.0</td>\n",
              "      <td>censored</td>\n",
              "      <td>894</td>\n",
              "    </tr>\n",
              "    <tr>\n",
              "      <th>185</th>\n",
              "      <td>KiTS-00185</td>\n",
              "      <td>65</td>\n",
              "      <td>male</td>\n",
              "      <td>34.12</td>\n",
              "      <td>False</td>\n",
              "      <td>False</td>\n",
              "      <td>False</td>\n",
              "      <td>False</td>\n",
              "      <td>False</td>\n",
              "      <td>False</td>\n",
              "      <td>...</td>\n",
              "      <td>False</td>\n",
              "      <td>False</td>\n",
              "      <td>58</td>\n",
              "      <td>25.0</td>\n",
              "      <td>NaN</td>\n",
              "      <td>NaN</td>\n",
              "      <td>NaN</td>\n",
              "      <td>NaN</td>\n",
              "      <td>censored</td>\n",
              "      <td>0</td>\n",
              "    </tr>\n",
              "    <tr>\n",
              "      <th>186</th>\n",
              "      <td>KiTS-00186</td>\n",
              "      <td>56</td>\n",
              "      <td>male</td>\n",
              "      <td>21.77</td>\n",
              "      <td>False</td>\n",
              "      <td>False</td>\n",
              "      <td>False</td>\n",
              "      <td>False</td>\n",
              "      <td>False</td>\n",
              "      <td>False</td>\n",
              "      <td>...</td>\n",
              "      <td>False</td>\n",
              "      <td>False</td>\n",
              "      <td>&gt;=90</td>\n",
              "      <td>26.0</td>\n",
              "      <td>76</td>\n",
              "      <td>698.0</td>\n",
              "      <td>76</td>\n",
              "      <td>698.0</td>\n",
              "      <td>censored</td>\n",
              "      <td>698</td>\n",
              "    </tr>\n",
              "    <tr>\n",
              "      <th>187</th>\n",
              "      <td>KiTS-00187</td>\n",
              "      <td>37</td>\n",
              "      <td>female</td>\n",
              "      <td>26.42</td>\n",
              "      <td>False</td>\n",
              "      <td>False</td>\n",
              "      <td>False</td>\n",
              "      <td>False</td>\n",
              "      <td>False</td>\n",
              "      <td>False</td>\n",
              "      <td>...</td>\n",
              "      <td>False</td>\n",
              "      <td>False</td>\n",
              "      <td>NaN</td>\n",
              "      <td>NaN</td>\n",
              "      <td>&gt;=90</td>\n",
              "      <td>126.0</td>\n",
              "      <td>&gt;=90</td>\n",
              "      <td>640.0</td>\n",
              "      <td>censored</td>\n",
              "      <td>980</td>\n",
              "    </tr>\n",
              "    <tr>\n",
              "      <th>188</th>\n",
              "      <td>KiTS-00188</td>\n",
              "      <td>68</td>\n",
              "      <td>female</td>\n",
              "      <td>23.12</td>\n",
              "      <td>False</td>\n",
              "      <td>False</td>\n",
              "      <td>False</td>\n",
              "      <td>False</td>\n",
              "      <td>False</td>\n",
              "      <td>False</td>\n",
              "      <td>...</td>\n",
              "      <td>False</td>\n",
              "      <td>False</td>\n",
              "      <td>80</td>\n",
              "      <td>5.0</td>\n",
              "      <td>80</td>\n",
              "      <td>92.0</td>\n",
              "      <td>73</td>\n",
              "      <td>1367.0</td>\n",
              "      <td>censored</td>\n",
              "      <td>1529</td>\n",
              "    </tr>\n",
              "    <tr>\n",
              "      <th>189</th>\n",
              "      <td>KiTS-00189</td>\n",
              "      <td>41</td>\n",
              "      <td>male</td>\n",
              "      <td>22.36</td>\n",
              "      <td>False</td>\n",
              "      <td>False</td>\n",
              "      <td>False</td>\n",
              "      <td>False</td>\n",
              "      <td>False</td>\n",
              "      <td>False</td>\n",
              "      <td>...</td>\n",
              "      <td>True</td>\n",
              "      <td>False</td>\n",
              "      <td>&gt;=90</td>\n",
              "      <td>13.0</td>\n",
              "      <td>62</td>\n",
              "      <td>89.0</td>\n",
              "      <td>35</td>\n",
              "      <td>385.0</td>\n",
              "      <td>dead</td>\n",
              "      <td>391</td>\n",
              "    </tr>\n",
              "    <tr>\n",
              "      <th>190</th>\n",
              "      <td>KiTS-00190</td>\n",
              "      <td>48</td>\n",
              "      <td>male</td>\n",
              "      <td>27.67</td>\n",
              "      <td>False</td>\n",
              "      <td>False</td>\n",
              "      <td>False</td>\n",
              "      <td>False</td>\n",
              "      <td>False</td>\n",
              "      <td>False</td>\n",
              "      <td>...</td>\n",
              "      <td>False</td>\n",
              "      <td>False</td>\n",
              "      <td>NaN</td>\n",
              "      <td>NaN</td>\n",
              "      <td>61</td>\n",
              "      <td>407.0</td>\n",
              "      <td>61</td>\n",
              "      <td>407.0</td>\n",
              "      <td>censored</td>\n",
              "      <td>434</td>\n",
              "    </tr>\n",
              "    <tr>\n",
              "      <th>191</th>\n",
              "      <td>KiTS-00191</td>\n",
              "      <td>49</td>\n",
              "      <td>male</td>\n",
              "      <td>24.07</td>\n",
              "      <td>False</td>\n",
              "      <td>False</td>\n",
              "      <td>False</td>\n",
              "      <td>False</td>\n",
              "      <td>False</td>\n",
              "      <td>False</td>\n",
              "      <td>...</td>\n",
              "      <td>False</td>\n",
              "      <td>False</td>\n",
              "      <td>&gt;=90</td>\n",
              "      <td>47.0</td>\n",
              "      <td>NaN</td>\n",
              "      <td>NaN</td>\n",
              "      <td>NaN</td>\n",
              "      <td>NaN</td>\n",
              "      <td>censored</td>\n",
              "      <td>394</td>\n",
              "    </tr>\n",
              "    <tr>\n",
              "      <th>192</th>\n",
              "      <td>KiTS-00192</td>\n",
              "      <td>61</td>\n",
              "      <td>male</td>\n",
              "      <td>28.75</td>\n",
              "      <td>False</td>\n",
              "      <td>False</td>\n",
              "      <td>False</td>\n",
              "      <td>False</td>\n",
              "      <td>False</td>\n",
              "      <td>True</td>\n",
              "      <td>...</td>\n",
              "      <td>False</td>\n",
              "      <td>False</td>\n",
              "      <td>63</td>\n",
              "      <td>50.0</td>\n",
              "      <td>44</td>\n",
              "      <td>79.0</td>\n",
              "      <td>61</td>\n",
              "      <td>1358.0</td>\n",
              "      <td>censored</td>\n",
              "      <td>1400</td>\n",
              "    </tr>\n",
              "    <tr>\n",
              "      <th>193</th>\n",
              "      <td>KiTS-00193</td>\n",
              "      <td>71</td>\n",
              "      <td>female</td>\n",
              "      <td>29.99</td>\n",
              "      <td>False</td>\n",
              "      <td>False</td>\n",
              "      <td>False</td>\n",
              "      <td>False</td>\n",
              "      <td>False</td>\n",
              "      <td>False</td>\n",
              "      <td>...</td>\n",
              "      <td>False</td>\n",
              "      <td>False</td>\n",
              "      <td>55</td>\n",
              "      <td>76.0</td>\n",
              "      <td>54</td>\n",
              "      <td>76.0</td>\n",
              "      <td>54</td>\n",
              "      <td>76.0</td>\n",
              "      <td>dead</td>\n",
              "      <td>2479</td>\n",
              "    </tr>\n",
              "    <tr>\n",
              "      <th>194</th>\n",
              "      <td>KiTS-00194</td>\n",
              "      <td>73</td>\n",
              "      <td>male</td>\n",
              "      <td>27.80</td>\n",
              "      <td>False</td>\n",
              "      <td>False</td>\n",
              "      <td>False</td>\n",
              "      <td>False</td>\n",
              "      <td>False</td>\n",
              "      <td>False</td>\n",
              "      <td>...</td>\n",
              "      <td>False</td>\n",
              "      <td>False</td>\n",
              "      <td>NaN</td>\n",
              "      <td>NaN</td>\n",
              "      <td>63</td>\n",
              "      <td>154.0</td>\n",
              "      <td>63</td>\n",
              "      <td>154.0</td>\n",
              "      <td>censored</td>\n",
              "      <td>155</td>\n",
              "    </tr>\n",
              "    <tr>\n",
              "      <th>195</th>\n",
              "      <td>KiTS-00195</td>\n",
              "      <td>65</td>\n",
              "      <td>male</td>\n",
              "      <td>28.80</td>\n",
              "      <td>False</td>\n",
              "      <td>False</td>\n",
              "      <td>False</td>\n",
              "      <td>False</td>\n",
              "      <td>False</td>\n",
              "      <td>False</td>\n",
              "      <td>...</td>\n",
              "      <td>False</td>\n",
              "      <td>False</td>\n",
              "      <td>83</td>\n",
              "      <td>16.0</td>\n",
              "      <td>69</td>\n",
              "      <td>100.0</td>\n",
              "      <td>69</td>\n",
              "      <td>100.0</td>\n",
              "      <td>dead</td>\n",
              "      <td>953</td>\n",
              "    </tr>\n",
              "    <tr>\n",
              "      <th>196</th>\n",
              "      <td>KiTS-00196</td>\n",
              "      <td>57</td>\n",
              "      <td>male</td>\n",
              "      <td>27.64</td>\n",
              "      <td>False</td>\n",
              "      <td>False</td>\n",
              "      <td>False</td>\n",
              "      <td>False</td>\n",
              "      <td>False</td>\n",
              "      <td>False</td>\n",
              "      <td>...</td>\n",
              "      <td>False</td>\n",
              "      <td>False</td>\n",
              "      <td>70</td>\n",
              "      <td>38.0</td>\n",
              "      <td>80</td>\n",
              "      <td>2380.0</td>\n",
              "      <td>80</td>\n",
              "      <td>2380.0</td>\n",
              "      <td>censored</td>\n",
              "      <td>2380</td>\n",
              "    </tr>\n",
              "    <tr>\n",
              "      <th>197</th>\n",
              "      <td>KiTS-00197</td>\n",
              "      <td>84</td>\n",
              "      <td>male</td>\n",
              "      <td>31.15</td>\n",
              "      <td>False</td>\n",
              "      <td>False</td>\n",
              "      <td>False</td>\n",
              "      <td>False</td>\n",
              "      <td>False</td>\n",
              "      <td>False</td>\n",
              "      <td>...</td>\n",
              "      <td>False</td>\n",
              "      <td>False</td>\n",
              "      <td>NaN</td>\n",
              "      <td>NaN</td>\n",
              "      <td>25</td>\n",
              "      <td>100.0</td>\n",
              "      <td>28</td>\n",
              "      <td>737.0</td>\n",
              "      <td>censored</td>\n",
              "      <td>737</td>\n",
              "    </tr>\n",
              "    <tr>\n",
              "      <th>198</th>\n",
              "      <td>KiTS-00198</td>\n",
              "      <td>79</td>\n",
              "      <td>male</td>\n",
              "      <td>26.30</td>\n",
              "      <td>False</td>\n",
              "      <td>False</td>\n",
              "      <td>False</td>\n",
              "      <td>False</td>\n",
              "      <td>False</td>\n",
              "      <td>False</td>\n",
              "      <td>...</td>\n",
              "      <td>False</td>\n",
              "      <td>False</td>\n",
              "      <td>NaN</td>\n",
              "      <td>NaN</td>\n",
              "      <td>60</td>\n",
              "      <td>100.0</td>\n",
              "      <td>72</td>\n",
              "      <td>722.0</td>\n",
              "      <td>censored</td>\n",
              "      <td>883</td>\n",
              "    </tr>\n",
              "    <tr>\n",
              "      <th>199</th>\n",
              "      <td>KiTS-00199</td>\n",
              "      <td>63</td>\n",
              "      <td>male</td>\n",
              "      <td>22.13</td>\n",
              "      <td>False</td>\n",
              "      <td>False</td>\n",
              "      <td>False</td>\n",
              "      <td>False</td>\n",
              "      <td>False</td>\n",
              "      <td>False</td>\n",
              "      <td>...</td>\n",
              "      <td>False</td>\n",
              "      <td>False</td>\n",
              "      <td>80</td>\n",
              "      <td>6.0</td>\n",
              "      <td>47</td>\n",
              "      <td>127.0</td>\n",
              "      <td>54</td>\n",
              "      <td>357.0</td>\n",
              "      <td>censored</td>\n",
              "      <td>357</td>\n",
              "    </tr>\n",
              "    <tr>\n",
              "      <th>200</th>\n",
              "      <td>KiTS-00200</td>\n",
              "      <td>75</td>\n",
              "      <td>male</td>\n",
              "      <td>32.09</td>\n",
              "      <td>False</td>\n",
              "      <td>False</td>\n",
              "      <td>False</td>\n",
              "      <td>False</td>\n",
              "      <td>False</td>\n",
              "      <td>False</td>\n",
              "      <td>...</td>\n",
              "      <td>False</td>\n",
              "      <td>False</td>\n",
              "      <td>NaN</td>\n",
              "      <td>NaN</td>\n",
              "      <td>NaN</td>\n",
              "      <td>NaN</td>\n",
              "      <td>NaN</td>\n",
              "      <td>NaN</td>\n",
              "      <td>censored</td>\n",
              "      <td>19</td>\n",
              "    </tr>\n",
              "    <tr>\n",
              "      <th>201</th>\n",
              "      <td>KiTS-00201</td>\n",
              "      <td>54</td>\n",
              "      <td>male</td>\n",
              "      <td>35.23</td>\n",
              "      <td>False</td>\n",
              "      <td>False</td>\n",
              "      <td>False</td>\n",
              "      <td>False</td>\n",
              "      <td>False</td>\n",
              "      <td>False</td>\n",
              "      <td>...</td>\n",
              "      <td>False</td>\n",
              "      <td>False</td>\n",
              "      <td>NaN</td>\n",
              "      <td>NaN</td>\n",
              "      <td>&gt;=90</td>\n",
              "      <td>170.0</td>\n",
              "      <td>&gt;=90</td>\n",
              "      <td>1080.0</td>\n",
              "      <td>censored</td>\n",
              "      <td>1080</td>\n",
              "    </tr>\n",
              "    <tr>\n",
              "      <th>202</th>\n",
              "      <td>KiTS-00202</td>\n",
              "      <td>56</td>\n",
              "      <td>female</td>\n",
              "      <td>31.75</td>\n",
              "      <td>False</td>\n",
              "      <td>False</td>\n",
              "      <td>False</td>\n",
              "      <td>False</td>\n",
              "      <td>False</td>\n",
              "      <td>False</td>\n",
              "      <td>...</td>\n",
              "      <td>False</td>\n",
              "      <td>True</td>\n",
              "      <td>76</td>\n",
              "      <td>50.0</td>\n",
              "      <td>78</td>\n",
              "      <td>1275.0</td>\n",
              "      <td>78</td>\n",
              "      <td>1275.0</td>\n",
              "      <td>censored</td>\n",
              "      <td>1147</td>\n",
              "    </tr>\n",
              "    <tr>\n",
              "      <th>203</th>\n",
              "      <td>KiTS-00203</td>\n",
              "      <td>81</td>\n",
              "      <td>female</td>\n",
              "      <td>16.20</td>\n",
              "      <td>False</td>\n",
              "      <td>False</td>\n",
              "      <td>False</td>\n",
              "      <td>False</td>\n",
              "      <td>False</td>\n",
              "      <td>True</td>\n",
              "      <td>...</td>\n",
              "      <td>False</td>\n",
              "      <td>False</td>\n",
              "      <td>50</td>\n",
              "      <td>13.0</td>\n",
              "      <td>54</td>\n",
              "      <td>1206.0</td>\n",
              "      <td>54</td>\n",
              "      <td>1206.0</td>\n",
              "      <td>censored</td>\n",
              "      <td>1307</td>\n",
              "    </tr>\n",
              "    <tr>\n",
              "      <th>204</th>\n",
              "      <td>KiTS-00204</td>\n",
              "      <td>63</td>\n",
              "      <td>male</td>\n",
              "      <td>30.81</td>\n",
              "      <td>False</td>\n",
              "      <td>False</td>\n",
              "      <td>False</td>\n",
              "      <td>True</td>\n",
              "      <td>False</td>\n",
              "      <td>False</td>\n",
              "      <td>...</td>\n",
              "      <td>False</td>\n",
              "      <td>True</td>\n",
              "      <td>85</td>\n",
              "      <td>6.0</td>\n",
              "      <td>49</td>\n",
              "      <td>96.0</td>\n",
              "      <td>46</td>\n",
              "      <td>1315.0</td>\n",
              "      <td>censored</td>\n",
              "      <td>1315</td>\n",
              "    </tr>\n",
              "    <tr>\n",
              "      <th>205</th>\n",
              "      <td>KiTS-00205</td>\n",
              "      <td>67</td>\n",
              "      <td>female</td>\n",
              "      <td>31.09</td>\n",
              "      <td>False</td>\n",
              "      <td>False</td>\n",
              "      <td>False</td>\n",
              "      <td>False</td>\n",
              "      <td>False</td>\n",
              "      <td>False</td>\n",
              "      <td>...</td>\n",
              "      <td>False</td>\n",
              "      <td>False</td>\n",
              "      <td>60</td>\n",
              "      <td>6.0</td>\n",
              "      <td>59</td>\n",
              "      <td>843.0</td>\n",
              "      <td>59</td>\n",
              "      <td>843.0</td>\n",
              "      <td>censored</td>\n",
              "      <td>843</td>\n",
              "    </tr>\n",
              "    <tr>\n",
              "      <th>206</th>\n",
              "      <td>KiTS-00206</td>\n",
              "      <td>66</td>\n",
              "      <td>female</td>\n",
              "      <td>42.90</td>\n",
              "      <td>False</td>\n",
              "      <td>False</td>\n",
              "      <td>False</td>\n",
              "      <td>False</td>\n",
              "      <td>False</td>\n",
              "      <td>False</td>\n",
              "      <td>...</td>\n",
              "      <td>False</td>\n",
              "      <td>False</td>\n",
              "      <td>70</td>\n",
              "      <td>1.0</td>\n",
              "      <td>43</td>\n",
              "      <td>254.0</td>\n",
              "      <td>43</td>\n",
              "      <td>254.0</td>\n",
              "      <td>censored</td>\n",
              "      <td>800</td>\n",
              "    </tr>\n",
              "    <tr>\n",
              "      <th>207</th>\n",
              "      <td>KiTS-00207</td>\n",
              "      <td>65</td>\n",
              "      <td>male</td>\n",
              "      <td>27.50</td>\n",
              "      <td>False</td>\n",
              "      <td>False</td>\n",
              "      <td>False</td>\n",
              "      <td>False</td>\n",
              "      <td>False</td>\n",
              "      <td>False</td>\n",
              "      <td>...</td>\n",
              "      <td>True</td>\n",
              "      <td>False</td>\n",
              "      <td>54</td>\n",
              "      <td>25.0</td>\n",
              "      <td>28</td>\n",
              "      <td>100.0</td>\n",
              "      <td>28</td>\n",
              "      <td>841.0</td>\n",
              "      <td>dead</td>\n",
              "      <td>892</td>\n",
              "    </tr>\n",
              "    <tr>\n",
              "      <th>208</th>\n",
              "      <td>KiTS-00208</td>\n",
              "      <td>73</td>\n",
              "      <td>male</td>\n",
              "      <td>30.85</td>\n",
              "      <td>False</td>\n",
              "      <td>False</td>\n",
              "      <td>False</td>\n",
              "      <td>False</td>\n",
              "      <td>False</td>\n",
              "      <td>False</td>\n",
              "      <td>...</td>\n",
              "      <td>False</td>\n",
              "      <td>False</td>\n",
              "      <td>44</td>\n",
              "      <td>13.0</td>\n",
              "      <td>42</td>\n",
              "      <td>80.0</td>\n",
              "      <td>32</td>\n",
              "      <td>1030.0</td>\n",
              "      <td>censored</td>\n",
              "      <td>1057</td>\n",
              "    </tr>\n",
              "    <tr>\n",
              "      <th>209</th>\n",
              "      <td>KiTS-00209</td>\n",
              "      <td>44</td>\n",
              "      <td>male</td>\n",
              "      <td>41.63</td>\n",
              "      <td>False</td>\n",
              "      <td>False</td>\n",
              "      <td>False</td>\n",
              "      <td>False</td>\n",
              "      <td>False</td>\n",
              "      <td>False</td>\n",
              "      <td>...</td>\n",
              "      <td>False</td>\n",
              "      <td>False</td>\n",
              "      <td>81</td>\n",
              "      <td>15.0</td>\n",
              "      <td>73</td>\n",
              "      <td>115.0</td>\n",
              "      <td>79</td>\n",
              "      <td>1233.0</td>\n",
              "      <td>censored</td>\n",
              "      <td>1319</td>\n",
              "    </tr>\n",
              "  </tbody>\n",
              "</table>\n",
              "<p>30 rows × 60 columns</p>\n",
              "</div>"
            ],
            "text/plain": [
              "     patient_id  age_at_nephrectomy  gender  body_mass_index  \\\n",
              "180  KiTS-00180                  82    male            24.53   \n",
              "181  KiTS-00181                  45    male            23.64   \n",
              "182  KiTS-00182                  65  female            43.35   \n",
              "183  KiTS-00183                  63    male            27.65   \n",
              "184  KiTS-00184                  38    male            38.13   \n",
              "185  KiTS-00185                  65    male            34.12   \n",
              "186  KiTS-00186                  56    male            21.77   \n",
              "187  KiTS-00187                  37  female            26.42   \n",
              "188  KiTS-00188                  68  female            23.12   \n",
              "189  KiTS-00189                  41    male            22.36   \n",
              "190  KiTS-00190                  48    male            27.67   \n",
              "191  KiTS-00191                  49    male            24.07   \n",
              "192  KiTS-00192                  61    male            28.75   \n",
              "193  KiTS-00193                  71  female            29.99   \n",
              "194  KiTS-00194                  73    male            27.80   \n",
              "195  KiTS-00195                  65    male            28.80   \n",
              "196  KiTS-00196                  57    male            27.64   \n",
              "197  KiTS-00197                  84    male            31.15   \n",
              "198  KiTS-00198                  79    male            26.30   \n",
              "199  KiTS-00199                  63    male            22.13   \n",
              "200  KiTS-00200                  75    male            32.09   \n",
              "201  KiTS-00201                  54    male            35.23   \n",
              "202  KiTS-00202                  56  female            31.75   \n",
              "203  KiTS-00203                  81  female            16.20   \n",
              "204  KiTS-00204                  63    male            30.81   \n",
              "205  KiTS-00205                  67  female            31.09   \n",
              "206  KiTS-00206                  66  female            42.90   \n",
              "207  KiTS-00207                  65    male            27.50   \n",
              "208  KiTS-00208                  73    male            30.85   \n",
              "209  KiTS-00209                  44    male            41.63   \n",
              "\n",
              "     comorbidities__myocardial_infarction  \\\n",
              "180                                 False   \n",
              "181                                 False   \n",
              "182                                 False   \n",
              "183                                 False   \n",
              "184                                 False   \n",
              "185                                 False   \n",
              "186                                 False   \n",
              "187                                 False   \n",
              "188                                 False   \n",
              "189                                 False   \n",
              "190                                 False   \n",
              "191                                 False   \n",
              "192                                 False   \n",
              "193                                 False   \n",
              "194                                 False   \n",
              "195                                 False   \n",
              "196                                 False   \n",
              "197                                 False   \n",
              "198                                 False   \n",
              "199                                 False   \n",
              "200                                 False   \n",
              "201                                 False   \n",
              "202                                 False   \n",
              "203                                 False   \n",
              "204                                 False   \n",
              "205                                 False   \n",
              "206                                 False   \n",
              "207                                 False   \n",
              "208                                 False   \n",
              "209                                 False   \n",
              "\n",
              "     comorbidities__congestive_heart_failure  \\\n",
              "180                                    False   \n",
              "181                                    False   \n",
              "182                                    False   \n",
              "183                                    False   \n",
              "184                                    False   \n",
              "185                                    False   \n",
              "186                                    False   \n",
              "187                                    False   \n",
              "188                                    False   \n",
              "189                                    False   \n",
              "190                                    False   \n",
              "191                                    False   \n",
              "192                                    False   \n",
              "193                                    False   \n",
              "194                                    False   \n",
              "195                                    False   \n",
              "196                                    False   \n",
              "197                                    False   \n",
              "198                                    False   \n",
              "199                                    False   \n",
              "200                                    False   \n",
              "201                                    False   \n",
              "202                                    False   \n",
              "203                                    False   \n",
              "204                                    False   \n",
              "205                                    False   \n",
              "206                                    False   \n",
              "207                                    False   \n",
              "208                                    False   \n",
              "209                                    False   \n",
              "\n",
              "     comorbidities__peripheral_vascular_disease  \\\n",
              "180                                       False   \n",
              "181                                       False   \n",
              "182                                       False   \n",
              "183                                       False   \n",
              "184                                       False   \n",
              "185                                       False   \n",
              "186                                       False   \n",
              "187                                       False   \n",
              "188                                       False   \n",
              "189                                       False   \n",
              "190                                       False   \n",
              "191                                       False   \n",
              "192                                       False   \n",
              "193                                       False   \n",
              "194                                       False   \n",
              "195                                       False   \n",
              "196                                       False   \n",
              "197                                       False   \n",
              "198                                       False   \n",
              "199                                       False   \n",
              "200                                       False   \n",
              "201                                       False   \n",
              "202                                       False   \n",
              "203                                       False   \n",
              "204                                       False   \n",
              "205                                       False   \n",
              "206                                       False   \n",
              "207                                       False   \n",
              "208                                       False   \n",
              "209                                       False   \n",
              "\n",
              "     comorbidities__cerebrovascular_disease  comorbidities__dementia  \\\n",
              "180                                   False                    False   \n",
              "181                                   False                    False   \n",
              "182                                   False                    False   \n",
              "183                                   False                    False   \n",
              "184                                   False                    False   \n",
              "185                                   False                    False   \n",
              "186                                   False                    False   \n",
              "187                                   False                    False   \n",
              "188                                   False                    False   \n",
              "189                                   False                    False   \n",
              "190                                   False                    False   \n",
              "191                                   False                    False   \n",
              "192                                   False                    False   \n",
              "193                                   False                    False   \n",
              "194                                   False                    False   \n",
              "195                                   False                    False   \n",
              "196                                   False                    False   \n",
              "197                                   False                    False   \n",
              "198                                   False                    False   \n",
              "199                                   False                    False   \n",
              "200                                   False                    False   \n",
              "201                                   False                    False   \n",
              "202                                   False                    False   \n",
              "203                                   False                    False   \n",
              "204                                    True                    False   \n",
              "205                                   False                    False   \n",
              "206                                   False                    False   \n",
              "207                                   False                    False   \n",
              "208                                   False                    False   \n",
              "209                                   False                    False   \n",
              "\n",
              "     comorbidities__copd  ...  cytoreductive  positive_resection_margins  \\\n",
              "180                False  ...           True                       False   \n",
              "181                False  ...          False                       False   \n",
              "182                False  ...          False                       False   \n",
              "183                False  ...          False                       False   \n",
              "184                False  ...           True                       False   \n",
              "185                False  ...          False                       False   \n",
              "186                False  ...          False                       False   \n",
              "187                False  ...          False                       False   \n",
              "188                False  ...          False                       False   \n",
              "189                False  ...           True                       False   \n",
              "190                False  ...          False                       False   \n",
              "191                False  ...          False                       False   \n",
              "192                 True  ...          False                       False   \n",
              "193                False  ...          False                       False   \n",
              "194                False  ...          False                       False   \n",
              "195                False  ...          False                       False   \n",
              "196                False  ...          False                       False   \n",
              "197                False  ...          False                       False   \n",
              "198                False  ...          False                       False   \n",
              "199                False  ...          False                       False   \n",
              "200                False  ...          False                       False   \n",
              "201                False  ...          False                       False   \n",
              "202                False  ...          False                        True   \n",
              "203                 True  ...          False                       False   \n",
              "204                False  ...          False                        True   \n",
              "205                False  ...          False                       False   \n",
              "206                False  ...          False                       False   \n",
              "207                False  ...           True                       False   \n",
              "208                False  ...          False                       False   \n",
              "209                False  ...          False                       False   \n",
              "\n",
              "     last_preop_egfr  last_preop_egfr_days_before_surgery  first_postop_egfr  \\\n",
              "180               57                                 16.0                 40   \n",
              "181             >=90                                  4.0                NaN   \n",
              "182             >=90                                 62.0                NaN   \n",
              "183              NaN                                  NaN                 44   \n",
              "184               75                                 45.0                 46   \n",
              "185               58                                 25.0                NaN   \n",
              "186             >=90                                 26.0                 76   \n",
              "187              NaN                                  NaN               >=90   \n",
              "188               80                                  5.0                 80   \n",
              "189             >=90                                 13.0                 62   \n",
              "190              NaN                                  NaN                 61   \n",
              "191             >=90                                 47.0                NaN   \n",
              "192               63                                 50.0                 44   \n",
              "193               55                                 76.0                 54   \n",
              "194              NaN                                  NaN                 63   \n",
              "195               83                                 16.0                 69   \n",
              "196               70                                 38.0                 80   \n",
              "197              NaN                                  NaN                 25   \n",
              "198              NaN                                  NaN                 60   \n",
              "199               80                                  6.0                 47   \n",
              "200              NaN                                  NaN                NaN   \n",
              "201              NaN                                  NaN               >=90   \n",
              "202               76                                 50.0                 78   \n",
              "203               50                                 13.0                 54   \n",
              "204               85                                  6.0                 49   \n",
              "205               60                                  6.0                 59   \n",
              "206               70                                  1.0                 43   \n",
              "207               54                                 25.0                 28   \n",
              "208               44                                 13.0                 42   \n",
              "209               81                                 15.0                 73   \n",
              "\n",
              "     first_postop_egfr_days_after_surgery  last_postop_egfr  \\\n",
              "180                                 103.0                42   \n",
              "181                                   NaN               NaN   \n",
              "182                                   NaN               NaN   \n",
              "183                                1083.0                44   \n",
              "184                                  76.0                 5   \n",
              "185                                   NaN               NaN   \n",
              "186                                 698.0                76   \n",
              "187                                 126.0              >=90   \n",
              "188                                  92.0                73   \n",
              "189                                  89.0                35   \n",
              "190                                 407.0                61   \n",
              "191                                   NaN               NaN   \n",
              "192                                  79.0                61   \n",
              "193                                  76.0                54   \n",
              "194                                 154.0                63   \n",
              "195                                 100.0                69   \n",
              "196                                2380.0                80   \n",
              "197                                 100.0                28   \n",
              "198                                 100.0                72   \n",
              "199                                 127.0                54   \n",
              "200                                   NaN               NaN   \n",
              "201                                 170.0              >=90   \n",
              "202                                1275.0                78   \n",
              "203                                1206.0                54   \n",
              "204                                  96.0                46   \n",
              "205                                 843.0                59   \n",
              "206                                 254.0                43   \n",
              "207                                 100.0                28   \n",
              "208                                  80.0                32   \n",
              "209                                 115.0                79   \n",
              "\n",
              "     last_postop_egfr_days_after_surgery  vital_status  \\\n",
              "180                               1678.0          dead   \n",
              "181                                  NaN          dead   \n",
              "182                                  NaN      censored   \n",
              "183                               1083.0      censored   \n",
              "184                                229.0      censored   \n",
              "185                                  NaN      censored   \n",
              "186                                698.0      censored   \n",
              "187                                640.0      censored   \n",
              "188                               1367.0      censored   \n",
              "189                                385.0          dead   \n",
              "190                                407.0      censored   \n",
              "191                                  NaN      censored   \n",
              "192                               1358.0      censored   \n",
              "193                                 76.0          dead   \n",
              "194                                154.0      censored   \n",
              "195                                100.0          dead   \n",
              "196                               2380.0      censored   \n",
              "197                                737.0      censored   \n",
              "198                                722.0      censored   \n",
              "199                                357.0      censored   \n",
              "200                                  NaN      censored   \n",
              "201                               1080.0      censored   \n",
              "202                               1275.0      censored   \n",
              "203                               1206.0      censored   \n",
              "204                               1315.0      censored   \n",
              "205                                843.0      censored   \n",
              "206                                254.0      censored   \n",
              "207                                841.0          dead   \n",
              "208                               1030.0      censored   \n",
              "209                               1233.0      censored   \n",
              "\n",
              "     vital_days_after_surgery  \n",
              "180                      2000  \n",
              "181                       177  \n",
              "182                      1226  \n",
              "183                      1092  \n",
              "184                       894  \n",
              "185                         0  \n",
              "186                       698  \n",
              "187                       980  \n",
              "188                      1529  \n",
              "189                       391  \n",
              "190                       434  \n",
              "191                       394  \n",
              "192                      1400  \n",
              "193                      2479  \n",
              "194                       155  \n",
              "195                       953  \n",
              "196                      2380  \n",
              "197                       737  \n",
              "198                       883  \n",
              "199                       357  \n",
              "200                        19  \n",
              "201                      1080  \n",
              "202                      1147  \n",
              "203                      1307  \n",
              "204                      1315  \n",
              "205                       843  \n",
              "206                       800  \n",
              "207                       892  \n",
              "208                      1057  \n",
              "209                      1319  \n",
              "\n",
              "[30 rows x 60 columns]"
            ]
          },
          "execution_count": 6,
          "metadata": {},
          "output_type": "execute_result"
        }
      ],
      "source": [
        "dataset.shape\n",
        "dataset.tail(30)"
      ]
    },
    {
      "cell_type": "code",
      "execution_count": null,
      "metadata": {
        "id": "gmfWLhzaAcpd",
        "outputId": "f1716003-a31c-45af-aaba-18e72fb201ab"
      },
      "outputs": [
        {
          "data": {
            "application/vnd.deepnote.dataframe.v3+json": {
              "column_count": 17,
              "columns": [
                {
                  "dtype": "object",
                  "name": "Series UID",
                  "stats": {
                    "categories": [
                      {
                        "count": 5,
                        "name": "C4KC-KiTS"
                      }
                    ],
                    "nan_count": 0,
                    "unique_count": 1
                  }
                },
                {
                  "dtype": "float64",
                  "name": "Collection",
                  "stats": {
                    "histogram": [
                      {
                        "bin_end": 0.1,
                        "bin_start": 0,
                        "count": 0
                      },
                      {
                        "bin_end": 0.2,
                        "bin_start": 0.1,
                        "count": 0
                      },
                      {
                        "bin_end": 0.30000000000000004,
                        "bin_start": 0.2,
                        "count": 0
                      },
                      {
                        "bin_end": 0.4,
                        "bin_start": 0.30000000000000004,
                        "count": 0
                      },
                      {
                        "bin_end": 0.5,
                        "bin_start": 0.4,
                        "count": 0
                      },
                      {
                        "bin_end": 0.6000000000000001,
                        "bin_start": 0.5,
                        "count": 0
                      },
                      {
                        "bin_end": 0.7000000000000001,
                        "bin_start": 0.6000000000000001,
                        "count": 0
                      },
                      {
                        "bin_end": 0.8,
                        "bin_start": 0.7000000000000001,
                        "count": 0
                      },
                      {
                        "bin_end": 0.9,
                        "bin_start": 0.8,
                        "count": 0
                      },
                      {
                        "bin_end": 1,
                        "bin_start": 0.9,
                        "count": 0
                      }
                    ],
                    "max": null,
                    "min": null,
                    "nan_count": 5,
                    "unique_count": 0
                  }
                },
                {
                  "dtype": "object",
                  "name": "3rd Party Analysis",
                  "stats": {
                    "categories": [
                      {
                        "count": 5,
                        "name": "https://doi.org/10.7937/TCIA.2019.IX49E8NX"
                      }
                    ],
                    "nan_count": 0,
                    "unique_count": 1
                  }
                },
                {
                  "dtype": "object",
                  "name": "Data Description URI",
                  "stats": {
                    "categories": [
                      {
                        "count": 3,
                        "name": "KiTS-00000"
                      },
                      {
                        "count": 2,
                        "name": "KiTS-00001"
                      }
                    ],
                    "nan_count": 0,
                    "unique_count": 2
                  }
                },
                {
                  "dtype": "object",
                  "name": "Subject ID",
                  "stats": {
                    "categories": [
                      {
                        "count": 3,
                        "name": "1.3.6.1.4.1.14519.5.2.1.6919.4624.135173370342136417423953641748"
                      },
                      {
                        "count": 2,
                        "name": "1.3.6.1.4.1.14519.5.2.1.6919.4624.138299679445949029090789149621"
                      }
                    ],
                    "nan_count": 0,
                    "unique_count": 2
                  }
                },
                {
                  "dtype": "object",
                  "name": "Study UID",
                  "stats": {
                    "categories": [
                      {
                        "count": 5,
                        "name": "threephaseabdomen"
                      }
                    ],
                    "nan_count": 0,
                    "unique_count": 1
                  }
                },
                {
                  "dtype": "object",
                  "name": "Study Description",
                  "stats": {
                    "categories": [
                      {
                        "count": 3,
                        "name": "06-29-2003"
                      },
                      {
                        "count": 2,
                        "name": "11-13-2003"
                      }
                    ],
                    "nan_count": 0,
                    "unique_count": 2
                  }
                },
                {
                  "dtype": "object",
                  "name": "Study Date",
                  "stats": {
                    "categories": [
                      {
                        "count": 2,
                        "name": "Segmentation"
                      },
                      {
                        "count": 2,
                        "name": "noncontrast"
                      },
                      {
                        "count": 1,
                        "name": "late"
                      }
                    ],
                    "nan_count": 0,
                    "unique_count": 3
                  }
                },
                {
                  "dtype": "object",
                  "name": "Series Description",
                  "stats": {
                    "categories": [
                      {
                        "count": 3,
                        "name": "SIEMENS"
                      },
                      {
                        "count": 2,
                        "name": "QIICR"
                      }
                    ],
                    "nan_count": 0,
                    "unique_count": 2
                  }
                },
                {
                  "dtype": "object",
                  "name": "Manufacturer",
                  "stats": {
                    "categories": [
                      {
                        "count": 3,
                        "name": "CT"
                      },
                      {
                        "count": 2,
                        "name": "SEG"
                      }
                    ],
                    "nan_count": 0,
                    "unique_count": 2
                  }
                },
                {
                  "dtype": "object",
                  "name": "Modality",
                  "stats": {
                    "categories": [
                      {
                        "count": 3,
                        "name": "CT Image Storage"
                      },
                      {
                        "count": 2,
                        "name": "Segmentation Storage"
                      }
                    ],
                    "nan_count": 0,
                    "unique_count": 2
                  }
                },
                {
                  "dtype": "object",
                  "name": "SOP Class Name",
                  "stats": {
                    "categories": [
                      {
                        "count": 3,
                        "name": "1.2.840.10008.5.1.4.1.1.2"
                      },
                      {
                        "count": 2,
                        "name": "1.2.840.10008.5.1.4.1.1.66.4"
                      }
                    ],
                    "nan_count": 0,
                    "unique_count": 2
                  }
                },
                {
                  "dtype": "int64",
                  "name": "SOP Class UID",
                  "stats": {
                    "histogram": [
                      {
                        "bin_end": 16.3,
                        "bin_start": 1,
                        "count": 2
                      },
                      {
                        "bin_end": 31.6,
                        "bin_start": 16.3,
                        "count": 0
                      },
                      {
                        "bin_end": 46.900000000000006,
                        "bin_start": 31.6,
                        "count": 0
                      },
                      {
                        "bin_end": 62.2,
                        "bin_start": 46.900000000000006,
                        "count": 0
                      },
                      {
                        "bin_end": 77.5,
                        "bin_start": 62.2,
                        "count": 0
                      },
                      {
                        "bin_end": 92.80000000000001,
                        "bin_start": 77.5,
                        "count": 0
                      },
                      {
                        "bin_end": 108.10000000000001,
                        "bin_start": 92.80000000000001,
                        "count": 2
                      },
                      {
                        "bin_end": 123.4,
                        "bin_start": 108.10000000000001,
                        "count": 0
                      },
                      {
                        "bin_end": 138.70000000000002,
                        "bin_start": 123.4,
                        "count": 0
                      },
                      {
                        "bin_end": 154,
                        "bin_start": 138.70000000000002,
                        "count": 1
                      }
                    ],
                    "max": "154",
                    "min": "1",
                    "nan_count": 0,
                    "unique_count": 4
                  }
                },
                {
                  "dtype": "int64",
                  "name": "Number of Images",
                  "stats": {
                    "histogram": [
                      {
                        "bin_end": 44.1,
                        "bin_start": 40,
                        "count": 2
                      },
                      {
                        "bin_end": 48.2,
                        "bin_start": 44.1,
                        "count": 0
                      },
                      {
                        "bin_end": 52.3,
                        "bin_start": 48.2,
                        "count": 1
                      },
                      {
                        "bin_end": 56.4,
                        "bin_start": 52.3,
                        "count": 1
                      },
                      {
                        "bin_end": 60.5,
                        "bin_start": 56.4,
                        "count": 0
                      },
                      {
                        "bin_end": 64.6,
                        "bin_start": 60.5,
                        "count": 0
                      },
                      {
                        "bin_end": 68.69999999999999,
                        "bin_start": 64.6,
                        "count": 0
                      },
                      {
                        "bin_end": 72.8,
                        "bin_start": 68.69999999999999,
                        "count": 0
                      },
                      {
                        "bin_end": 76.9,
                        "bin_start": 72.8,
                        "count": 0
                      },
                      {
                        "bin_end": 81,
                        "bin_start": 76.9,
                        "count": 1
                      }
                    ],
                    "max": "81",
                    "min": "40",
                    "nan_count": 0,
                    "unique_count": 4
                  }
                },
                {
                  "dtype": "object",
                  "name": "File Size",
                  "stats": {
                    "categories": [
                      {
                        "count": 1,
                        "name": "82 MB"
                      },
                      {
                        "count": 1,
                        "name": "10 MB"
                      },
                      {
                        "count": 3,
                        "name": "3 others"
                      }
                    ],
                    "nan_count": 0,
                    "unique_count": 5
                  }
                },
                {
                  "dtype": "object",
                  "name": "File Location",
                  "stats": {
                    "categories": [
                      {
                        "count": 1,
                        "name": ".\\C4KC-KiTS\\KiTS-00000\\06-29-2003-NA-threephaseabdomen-41748\\300.000000-Segmentation-64537"
                      },
                      {
                        "count": 1,
                        "name": ".\\C4KC-KiTS\\KiTS-00000\\06-29-2003-NA-threephaseabdomen-41748\\5.000000-noncontrast-64798"
                      },
                      {
                        "count": 3,
                        "name": "3 others"
                      }
                    ],
                    "nan_count": 0,
                    "unique_count": 5
                  }
                },
                {
                  "dtype": "object",
                  "name": "Download Timestamp",
                  "stats": {
                    "categories": [
                      {
                        "count": 1,
                        "name": "2022-06-28T15:44:47.459"
                      },
                      {
                        "count": 1,
                        "name": "2022-06-28T15:45:26.965"
                      },
                      {
                        "count": 3,
                        "name": "3 others"
                      }
                    ],
                    "nan_count": 0,
                    "unique_count": 5
                  }
                },
                {
                  "dtype": "object",
                  "name": "_deepnote_index_column"
                }
              ],
              "row_count": 5,
              "rows": [
                {
                  "3rd Party Analysis": "https://doi.org/10.7937/TCIA.2019.IX49E8NX",
                  "Collection": "nan",
                  "Data Description URI": "KiTS-00000",
                  "Download Timestamp": "2022-06-28T15:44:47.459",
                  "File Location": ".\\C4KC-KiTS\\KiTS-00000\\06-29-2003-NA-threephaseabdomen-41748\\300.000000-Segmentation-64537",
                  "File Size": "82 MB",
                  "Manufacturer": "SEG",
                  "Modality": "Segmentation Storage",
                  "Number of Images": 40,
                  "SOP Class Name": "1.2.840.10008.5.1.4.1.1.66.4",
                  "SOP Class UID": 1,
                  "Series Description": "QIICR",
                  "Series UID": "C4KC-KiTS",
                  "Study Date": "Segmentation",
                  "Study Description": "06-29-2003",
                  "Study UID": "threephaseabdomen",
                  "Subject ID": "1.3.6.1.4.1.14519.5.2.1.6919.4624.135173370342136417423953641748",
                  "_deepnote_index_column": "1.2.276.0.7230010.3.1.3.0.74366.1588583084.764537"
                },
                {
                  "3rd Party Analysis": "https://doi.org/10.7937/TCIA.2019.IX49E8NX",
                  "Collection": "nan",
                  "Data Description URI": "KiTS-00000",
                  "Download Timestamp": "2022-06-28T15:45:26.965",
                  "File Location": ".\\C4KC-KiTS\\KiTS-00000\\06-29-2003-NA-threephaseabdomen-41748\\5.000000-noncontrast-64798",
                  "File Size": "10 MB",
                  "Manufacturer": "CT",
                  "Modality": "CT Image Storage",
                  "Number of Images": 49,
                  "SOP Class Name": "1.2.840.10008.5.1.4.1.1.2",
                  "SOP Class UID": 93,
                  "Series Description": "SIEMENS",
                  "Series UID": "C4KC-KiTS",
                  "Study Date": "noncontrast",
                  "Study Description": "06-29-2003",
                  "Study UID": "threephaseabdomen",
                  "Subject ID": "1.3.6.1.4.1.14519.5.2.1.6919.4624.135173370342136417423953641748",
                  "_deepnote_index_column": "1.3.6.1.4.1.14519.5.2.1.6919.4624.313514201353787659031503464798"
                },
                {
                  "3rd Party Analysis": "https://doi.org/10.7937/TCIA.2019.IX49E8NX",
                  "Collection": "nan",
                  "Data Description URI": "KiTS-00001",
                  "Download Timestamp": "2022-06-28T15:46:01.505",
                  "File Location": ".\\C4KC-KiTS\\KiTS-00001\\11-13-2003-NA-threephaseabdomen-49621\\300.000000-Segmentation-44409",
                  "File Size": "22 MB",
                  "Manufacturer": "SEG",
                  "Modality": "Segmentation Storage",
                  "Number of Images": 40,
                  "SOP Class Name": "1.2.840.10008.5.1.4.1.1.66.4",
                  "SOP Class UID": 1,
                  "Series Description": "QIICR",
                  "Series UID": "C4KC-KiTS",
                  "Study Date": "Segmentation",
                  "Study Description": "11-13-2003",
                  "Study UID": "threephaseabdomen",
                  "Subject ID": "1.3.6.1.4.1.14519.5.2.1.6919.4624.138299679445949029090789149621",
                  "_deepnote_index_column": "1.2.276.0.7230010.3.1.3.0.74416.1588583149.544409"
                },
                {
                  "3rd Party Analysis": "https://doi.org/10.7937/TCIA.2019.IX49E8NX",
                  "Collection": "nan",
                  "Data Description URI": "KiTS-00000",
                  "Download Timestamp": "2022-06-28T15:47:15.449",
                  "File Location": ".\\C4KC-KiTS\\KiTS-00000\\06-29-2003-NA-threephaseabdomen-41748\\10.000000-late-10134",
                  "File Size": "33 MB",
                  "Manufacturer": "CT",
                  "Modality": "CT Image Storage",
                  "Number of Images": 81,
                  "SOP Class Name": "1.2.840.10008.5.1.4.1.1.2",
                  "SOP Class UID": 154,
                  "Series Description": "SIEMENS",
                  "Series UID": "C4KC-KiTS",
                  "Study Date": "late",
                  "Study Description": "06-29-2003",
                  "Study UID": "threephaseabdomen",
                  "Subject ID": "1.3.6.1.4.1.14519.5.2.1.6919.4624.135173370342136417423953641748",
                  "_deepnote_index_column": "1.3.6.1.4.1.14519.5.2.1.6919.4624.319956314021047038498210610134"
                },
                {
                  "3rd Party Analysis": "https://doi.org/10.7937/TCIA.2019.IX49E8NX",
                  "Collection": "nan",
                  "Data Description URI": "KiTS-00001",
                  "Download Timestamp": "2022-06-28T15:48:48.813",
                  "File Location": ".\\C4KC-KiTS\\KiTS-00001\\11-13-2003-NA-threephaseabdomen-49621\\10.000000-noncontrast-02453",
                  "File Size": "85 MB",
                  "Manufacturer": "CT",
                  "Modality": "CT Image Storage",
                  "Number of Images": 53,
                  "SOP Class Name": "1.2.840.10008.5.1.4.1.1.2",
                  "SOP Class UID": 102,
                  "Series Description": "SIEMENS",
                  "Series UID": "C4KC-KiTS",
                  "Study Date": "noncontrast",
                  "Study Description": "11-13-2003",
                  "Study UID": "threephaseabdomen",
                  "Subject ID": "1.3.6.1.4.1.14519.5.2.1.6919.4624.138299679445949029090789149621",
                  "_deepnote_index_column": "1.3.6.1.4.1.14519.5.2.1.6919.4624.241474384128770482476403302453"
                }
              ]
            },
            "text/html": [
              "<div>\n",
              "<style scoped>\n",
              "    .dataframe tbody tr th:only-of-type {\n",
              "        vertical-align: middle;\n",
              "    }\n",
              "\n",
              "    .dataframe tbody tr th {\n",
              "        vertical-align: top;\n",
              "    }\n",
              "\n",
              "    .dataframe thead th {\n",
              "        text-align: right;\n",
              "    }\n",
              "</style>\n",
              "<table border=\"1\" class=\"dataframe\">\n",
              "  <thead>\n",
              "    <tr style=\"text-align: right;\">\n",
              "      <th></th>\n",
              "      <th>Series UID</th>\n",
              "      <th>Collection</th>\n",
              "      <th>3rd Party Analysis</th>\n",
              "      <th>Data Description URI</th>\n",
              "      <th>Subject ID</th>\n",
              "      <th>Study UID</th>\n",
              "      <th>Study Description</th>\n",
              "      <th>Study Date</th>\n",
              "      <th>Series Description</th>\n",
              "      <th>Manufacturer</th>\n",
              "      <th>Modality</th>\n",
              "      <th>SOP Class Name</th>\n",
              "      <th>SOP Class UID</th>\n",
              "      <th>Number of Images</th>\n",
              "      <th>File Size</th>\n",
              "      <th>File Location</th>\n",
              "      <th>Download Timestamp</th>\n",
              "    </tr>\n",
              "  </thead>\n",
              "  <tbody>\n",
              "    <tr>\n",
              "      <th>1.2.276.0.7230010.3.1.3.0.74366.1588583084.764537</th>\n",
              "      <td>C4KC-KiTS</td>\n",
              "      <td>NaN</td>\n",
              "      <td>https://doi.org/10.7937/TCIA.2019.IX49E8NX</td>\n",
              "      <td>KiTS-00000</td>\n",
              "      <td>1.3.6.1.4.1.14519.5.2.1.6919.4624.135173370342...</td>\n",
              "      <td>threephaseabdomen</td>\n",
              "      <td>06-29-2003</td>\n",
              "      <td>Segmentation</td>\n",
              "      <td>QIICR</td>\n",
              "      <td>SEG</td>\n",
              "      <td>Segmentation Storage</td>\n",
              "      <td>1.2.840.10008.5.1.4.1.1.66.4</td>\n",
              "      <td>1</td>\n",
              "      <td>40</td>\n",
              "      <td>82 MB</td>\n",
              "      <td>.\\C4KC-KiTS\\KiTS-00000\\06-29-2003-NA-threephas...</td>\n",
              "      <td>2022-06-28T15:44:47.459</td>\n",
              "    </tr>\n",
              "    <tr>\n",
              "      <th>1.3.6.1.4.1.14519.5.2.1.6919.4624.313514201353787659031503464798</th>\n",
              "      <td>C4KC-KiTS</td>\n",
              "      <td>NaN</td>\n",
              "      <td>https://doi.org/10.7937/TCIA.2019.IX49E8NX</td>\n",
              "      <td>KiTS-00000</td>\n",
              "      <td>1.3.6.1.4.1.14519.5.2.1.6919.4624.135173370342...</td>\n",
              "      <td>threephaseabdomen</td>\n",
              "      <td>06-29-2003</td>\n",
              "      <td>noncontrast</td>\n",
              "      <td>SIEMENS</td>\n",
              "      <td>CT</td>\n",
              "      <td>CT Image Storage</td>\n",
              "      <td>1.2.840.10008.5.1.4.1.1.2</td>\n",
              "      <td>93</td>\n",
              "      <td>49</td>\n",
              "      <td>10 MB</td>\n",
              "      <td>.\\C4KC-KiTS\\KiTS-00000\\06-29-2003-NA-threephas...</td>\n",
              "      <td>2022-06-28T15:45:26.965</td>\n",
              "    </tr>\n",
              "    <tr>\n",
              "      <th>1.2.276.0.7230010.3.1.3.0.74416.1588583149.544409</th>\n",
              "      <td>C4KC-KiTS</td>\n",
              "      <td>NaN</td>\n",
              "      <td>https://doi.org/10.7937/TCIA.2019.IX49E8NX</td>\n",
              "      <td>KiTS-00001</td>\n",
              "      <td>1.3.6.1.4.1.14519.5.2.1.6919.4624.138299679445...</td>\n",
              "      <td>threephaseabdomen</td>\n",
              "      <td>11-13-2003</td>\n",
              "      <td>Segmentation</td>\n",
              "      <td>QIICR</td>\n",
              "      <td>SEG</td>\n",
              "      <td>Segmentation Storage</td>\n",
              "      <td>1.2.840.10008.5.1.4.1.1.66.4</td>\n",
              "      <td>1</td>\n",
              "      <td>40</td>\n",
              "      <td>22 MB</td>\n",
              "      <td>.\\C4KC-KiTS\\KiTS-00001\\11-13-2003-NA-threephas...</td>\n",
              "      <td>2022-06-28T15:46:01.505</td>\n",
              "    </tr>\n",
              "    <tr>\n",
              "      <th>1.3.6.1.4.1.14519.5.2.1.6919.4624.319956314021047038498210610134</th>\n",
              "      <td>C4KC-KiTS</td>\n",
              "      <td>NaN</td>\n",
              "      <td>https://doi.org/10.7937/TCIA.2019.IX49E8NX</td>\n",
              "      <td>KiTS-00000</td>\n",
              "      <td>1.3.6.1.4.1.14519.5.2.1.6919.4624.135173370342...</td>\n",
              "      <td>threephaseabdomen</td>\n",
              "      <td>06-29-2003</td>\n",
              "      <td>late</td>\n",
              "      <td>SIEMENS</td>\n",
              "      <td>CT</td>\n",
              "      <td>CT Image Storage</td>\n",
              "      <td>1.2.840.10008.5.1.4.1.1.2</td>\n",
              "      <td>154</td>\n",
              "      <td>81</td>\n",
              "      <td>33 MB</td>\n",
              "      <td>.\\C4KC-KiTS\\KiTS-00000\\06-29-2003-NA-threephas...</td>\n",
              "      <td>2022-06-28T15:47:15.449</td>\n",
              "    </tr>\n",
              "    <tr>\n",
              "      <th>1.3.6.1.4.1.14519.5.2.1.6919.4624.241474384128770482476403302453</th>\n",
              "      <td>C4KC-KiTS</td>\n",
              "      <td>NaN</td>\n",
              "      <td>https://doi.org/10.7937/TCIA.2019.IX49E8NX</td>\n",
              "      <td>KiTS-00001</td>\n",
              "      <td>1.3.6.1.4.1.14519.5.2.1.6919.4624.138299679445...</td>\n",
              "      <td>threephaseabdomen</td>\n",
              "      <td>11-13-2003</td>\n",
              "      <td>noncontrast</td>\n",
              "      <td>SIEMENS</td>\n",
              "      <td>CT</td>\n",
              "      <td>CT Image Storage</td>\n",
              "      <td>1.2.840.10008.5.1.4.1.1.2</td>\n",
              "      <td>102</td>\n",
              "      <td>53</td>\n",
              "      <td>85 MB</td>\n",
              "      <td>.\\C4KC-KiTS\\KiTS-00001\\11-13-2003-NA-threephas...</td>\n",
              "      <td>2022-06-28T15:48:48.813</td>\n",
              "    </tr>\n",
              "  </tbody>\n",
              "</table>\n",
              "</div>"
            ],
            "text/plain": [
              "                                                   Series UID  Collection  \\\n",
              "1.2.276.0.7230010.3.1.3.0.74366.1588583084.764537   C4KC-KiTS         NaN   \n",
              "1.3.6.1.4.1.14519.5.2.1.6919.4624.3135142013537...  C4KC-KiTS         NaN   \n",
              "1.2.276.0.7230010.3.1.3.0.74416.1588583149.544409   C4KC-KiTS         NaN   \n",
              "1.3.6.1.4.1.14519.5.2.1.6919.4624.3199563140210...  C4KC-KiTS         NaN   \n",
              "1.3.6.1.4.1.14519.5.2.1.6919.4624.2414743841287...  C4KC-KiTS         NaN   \n",
              "\n",
              "                                                                            3rd Party Analysis  \\\n",
              "1.2.276.0.7230010.3.1.3.0.74366.1588583084.764537   https://doi.org/10.7937/TCIA.2019.IX49E8NX   \n",
              "1.3.6.1.4.1.14519.5.2.1.6919.4624.3135142013537...  https://doi.org/10.7937/TCIA.2019.IX49E8NX   \n",
              "1.2.276.0.7230010.3.1.3.0.74416.1588583149.544409   https://doi.org/10.7937/TCIA.2019.IX49E8NX   \n",
              "1.3.6.1.4.1.14519.5.2.1.6919.4624.3199563140210...  https://doi.org/10.7937/TCIA.2019.IX49E8NX   \n",
              "1.3.6.1.4.1.14519.5.2.1.6919.4624.2414743841287...  https://doi.org/10.7937/TCIA.2019.IX49E8NX   \n",
              "\n",
              "                                                   Data Description URI  \\\n",
              "1.2.276.0.7230010.3.1.3.0.74366.1588583084.764537            KiTS-00000   \n",
              "1.3.6.1.4.1.14519.5.2.1.6919.4624.3135142013537...           KiTS-00000   \n",
              "1.2.276.0.7230010.3.1.3.0.74416.1588583149.544409            KiTS-00001   \n",
              "1.3.6.1.4.1.14519.5.2.1.6919.4624.3199563140210...           KiTS-00000   \n",
              "1.3.6.1.4.1.14519.5.2.1.6919.4624.2414743841287...           KiTS-00001   \n",
              "\n",
              "                                                                                           Subject ID  \\\n",
              "1.2.276.0.7230010.3.1.3.0.74366.1588583084.764537   1.3.6.1.4.1.14519.5.2.1.6919.4624.135173370342...   \n",
              "1.3.6.1.4.1.14519.5.2.1.6919.4624.3135142013537...  1.3.6.1.4.1.14519.5.2.1.6919.4624.135173370342...   \n",
              "1.2.276.0.7230010.3.1.3.0.74416.1588583149.544409   1.3.6.1.4.1.14519.5.2.1.6919.4624.138299679445...   \n",
              "1.3.6.1.4.1.14519.5.2.1.6919.4624.3199563140210...  1.3.6.1.4.1.14519.5.2.1.6919.4624.135173370342...   \n",
              "1.3.6.1.4.1.14519.5.2.1.6919.4624.2414743841287...  1.3.6.1.4.1.14519.5.2.1.6919.4624.138299679445...   \n",
              "\n",
              "                                                            Study UID  \\\n",
              "1.2.276.0.7230010.3.1.3.0.74366.1588583084.764537   threephaseabdomen   \n",
              "1.3.6.1.4.1.14519.5.2.1.6919.4624.3135142013537...  threephaseabdomen   \n",
              "1.2.276.0.7230010.3.1.3.0.74416.1588583149.544409   threephaseabdomen   \n",
              "1.3.6.1.4.1.14519.5.2.1.6919.4624.3199563140210...  threephaseabdomen   \n",
              "1.3.6.1.4.1.14519.5.2.1.6919.4624.2414743841287...  threephaseabdomen   \n",
              "\n",
              "                                                   Study Description  \\\n",
              "1.2.276.0.7230010.3.1.3.0.74366.1588583084.764537         06-29-2003   \n",
              "1.3.6.1.4.1.14519.5.2.1.6919.4624.3135142013537...        06-29-2003   \n",
              "1.2.276.0.7230010.3.1.3.0.74416.1588583149.544409         11-13-2003   \n",
              "1.3.6.1.4.1.14519.5.2.1.6919.4624.3199563140210...        06-29-2003   \n",
              "1.3.6.1.4.1.14519.5.2.1.6919.4624.2414743841287...        11-13-2003   \n",
              "\n",
              "                                                      Study Date  \\\n",
              "1.2.276.0.7230010.3.1.3.0.74366.1588583084.764537   Segmentation   \n",
              "1.3.6.1.4.1.14519.5.2.1.6919.4624.3135142013537...   noncontrast   \n",
              "1.2.276.0.7230010.3.1.3.0.74416.1588583149.544409   Segmentation   \n",
              "1.3.6.1.4.1.14519.5.2.1.6919.4624.3199563140210...          late   \n",
              "1.3.6.1.4.1.14519.5.2.1.6919.4624.2414743841287...   noncontrast   \n",
              "\n",
              "                                                   Series Description  \\\n",
              "1.2.276.0.7230010.3.1.3.0.74366.1588583084.764537               QIICR   \n",
              "1.3.6.1.4.1.14519.5.2.1.6919.4624.3135142013537...            SIEMENS   \n",
              "1.2.276.0.7230010.3.1.3.0.74416.1588583149.544409               QIICR   \n",
              "1.3.6.1.4.1.14519.5.2.1.6919.4624.3199563140210...            SIEMENS   \n",
              "1.3.6.1.4.1.14519.5.2.1.6919.4624.2414743841287...            SIEMENS   \n",
              "\n",
              "                                                   Manufacturer  \\\n",
              "1.2.276.0.7230010.3.1.3.0.74366.1588583084.764537           SEG   \n",
              "1.3.6.1.4.1.14519.5.2.1.6919.4624.3135142013537...           CT   \n",
              "1.2.276.0.7230010.3.1.3.0.74416.1588583149.544409           SEG   \n",
              "1.3.6.1.4.1.14519.5.2.1.6919.4624.3199563140210...           CT   \n",
              "1.3.6.1.4.1.14519.5.2.1.6919.4624.2414743841287...           CT   \n",
              "\n",
              "                                                                Modality  \\\n",
              "1.2.276.0.7230010.3.1.3.0.74366.1588583084.764537   Segmentation Storage   \n",
              "1.3.6.1.4.1.14519.5.2.1.6919.4624.3135142013537...      CT Image Storage   \n",
              "1.2.276.0.7230010.3.1.3.0.74416.1588583149.544409   Segmentation Storage   \n",
              "1.3.6.1.4.1.14519.5.2.1.6919.4624.3199563140210...      CT Image Storage   \n",
              "1.3.6.1.4.1.14519.5.2.1.6919.4624.2414743841287...      CT Image Storage   \n",
              "\n",
              "                                                                  SOP Class Name  \\\n",
              "1.2.276.0.7230010.3.1.3.0.74366.1588583084.764537   1.2.840.10008.5.1.4.1.1.66.4   \n",
              "1.3.6.1.4.1.14519.5.2.1.6919.4624.3135142013537...     1.2.840.10008.5.1.4.1.1.2   \n",
              "1.2.276.0.7230010.3.1.3.0.74416.1588583149.544409   1.2.840.10008.5.1.4.1.1.66.4   \n",
              "1.3.6.1.4.1.14519.5.2.1.6919.4624.3199563140210...     1.2.840.10008.5.1.4.1.1.2   \n",
              "1.3.6.1.4.1.14519.5.2.1.6919.4624.2414743841287...     1.2.840.10008.5.1.4.1.1.2   \n",
              "\n",
              "                                                    SOP Class UID  \\\n",
              "1.2.276.0.7230010.3.1.3.0.74366.1588583084.764537               1   \n",
              "1.3.6.1.4.1.14519.5.2.1.6919.4624.3135142013537...             93   \n",
              "1.2.276.0.7230010.3.1.3.0.74416.1588583149.544409               1   \n",
              "1.3.6.1.4.1.14519.5.2.1.6919.4624.3199563140210...            154   \n",
              "1.3.6.1.4.1.14519.5.2.1.6919.4624.2414743841287...            102   \n",
              "\n",
              "                                                    Number of Images  \\\n",
              "1.2.276.0.7230010.3.1.3.0.74366.1588583084.764537                 40   \n",
              "1.3.6.1.4.1.14519.5.2.1.6919.4624.3135142013537...                49   \n",
              "1.2.276.0.7230010.3.1.3.0.74416.1588583149.544409                 40   \n",
              "1.3.6.1.4.1.14519.5.2.1.6919.4624.3199563140210...                81   \n",
              "1.3.6.1.4.1.14519.5.2.1.6919.4624.2414743841287...                53   \n",
              "\n",
              "                                                   File Size  \\\n",
              "1.2.276.0.7230010.3.1.3.0.74366.1588583084.764537      82 MB   \n",
              "1.3.6.1.4.1.14519.5.2.1.6919.4624.3135142013537...     10 MB   \n",
              "1.2.276.0.7230010.3.1.3.0.74416.1588583149.544409      22 MB   \n",
              "1.3.6.1.4.1.14519.5.2.1.6919.4624.3199563140210...     33 MB   \n",
              "1.3.6.1.4.1.14519.5.2.1.6919.4624.2414743841287...     85 MB   \n",
              "\n",
              "                                                                                        File Location  \\\n",
              "1.2.276.0.7230010.3.1.3.0.74366.1588583084.764537   .\\C4KC-KiTS\\KiTS-00000\\06-29-2003-NA-threephas...   \n",
              "1.3.6.1.4.1.14519.5.2.1.6919.4624.3135142013537...  .\\C4KC-KiTS\\KiTS-00000\\06-29-2003-NA-threephas...   \n",
              "1.2.276.0.7230010.3.1.3.0.74416.1588583149.544409   .\\C4KC-KiTS\\KiTS-00001\\11-13-2003-NA-threephas...   \n",
              "1.3.6.1.4.1.14519.5.2.1.6919.4624.3199563140210...  .\\C4KC-KiTS\\KiTS-00000\\06-29-2003-NA-threephas...   \n",
              "1.3.6.1.4.1.14519.5.2.1.6919.4624.2414743841287...  .\\C4KC-KiTS\\KiTS-00001\\11-13-2003-NA-threephas...   \n",
              "\n",
              "                                                         Download Timestamp  \n",
              "1.2.276.0.7230010.3.1.3.0.74366.1588583084.764537   2022-06-28T15:44:47.459  \n",
              "1.3.6.1.4.1.14519.5.2.1.6919.4624.3135142013537...  2022-06-28T15:45:26.965  \n",
              "1.2.276.0.7230010.3.1.3.0.74416.1588583149.544409   2022-06-28T15:46:01.505  \n",
              "1.3.6.1.4.1.14519.5.2.1.6919.4624.3199563140210...  2022-06-28T15:47:15.449  \n",
              "1.3.6.1.4.1.14519.5.2.1.6919.4624.2414743841287...  2022-06-28T15:48:48.813  "
            ]
          },
          "execution_count": 9,
          "metadata": {},
          "output_type": "execute_result"
        }
      ],
      "source": [
        "dirrec = '/datasets/data/metadata.csv'\n",
        "data_reading = pd.read_csv(dirrec, index_col=0)\n",
        "data_reading.head(5)\n"
      ]
    },
    {
      "cell_type": "code",
      "execution_count": null,
      "metadata": {
        "id": "BvCFeeF6Acp0",
        "outputId": "d1f43120-064d-4ea0-e3de-b2db5cef8aa1"
      },
      "outputs": [
        {
          "data": {
            "text/plain": [
              "Series UID               object\n",
              "Collection              float64\n",
              "3rd Party Analysis       object\n",
              "Data Description URI     object\n",
              "Subject ID               object\n",
              "Study UID                object\n",
              "Study Description        object\n",
              "Study Date               object\n",
              "Series Description       object\n",
              "Manufacturer             object\n",
              "Modality                 object\n",
              "SOP Class Name           object\n",
              "SOP Class UID             int64\n",
              "Number of Images          int64\n",
              "File Size                object\n",
              "File Location            object\n",
              "Download Timestamp       object\n",
              "dtype: object"
            ]
          },
          "execution_count": 10,
          "metadata": {},
          "output_type": "execute_result"
        }
      ],
      "source": [
        "data_reading.dtypes"
      ]
    },
    {
      "cell_type": "code",
      "execution_count": null,
      "metadata": {
        "id": "RmOATLAUAcp9",
        "outputId": "e932db28-1bd9-47ff-d3e5-b0e26c1a00b2"
      },
      "outputs": [
        {
          "name": "stdout",
          "output_type": "stream",
          "text": [
            "Requirement already satisfied: pydicom in /usr/local/lib/python3.7/site-packages (2.3.0)\n",
            "\u001b[33mWARNING: You are using pip version 22.0.4; however, version 22.2.2 is available.\n",
            "You should consider upgrading via the '/root/venv/bin/python -m pip install --upgrade pip' command.\u001b[0m\u001b[33m\n",
            "\u001b[0m"
          ]
        }
      ],
      "source": [
        "!pip install pydicom"
      ]
    },
    {
      "cell_type": "code",
      "execution_count": null,
      "metadata": {
        "id": "WqCtUztIAcp_",
        "outputId": "7f7db97d-6a9e-419d-d145-1ca643aaf1a9"
      },
      "outputs": [
        {
          "data": {
            "text/plain": [
              "Dataset.file_meta -------------------------------\n",
              "(0002, 0000) File Meta Information Group Length  UL: 206\n",
              "(0002, 0001) File Meta Information Version       OB: b'\\x00\\x01'\n",
              "(0002, 0002) Media Storage SOP Class UID         UI: CT Image Storage\n",
              "(0002, 0003) Media Storage SOP Instance UID      UI: 1.3.6.1.4.1.14519.5.2.1.6919.4624.302693755253199226108824913410\n",
              "(0002, 0010) Transfer Syntax UID                 UI: Explicit VR Little Endian\n",
              "(0002, 0012) Implementation Class UID            UI: 1.3.6.1.4.1.22213.1.143\n",
              "(0002, 0013) Implementation Version Name         SH: '0.5'\n",
              "(0002, 0016) Source Application Entity Title     AE: 'POSDA'\n",
              "-------------------------------------------------\n",
              "(0008, 0005) Specific Character Set              CS: 'ISO_IR 100'\n",
              "(0008, 0008) Image Type                          CS: ['ORIGINAL', 'PRIMARY', 'AXIAL', 'CT_SOM5 SPI']\n",
              "(0008, 0016) SOP Class UID                       UI: CT Image Storage\n",
              "(0008, 0018) SOP Instance UID                    UI: 1.3.6.1.4.1.14519.5.2.1.6919.4624.302693755253199226108824913410\n",
              "(0008, 0020) Study Date                          DA: '20030629'\n",
              "(0008, 0021) Series Date                         DA: '20030629'\n",
              "(0008, 0022) Acquisition Date                    DA: '20030629'\n",
              "(0008, 0023) Content Date                        DA: '20030629'\n",
              "(0008, 002a) Acquisition DateTime                DT: '20030629082831.225000'\n",
              "(0008, 0030) Study Time                          TM: '081517.464000'\n",
              "(0008, 0031) Series Time                         TM: '084033.850000'\n",
              "(0008, 0032) Acquisition Time                    TM: '082831.225000'\n",
              "(0008, 0033) Content Time                        TM: '082831.225000'\n",
              "(0008, 0050) Accession Number                    SH: ''\n",
              "(0008, 0060) Modality                            CS: 'CT'\n",
              "(0008, 0070) Manufacturer                        LO: 'SIEMENS'\n",
              "(0008, 0090) Referring Physician's Name          PN: ''\n",
              "(0008, 1030) Study Description                   LO: 'three_phase__abdomen'\n",
              "(0008, 1032)  Procedure Code Sequence  1 item(s) ---- \n",
              "   (0008, 0100) Code Value                          SH: 'IMG240'\n",
              "   (0008, 0102) Coding Scheme Designator            SH: 'LOCAL'\n",
              "   (0008, 0104) Code Meaning                        LO: 'CT ABDOMEN/PELVIS ANGIO WO & W CONTRAST'\n",
              "   ---------\n",
              "(0008, 103e) Series Description                  LO: 'noncontrast'\n",
              "(0008, 1090) Manufacturer's Model Name           LO: 'SOMATOM Definition Flash'\n",
              "(0008, 1110)  Referenced Study Sequence  1 item(s) ---- \n",
              "   (0008, 1150) Referenced SOP Class UID            UI: Detached Study Management SOP Class\n",
              "   (0008, 1155) Referenced SOP Instance UID         UI: 1.3.6.1.4.1.14519.5.2.1.6919.4624.135173370342136417423953641748\n",
              "   ---------\n",
              "(0008, 1140)  Referenced Image Sequence  1 item(s) ---- \n",
              "   (0008, 1150) Referenced SOP Class UID            UI: CT Image Storage\n",
              "   (0008, 1155) Referenced SOP Instance UID         UI: 1.3.6.1.4.1.14519.5.2.1.6919.4624.214942283565524569875542116362\n",
              "   ---------\n",
              "(0008, 2112)  Source Image Sequence  1 item(s) ---- \n",
              "   (0008, 1150) Referenced SOP Class UID            UI: 1.3.12.2.1107.5.9.1\n",
              "   (0008, 1155) Referenced SOP Instance UID         UI: 1.3.6.1.4.1.14519.5.2.1.6919.4624.178642536710787361228717827239\n",
              "   ---------\n",
              "(0008, 3010) Irradiation Event UID               UI: 1.3.6.1.4.1.14519.5.2.1.6919.4624.178642536710787361228717827239\n",
              "(0010, 0010) Patient's Name                      PN: 'KiTS-00000'\n",
              "(0010, 0020) Patient ID                          LO: 'KiTS-00000'\n",
              "(0010, 0030) Patient's Birth Date                DA: ''\n",
              "(0010, 0040) Patient's Sex                       CS: 'F'\n",
              "(0010, 1010) Patient's Age                       AS: '049Y'\n",
              "(0012, 0050) Clinical Trial Time Point ID        LO: '-54'\n",
              "(0012, 0051) Clinical Trial Time Point Descripti ST: 'Days offset from surgery'\n",
              "(0012, 0052) Longitudinal Temporal Offset from E FD: -54.0\n",
              "(0012, 0053) Longitudinal Temporal Event Type    CS: 'SURGERY'\n",
              "(0012, 0062) Patient Identity Removed            CS: 'YES'\n",
              "(0012, 0063) De-identification Method            LO: 'Per DICOM PS 3.15 AnnexE. Details in 0012,0064'\n",
              "(0012, 0064)  De-identification Method Code Sequence  8 item(s) ---- \n",
              "   (0008, 0100) Code Value                          SH: '113100'\n",
              "   (0008, 0102) Coding Scheme Designator            SH: 'DCM'\n",
              "   (0008, 0104) Code Meaning                        LO: 'Basic Application Confidentiality Profile'\n",
              "   ---------\n",
              "   (0008, 0100) Code Value                          SH: '113101'\n",
              "   (0008, 0102) Coding Scheme Designator            SH: 'DCM'\n",
              "   (0008, 0104) Code Meaning                        LO: 'Clean Pixel Data Option'\n",
              "   ---------\n",
              "   (0008, 0100) Code Value                          SH: '113104'\n",
              "   (0008, 0102) Coding Scheme Designator            SH: 'DCM'\n",
              "   (0008, 0104) Code Meaning                        LO: 'Clean Structured Content Option'\n",
              "   ---------\n",
              "   (0008, 0100) Code Value                          SH: '113105'\n",
              "   (0008, 0102) Coding Scheme Designator            SH: 'DCM'\n",
              "   (0008, 0104) Code Meaning                        LO: 'Clean Descriptors Option'\n",
              "   ---------\n",
              "   (0008, 0100) Code Value                          SH: '113107'\n",
              "   (0008, 0102) Coding Scheme Designator            SH: 'DCM'\n",
              "   (0008, 0104) Code Meaning                        LO: 'Retain Longitudinal Temporal Information Modified Dates Option'\n",
              "   ---------\n",
              "   (0008, 0100) Code Value                          SH: '113108'\n",
              "   (0008, 0102) Coding Scheme Designator            SH: 'DCM'\n",
              "   (0008, 0104) Code Meaning                        LO: 'Retain Patient Characteristics Option'\n",
              "   ---------\n",
              "   (0008, 0100) Code Value                          SH: '113109'\n",
              "   (0008, 0102) Coding Scheme Designator            SH: 'DCM'\n",
              "   (0008, 0104) Code Meaning                        LO: 'Retain Device Identity Option'\n",
              "   ---------\n",
              "   (0008, 0100) Code Value                          SH: '113111'\n",
              "   (0008, 0102) Coding Scheme Designator            SH: 'DCM'\n",
              "   (0008, 0104) Code Meaning                        LO: 'Retain Safe Private Option'\n",
              "   ---------\n",
              "(0013, 0010) Private Creator                     LO: 'CTP'\n",
              "(0013, 1010) Private tag data                    LO: 'C4KC-KiTS'\n",
              "(0013, 1013) Private tag data                    LO: '69194624'\n",
              "(0018, 0015) Body Part Examined                  CS: 'ABDOMEN'\n",
              "(0018, 0050) Slice Thickness                     DS: '5.0'\n",
              "(0018, 0060) KVP                                 DS: '120.0'\n",
              "(0018, 0090) Data Collection Diameter            DS: '500.0'\n",
              "(0018, 1020) Software Versions                   LO: 'syngo CT 2012B'\n",
              "(0018, 1030) Protocol Name                       LO: 'Renal_Donor'\n",
              "(0018, 1100) Reconstruction Diameter             DS: '474.0'\n",
              "(0018, 1110) Distance Source to Detector         DS: '1085.6'\n",
              "(0018, 1111) Distance Source to Patient          DS: '595.0'\n",
              "(0018, 1120) Gantry/Detector Tilt                DS: '0.0'\n",
              "(0018, 1130) Table Height                        DS: '174.5'\n",
              "(0018, 1140) Rotation Direction                  CS: 'CW'\n",
              "(0018, 1150) Exposure Time                       IS: '500'\n",
              "(0018, 1151) X-Ray Tube Current                  IS: '327'\n",
              "(0018, 1152) Exposure                            IS: '204'\n",
              "(0018, 1160) Filter Type                         SH: 'WEDGE_3'\n",
              "(0018, 1170) Generator Power                     IS: '60'\n",
              "(0018, 1190) Focal Spot(s)                       DS: '1.2'\n",
              "(0018, 1200) Date of Last Calibration            DA: '20030629'\n",
              "(0018, 1201) Time of Last Calibration            TM: ''\n",
              "(0018, 1210) Convolution Kernel                  SH: ['I30f', '1']\n",
              "(0018, 5100) Patient Position                    CS: 'HFS'\n",
              "(0018, 9306) Single Collimation Width            FD: 0.6\n",
              "(0018, 9307) Total Collimation Width             FD: 38.4\n",
              "(0018, 9309) Table Speed                         FD: 61.4\n",
              "(0018, 9310) Table Feed per Rotation             FD: 30.7\n",
              "(0018, 9311) Spiral Pitch Factor                 FD: 0.8\n",
              "(0018, 9313) Data Collection Center (Patient)    FD: [0.462890625, -174.037109375, -619.7]\n",
              "(0018, 9318) Reconstruction Target Center (Patie FD: [-10.537109375, -174.037109375, -619.7]\n",
              "(0018, 9323) Exposure Modulation Type            CS: 'XYZ_EC'\n",
              "(0018, 9324) Estimated Dose Saving               FD: 37.0\n",
              "(0018, 9345) CTDIvol                             FD: 13.79763270879479\n",
              "(0018, 9346)  CTDI Phantom Type Code Sequence  1 item(s) ---- \n",
              "   (0008, 0100) Code Value                          SH: '113691'\n",
              "   (0008, 0102) Coding Scheme Designator            SH: 'DCM'\n",
              "   (0008, 0104) Code Meaning                        LO: 'IEC Body Dosimetry Phantom'\n",
              "   ---------\n",
              "(0018, 9352) Calcium Scoring Mass Factor Device  FL: [0.7429999709129333, 0.7789999842643738, 0.8119999766349792]\n",
              "(0020, 000d) Study Instance UID                  UI: 1.3.6.1.4.1.14519.5.2.1.6919.4624.135173370342136417423953641748\n",
              "(0020, 000e) Series Instance UID                 UI: 1.3.6.1.4.1.14519.5.2.1.6919.4624.313514201353787659031503464798\n",
              "(0020, 0010) Study ID                            SH: ''\n",
              "(0020, 0011) Series Number                       IS: '5'\n",
              "(0020, 0012) Acquisition Number                  IS: '2'\n",
              "(0020, 0013) Instance Number                     IS: '1'\n",
              "(0020, 0032) Image Position (Patient)            DS: [-247.537109375, -411.037109375, -619.7]\n",
              "(0020, 0037) Image Orientation (Patient)         DS: [1, 0, 0, 0, 1, 0]\n",
              "(0020, 0052) Frame of Reference UID              UI: 1.3.6.1.4.1.14519.5.2.1.6919.4624.331165373619380811556256694147\n",
              "(0020, 1040) Position Reference Indicator        LO: ''\n",
              "(0020, 1041) Slice Location                      DS: '-619.7'\n",
              "(0020, 4000) Image Comments                      LT: ''\n",
              "(0028, 0002) Samples per Pixel                   US: 1\n",
              "(0028, 0004) Photometric Interpretation          CS: 'MONOCHROME2'\n",
              "(0028, 0010) Rows                                US: 512\n",
              "(0028, 0011) Columns                             US: 512\n",
              "(0028, 0030) Pixel Spacing                       DS: [0.92578125, 0.92578125]\n",
              "(0028, 0100) Bits Allocated                      US: 16\n",
              "(0028, 0101) Bits Stored                         US: 12\n",
              "(0028, 0102) High Bit                            US: 11\n",
              "(0028, 0103) Pixel Representation                US: 0\n",
              "(0028, 0106) Smallest Image Pixel Value          US: 0\n",
              "(0028, 0107) Largest Image Pixel Value           US: 2168\n",
              "(0028, 0303) Longitudinal Temporal Information M CS: 'MODIFIED'\n",
              "(0028, 1050) Window Center                       DS: [30, 300]\n",
              "(0028, 1051) Window Width                        DS: [350, 1500]\n",
              "(0028, 1052) Rescale Intercept                   DS: '-1024.0'\n",
              "(0028, 1053) Rescale Slope                       DS: '1.0'\n",
              "(0028, 1054) Rescale Type                        LO: 'HU'\n",
              "(0028, 1055) Window Center & Width Explanation   LO: ['WINDOW1', 'WINDOW2']\n",
              "(0032, 1060) Requested Procedure Description     LO: 'CT PELVIS ANGIO W/O & W CONTRAST'\n",
              "(0032, 1064)  Requested Procedure Code Sequence  1 item(s) ---- \n",
              "   (0008, 0100) Code Value                          SH: 'IMG216'\n",
              "   (0008, 0102) Coding Scheme Designator            SH: 'LOCAL'\n",
              "   (0008, 0104) Code Meaning                        LO: 'CT PELVIS ANGIO W/O & W CONTRAST'\n",
              "   ---------\n",
              "(7fe0, 0010) Pixel Data                          OW: Array of 524288 elements"
            ]
          },
          "execution_count": 10,
          "metadata": {},
          "output_type": "execute_result"
        }
      ],
      "source": [
        "dirr = '/work/kidney_proyect/data/raw/1-01.dcm'\n",
        "ds = pydicom.dcmread(dirr)\n",
        "ds"
      ]
    },
    {
      "cell_type": "code",
      "execution_count": null,
      "metadata": {
        "id": "hESmPSn3AcqA"
      },
      "outputs": [],
      "source": [
        "import matplotlib as plt\n",
        "from matplotlib import pyplot\n"
      ]
    },
    {
      "cell_type": "code",
      "execution_count": null,
      "metadata": {
        "colab": {
          "base_uri": "https://localhost:8080/",
          "height": 183
        },
        "id": "4nPPpr69AcqC",
        "outputId": "09ef8713-b102-4914-8665-1ca12801fca3"
      },
      "outputs": [
        {
          "ename": "NameError",
          "evalue": "ignored",
          "output_type": "error",
          "traceback": [
            "\u001b[0;31m---------------------------------------------------------------------------\u001b[0m",
            "\u001b[0;31mNameError\u001b[0m                                 Traceback (most recent call last)",
            "\u001b[0;32m<ipython-input-4-df7ca589c702>\u001b[0m in \u001b[0;36m<module>\u001b[0;34m\u001b[0m\n\u001b[0;32m----> 1\u001b[0;31m \u001b[0mpyplot\u001b[0m\u001b[0;34m.\u001b[0m\u001b[0mimshow\u001b[0m\u001b[0;34m(\u001b[0m\u001b[0mds\u001b[0m\u001b[0;34m.\u001b[0m\u001b[0mpixel_array\u001b[0m\u001b[0;34m,\u001b[0m\u001b[0mcmap\u001b[0m\u001b[0;34m=\u001b[0m\u001b[0mpyplot\u001b[0m\u001b[0;34m.\u001b[0m\u001b[0mcm\u001b[0m\u001b[0;34m.\u001b[0m\u001b[0mbone\u001b[0m\u001b[0;34m)\u001b[0m\u001b[0;34m\u001b[0m\u001b[0;34m\u001b[0m\u001b[0m\n\u001b[0m\u001b[1;32m      2\u001b[0m \u001b[0mpyplot\u001b[0m\u001b[0;34m.\u001b[0m\u001b[0mshow\u001b[0m\u001b[0;34m(\u001b[0m\u001b[0;34m)\u001b[0m\u001b[0;34m\u001b[0m\u001b[0;34m\u001b[0m\u001b[0m\n",
            "\u001b[0;31mNameError\u001b[0m: name 'ds' is not defined"
          ]
        }
      ],
      "source": [
        "pyplot.imshow(ds.pixel_array,cmap=pyplot.cm.bone)\n",
        "pyplot.show()"
      ]
    },
    {
      "cell_type": "code",
      "execution_count": null,
      "metadata": {
        "id": "taVNh0cxAcqE",
        "outputId": "2e5b8fae-5fd6-49f4-aeb2-7c9f42744bd7"
      },
      "outputs": [
        {
          "data": {
            "image/png": "[encoded data removed]",
            "text/plain": [
              "<Figure size 432x288 with 1 Axes>"
            ]
          },
          "metadata": {
            "image/png": {
              "height": 252,
              "width": 262
            }
          },
          "output_type": "display_data"
        }
      ],
      "source": [
        "dirr = '/work/kidney_proyect/data/raw/1-01-arterial.dcm'\n",
        "ds = pydicom.dcmread(dirr)\n",
        "\n",
        "pyplot.imshow(ds.pixel_array,cmap=pyplot.cm.bone)\n",
        "pyplot.show()"
      ]
    },
    {
      "cell_type": "code",
      "execution_count": null,
      "metadata": {
        "id": "oImQDAuOAcqF",
        "outputId": "e81607ef-8e2c-44c9-ef63-8b6da84942ae"
      },
      "outputs": [
        {
          "data": {
            "image/png": "[encoded data removed]",
            "text/plain": [
              "<Figure size 432x288 with 1 Axes>"
            ]
          },
          "metadata": {
            "image/png": {
              "height": 252,
              "width": 262
            }
          },
          "output_type": "display_data"
        }
      ],
      "source": [
        "dirr = '/work/kidney_proyect/data/raw/1-01-late.dcm'\n",
        "ds = pydicom.dcmread(dirr)\n",
        "\n",
        "pyplot.imshow(ds.pixel_array,cmap=pyplot.cm.bone)\n",
        "pyplot.show()"
      ]
    },
    {
      "cell_type": "code",
      "execution_count": null,
      "metadata": {
        "id": "1C7yT_Y4AcqG",
        "outputId": "1b321487-11ca-404e-f6c7-759060bb36da"
      },
      "outputs": [
        {
          "data": {
            "image/png": "[encoded data removed]",
            "text/plain": [
              "<Figure size 432x288 with 1 Axes>"
            ]
          },
          "metadata": {
            "image/png": {
              "height": 252,
              "width": 262
            }
          },
          "output_type": "display_data"
        }
      ],
      "source": [
        "dirr = '/work/kidney_proyect/data/raw/1-01-late.dcm'\n",
        "ds = pydicom.dcmread(dirr)\n",
        "\n",
        "pyplot.imshow(ds.pixel_array,cmap=pyplot.cm.bone)\n",
        "pyplot.show()"
      ]
    },
    {
      "cell_type": "code",
      "execution_count": null,
      "metadata": {
        "id": "keIWd2d3AcqG",
        "outputId": "93e995df-5e45-483f-e25b-3fcbf9962a84"
      },
      "outputs": [
        {
          "ename": "ValueError",
          "evalue": "cannot reshape array of size 1 into shape (1,512,512)",
          "output_type": "error",
          "traceback": [
            "\u001b[0;31m---------------------------------------------------------------------------\u001b[0m",
            "\u001b[0;31mValueError\u001b[0m                                Traceback (most recent call last)",
            "\u001b[0;32m/tmp/ipykernel_75/3905659523.py\u001b[0m in \u001b[0;36m<module>\u001b[0;34m\u001b[0m\n\u001b[1;32m      2\u001b[0m \u001b[0mds\u001b[0m \u001b[0;34m=\u001b[0m \u001b[0mpydicom\u001b[0m\u001b[0;34m.\u001b[0m\u001b[0mdcmread\u001b[0m\u001b[0;34m(\u001b[0m\u001b[0mdirr\u001b[0m\u001b[0;34m)\u001b[0m\u001b[0;34m\u001b[0m\u001b[0;34m\u001b[0m\u001b[0m\n\u001b[1;32m      3\u001b[0m \u001b[0;34m\u001b[0m\u001b[0m\n\u001b[0;32m----> 4\u001b[0;31m \u001b[0mimage\u001b[0m \u001b[0;34m=\u001b[0m \u001b[0mnp\u001b[0m\u001b[0;34m.\u001b[0m\u001b[0mreshape\u001b[0m\u001b[0;34m(\u001b[0m\u001b[0mds\u001b[0m\u001b[0;34m,\u001b[0m\u001b[0;34m(\u001b[0m\u001b[0;36m1\u001b[0m\u001b[0;34m,\u001b[0m\u001b[0;36m512\u001b[0m\u001b[0;34m,\u001b[0m\u001b[0;36m512\u001b[0m\u001b[0;34m)\u001b[0m\u001b[0;34m)\u001b[0m\u001b[0;34m\u001b[0m\u001b[0;34m\u001b[0m\u001b[0m\n\u001b[0m\u001b[1;32m      5\u001b[0m \u001b[0mpyplot\u001b[0m\u001b[0;34m.\u001b[0m\u001b[0mimshow\u001b[0m\u001b[0;34m(\u001b[0m\u001b[0mds\u001b[0m\u001b[0;34m.\u001b[0m\u001b[0mpixel_array\u001b[0m\u001b[0;34m,\u001b[0m\u001b[0mcmap\u001b[0m\u001b[0;34m=\u001b[0m\u001b[0mpyplot\u001b[0m\u001b[0;34m.\u001b[0m\u001b[0mcm\u001b[0m\u001b[0;34m.\u001b[0m\u001b[0mbone\u001b[0m\u001b[0;34m)\u001b[0m\u001b[0;34m\u001b[0m\u001b[0;34m\u001b[0m\u001b[0m\n\u001b[1;32m      6\u001b[0m \u001b[0mpyplot\u001b[0m\u001b[0;34m.\u001b[0m\u001b[0mshow\u001b[0m\u001b[0;34m(\u001b[0m\u001b[0;34m)\u001b[0m\u001b[0;34m\u001b[0m\u001b[0;34m\u001b[0m\u001b[0m\n",
            "\u001b[0;32m<__array_function__ internals>\u001b[0m in \u001b[0;36mreshape\u001b[0;34m(*args, **kwargs)\u001b[0m\n",
            "\u001b[0;32m/shared-libs/python3.7/py/lib/python3.7/site-packages/numpy/core/fromnumeric.py\u001b[0m in \u001b[0;36mreshape\u001b[0;34m(a, newshape, order)\u001b[0m\n\u001b[1;32m    296\u001b[0m            [5, 6]])\n\u001b[1;32m    297\u001b[0m     \"\"\"\n\u001b[0;32m--> 298\u001b[0;31m     \u001b[0;32mreturn\u001b[0m \u001b[0m_wrapfunc\u001b[0m\u001b[0;34m(\u001b[0m\u001b[0ma\u001b[0m\u001b[0;34m,\u001b[0m \u001b[0;34m'reshape'\u001b[0m\u001b[0;34m,\u001b[0m \u001b[0mnewshape\u001b[0m\u001b[0;34m,\u001b[0m \u001b[0morder\u001b[0m\u001b[0;34m=\u001b[0m\u001b[0morder\u001b[0m\u001b[0;34m)\u001b[0m\u001b[0;34m\u001b[0m\u001b[0;34m\u001b[0m\u001b[0m\n\u001b[0m\u001b[1;32m    299\u001b[0m \u001b[0;34m\u001b[0m\u001b[0m\n\u001b[1;32m    300\u001b[0m \u001b[0;34m\u001b[0m\u001b[0m\n",
            "\u001b[0;32m/shared-libs/python3.7/py/lib/python3.7/site-packages/numpy/core/fromnumeric.py\u001b[0m in \u001b[0;36m_wrapfunc\u001b[0;34m(obj, method, *args, **kwds)\u001b[0m\n\u001b[1;32m     52\u001b[0m     \u001b[0mbound\u001b[0m \u001b[0;34m=\u001b[0m \u001b[0mgetattr\u001b[0m\u001b[0;34m(\u001b[0m\u001b[0mobj\u001b[0m\u001b[0;34m,\u001b[0m \u001b[0mmethod\u001b[0m\u001b[0;34m,\u001b[0m \u001b[0;32mNone\u001b[0m\u001b[0;34m)\u001b[0m\u001b[0;34m\u001b[0m\u001b[0;34m\u001b[0m\u001b[0m\n\u001b[1;32m     53\u001b[0m     \u001b[0;32mif\u001b[0m \u001b[0mbound\u001b[0m \u001b[0;32mis\u001b[0m \u001b[0;32mNone\u001b[0m\u001b[0;34m:\u001b[0m\u001b[0;34m\u001b[0m\u001b[0;34m\u001b[0m\u001b[0m\n\u001b[0;32m---> 54\u001b[0;31m         \u001b[0;32mreturn\u001b[0m \u001b[0m_wrapit\u001b[0m\u001b[0;34m(\u001b[0m\u001b[0mobj\u001b[0m\u001b[0;34m,\u001b[0m \u001b[0mmethod\u001b[0m\u001b[0;34m,\u001b[0m \u001b[0;34m*\u001b[0m\u001b[0margs\u001b[0m\u001b[0;34m,\u001b[0m \u001b[0;34m**\u001b[0m\u001b[0mkwds\u001b[0m\u001b[0;34m)\u001b[0m\u001b[0;34m\u001b[0m\u001b[0;34m\u001b[0m\u001b[0m\n\u001b[0m\u001b[1;32m     55\u001b[0m \u001b[0;34m\u001b[0m\u001b[0m\n\u001b[1;32m     56\u001b[0m     \u001b[0;32mtry\u001b[0m\u001b[0;34m:\u001b[0m\u001b[0;34m\u001b[0m\u001b[0;34m\u001b[0m\u001b[0m\n",
            "\u001b[0;32m/shared-libs/python3.7/py/lib/python3.7/site-packages/numpy/core/fromnumeric.py\u001b[0m in \u001b[0;36m_wrapit\u001b[0;34m(obj, method, *args, **kwds)\u001b[0m\n\u001b[1;32m     41\u001b[0m     \u001b[0;32mexcept\u001b[0m \u001b[0mAttributeError\u001b[0m\u001b[0;34m:\u001b[0m\u001b[0;34m\u001b[0m\u001b[0;34m\u001b[0m\u001b[0m\n\u001b[1;32m     42\u001b[0m         \u001b[0mwrap\u001b[0m \u001b[0;34m=\u001b[0m \u001b[0;32mNone\u001b[0m\u001b[0;34m\u001b[0m\u001b[0;34m\u001b[0m\u001b[0m\n\u001b[0;32m---> 43\u001b[0;31m     \u001b[0mresult\u001b[0m \u001b[0;34m=\u001b[0m \u001b[0mgetattr\u001b[0m\u001b[0;34m(\u001b[0m\u001b[0masarray\u001b[0m\u001b[0;34m(\u001b[0m\u001b[0mobj\u001b[0m\u001b[0;34m)\u001b[0m\u001b[0;34m,\u001b[0m \u001b[0mmethod\u001b[0m\u001b[0;34m)\u001b[0m\u001b[0;34m(\u001b[0m\u001b[0;34m*\u001b[0m\u001b[0margs\u001b[0m\u001b[0;34m,\u001b[0m \u001b[0;34m**\u001b[0m\u001b[0mkwds\u001b[0m\u001b[0;34m)\u001b[0m\u001b[0;34m\u001b[0m\u001b[0;34m\u001b[0m\u001b[0m\n\u001b[0m\u001b[1;32m     44\u001b[0m     \u001b[0;32mif\u001b[0m \u001b[0mwrap\u001b[0m\u001b[0;34m:\u001b[0m\u001b[0;34m\u001b[0m\u001b[0;34m\u001b[0m\u001b[0m\n\u001b[1;32m     45\u001b[0m         \u001b[0;32mif\u001b[0m \u001b[0;32mnot\u001b[0m \u001b[0misinstance\u001b[0m\u001b[0;34m(\u001b[0m\u001b[0mresult\u001b[0m\u001b[0;34m,\u001b[0m \u001b[0mmu\u001b[0m\u001b[0;34m.\u001b[0m\u001b[0mndarray\u001b[0m\u001b[0;34m)\u001b[0m\u001b[0;34m:\u001b[0m\u001b[0;34m\u001b[0m\u001b[0;34m\u001b[0m\u001b[0m\n",
            "\u001b[0;31mValueError\u001b[0m: cannot reshape array of size 1 into shape (1,512,512)"
          ]
        }
      ],
      "source": [
        "dirr = '/work/kidney_proyect/data/raw/1-1.dcm'\n",
        "ds = pydicom.dcmread(dirr)\n",
        "\n",
        "image = np.reshape(ds,(1,512,512))\n",
        "pyplot.imshow(ds.pixel_array,cmap=pyplot.cm.bone)\n",
        "pyplot.show()"
      ]
    },
    {
      "cell_type": "code",
      "execution_count": null,
      "metadata": {
        "id": "g25G43JIAcqH",
        "outputId": "40adf389-b575-40af-c23e-ebfa7775c609"
      },
      "outputs": [
        {
          "ename": "AttributeError",
          "evalue": "module 'matplotlib' has no attribute 'subplot'",
          "output_type": "error",
          "traceback": [
            "\u001b[0;31m---------------------------------------------------------------------------\u001b[0m",
            "\u001b[0;31mAttributeError\u001b[0m                            Traceback (most recent call last)",
            "\u001b[0;32m<ipython-input-27-c3ad44698abd>\u001b[0m in \u001b[0;36m<module>\u001b[0;34m\u001b[0m\n\u001b[1;32m      3\u001b[0m \u001b[0;34m\u001b[0m\u001b[0m\n\u001b[1;32m      4\u001b[0m     \u001b[0;31m# define subplot\u001b[0m\u001b[0;34m\u001b[0m\u001b[0;34m\u001b[0m\u001b[0;34m\u001b[0m\u001b[0m\n\u001b[0;32m----> 5\u001b[0;31m     \u001b[0mplt\u001b[0m\u001b[0;34m.\u001b[0m\u001b[0msubplot\u001b[0m\u001b[0;34m(\u001b[0m\u001b[0;36m330\u001b[0m \u001b[0;34m+\u001b[0m \u001b[0;36m1\u001b[0m \u001b[0;34m+\u001b[0m \u001b[0mi\u001b[0m\u001b[0;34m)\u001b[0m\u001b[0;34m\u001b[0m\u001b[0;34m\u001b[0m\u001b[0m\n\u001b[0m\u001b[1;32m      6\u001b[0m \u001b[0;34m\u001b[0m\u001b[0m\n\u001b[1;32m      7\u001b[0m     \u001b[0;31m# generate batch of images\u001b[0m\u001b[0;34m\u001b[0m\u001b[0;34m\u001b[0m\u001b[0;34m\u001b[0m\u001b[0m\n",
            "\u001b[0;32m/shared-libs/python3.7/py/lib/python3.7/site-packages/matplotlib/_api/__init__.py\u001b[0m in \u001b[0;36m__getattr__\u001b[0;34m(name)\u001b[0m\n\u001b[1;32m    221\u001b[0m             \u001b[0;32mreturn\u001b[0m \u001b[0mprops\u001b[0m\u001b[0;34m[\u001b[0m\u001b[0mname\u001b[0m\u001b[0;34m]\u001b[0m\u001b[0;34m.\u001b[0m\u001b[0m__get__\u001b[0m\u001b[0;34m(\u001b[0m\u001b[0minstance\u001b[0m\u001b[0;34m)\u001b[0m\u001b[0;34m\u001b[0m\u001b[0;34m\u001b[0m\u001b[0m\n\u001b[1;32m    222\u001b[0m         raise AttributeError(\n\u001b[0;32m--> 223\u001b[0;31m             f\"module {cls.__module__!r} has no attribute {name!r}\")\n\u001b[0m\u001b[1;32m    224\u001b[0m \u001b[0;34m\u001b[0m\u001b[0m\n\u001b[1;32m    225\u001b[0m     \u001b[0;32mreturn\u001b[0m \u001b[0m__getattr__\u001b[0m\u001b[0;34m\u001b[0m\u001b[0;34m\u001b[0m\u001b[0m\n",
            "\u001b[0;31mAttributeError\u001b[0m: module 'matplotlib' has no attribute 'subplot'"
          ]
        }
      ],
      "source": [
        "#ite = datagen.flow_from_directory(\"Car Images\", batch_size=1)\n",
        "for i in range(9):\n",
        "\n",
        "    # define subplot\n",
        "    plt.subplot(330 + 1 + i)\n",
        "\n",
        "    # generate batch of images\n",
        "    batch = ds.next()\n",
        "\n",
        "    # convert to unsigned integers for viewing\n",
        "    image = batch[0].astype('uint8')\n",
        "\n",
        "    image = np.reshape(256,256,3)\n",
        "\n",
        "    # plot raw pixel data\n",
        "    plt.imshow(image)\n",
        "\n",
        "# show the figure\n",
        "plt.show()"
      ]
    },
    {
      "cell_type": "markdown",
      "metadata": {
        "id": "Ge0hYDMwAcqI"
      },
      "source": [
        "<a style='text-decoration:none;line-height:16px;display:flex;color:#5B5B62;padding:10px;justify-content:end;' href='https://deepnote.com?utm_source=created-in-deepnote-cell&projectId=910d14ef-cedd-454b-aa64-d4ae003c9997' target=\"_blank\">\n",
        "<img alt='Created in deepnote.com' style='display:inline;max-height:16px;margin:0px;margin-right:7.5px;' src='data:image/svg+xml;base64,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' > </img>\n",
        "Created in <span style='font-weight:600;margin-left:4px;'>Deepnote</span></a>"
      ]
    }
  ],
  "metadata": {
    "colab": {
      "name": "code_try.ipynb",
      "provenance": []
    },
    "deepnote": {},
    "deepnote_execution_queue": [],
    "deepnote_notebook_id": "19477159-b0fa-44bf-9ad6-ecbd6144946a",
    "gpuClass": "standard",
    "kernelspec": {
      "display_name": "Python 3.7.13 ('teoria_project')",
      "language": "python",
      "name": "python3"
    },
    "language_info": {
      "codemirror_mode": {
        "name": "ipython",
        "version": 3
      },
      "file_extension": ".py",
      "mimetype": "text/x-python",
      "name": "python",
      "nbconvert_exporter": "python",
      "pygments_lexer": "ipython3",
      "version": "3.7.13"
    },
    "vscode": {
      "interpreter": {
        "hash": "6c5d65d1977bb8778692838347490aab54933dd977593891dc90ff7321ab095d"
      }
    }
  },
  "nbformat": 4,
  "nbformat_minor": 0
}
