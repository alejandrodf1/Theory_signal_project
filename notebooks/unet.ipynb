{
 "cells": [
  {
   "cell_type": "markdown",
   "metadata": {},
   "source": [
    "# Kidney segmentation from CT images \n",
    "This project is about employing convolutional neural network to solve a segmentation problem, the network is going to be feed with a set of images of CT kidney. First, it is necessary to do a pre-processing of the images in two step proccesses:\n",
    "1. **Normalization of the intensities:** because the same regions of the kidneys can have very different intensities in different volumes.\n",
    "2. **Truncate volume intensities:** in range of [-200,500] Housefield Units to remove irrelevant details. \n",
    "## Unet\n",
    "Segmentation step is performed by U-Net architecture. \n",
    "![](/home/alejandrodf1/Documents/theory_project/teoria_project/references/unet.png) "
   ]
  },
  {
   "cell_type": "code",
   "execution_count": 4,
   "metadata": {},
   "outputs": [
    {
     "name": "stdout",
     "output_type": "stream",
     "text": [
      "The autoreload extension is already loaded. To reload it, use:\n",
      "  %reload_ext autoreload\n"
     ]
    }
   ],
   "source": [
    "%load_ext autoreload\n",
    "%autoreload 2"
   ]
  },
  {
   "cell_type": "code",
   "execution_count": 10,
   "metadata": {},
   "outputs": [],
   "source": [
    "import sys\n",
    "sys.path.insert(0,\"../teoria_project\")"
   ]
  },
  {
   "cell_type": "code",
   "execution_count": 16,
   "metadata": {},
   "outputs": [],
   "source": [
    "import torch.nn.functional as F\n",
    "import teoria_project.utils.paths as path\n",
    "from teoria_project.models import unet_parts\n",
    "from teoria_project.models.unet_parts import *\n",
    "#import teoria_project.utils.paths as path"
   ]
  },
  {
   "cell_type": "code",
   "execution_count": 18,
   "metadata": {},
   "outputs": [],
   "source": [
    "from teoria_project.models.unet_model import UNet"
   ]
  },
  {
   "cell_type": "code",
   "execution_count": null,
   "metadata": {},
   "outputs": [],
   "source": []
  },
  {
   "cell_type": "code",
   "execution_count": 1,
   "metadata": {},
   "outputs": [],
   "source": [
    "import os\n",
    "import torch\n",
    "import torch.nn as nn\n",
    "import torch.optim as optim\n",
    "import torch.nn.functional as F\n",
    "from torch.utils import data\n",
    "import torchvision.datasets as datasets\n",
    "import torchvision.transforms as transforms\n",
    "from tensorboardX import SummaryWriter"
   ]
  }
 ],
 "metadata": {
  "kernelspec": {
   "display_name": "Python 3.7.13 ('teoria_project')",
   "language": "python",
   "name": "python3"
  },
  "language_info": {
   "codemirror_mode": {
    "name": "ipython",
    "version": 3
   },
   "file_extension": ".py",
   "mimetype": "text/x-python",
   "name": "python",
   "nbconvert_exporter": "python",
   "pygments_lexer": "ipython3",
   "version": "3.7.13"
  },
  "orig_nbformat": 4,
  "vscode": {
   "interpreter": {
    "hash": "6c5d65d1977bb8778692838347490aab54933dd977593891dc90ff7321ab095d"
   }
  }
 },
 "nbformat": 4,
 "nbformat_minor": 2
}
